{
 "cells": [
  {
   "cell_type": "markdown",
   "metadata": {},
   "source": [
    "# Pandas Data Analysis Tutorial \n",
    "This tutorial will include basic data loading with pandas and the practical applications with data analysis in python. The first 2 topics will be brief and easy, while the tutorial will be focused on topic Applications in data analysis.\n",
    "All data will be taken from Quandl in csv files. Tutorial inspired by Jonathan Rocher's Pandas Tutorial SciPy Conference 2015.\n",
    "\n",
    "1. Loading Data\n",
    "    - Pd.csv_read and its parameters \n",
    "2. Built-in Commands for Modifying Data\n",
    "    - Selecting data \n",
    "3. Pandas DataStructures\n",
    "    - One-Dimension Series\n",
    "    - Two-Dimension DataFrames\n",
    "4. Applications in Data Analysis\n",
    "    - Capital Asset Price Model (CAPM)\n",
    "        - Visualization: Timeseries \n",
    "        - Rolling statistics \n",
    "        - Computation/statistic tools"
   ]
  },
  {
   "cell_type": "markdown",
   "metadata": {},
   "source": [
    "### Initial setup"
   ]
  },
  {
   "cell_type": "code",
   "execution_count": 37,
   "metadata": {
    "collapsed": false
   },
   "outputs": [],
   "source": [
    "import pandas as pd\n",
    "\n",
    "import datetime \n",
    "\n",
    "import numpy as np\n",
    "import matplotlib.pyplot as plt\n",
    "%matplotlib inline\n",
    "\n",
    "from pandas import set_option\n",
    "set_option(\"display.max_rows\", 16)"
   ]
  },
  {
   "cell_type": "markdown",
   "metadata": {},
   "source": [
    "## 1. Loading Data\n",
    "- There are many ways to load data using pandas and these are the file types that pandas take in. \n",
    "    - read_csv\n",
    "    - read_excel\n",
    "    - read_json\n",
    "    - read_html\n",
    "    - and many more\n",
    "    - for more information read: [Pandas Documentation](http://pandas.pydata.org/pandas-docs/stable/io.html)\n",
    "- we will only be talking about pd.read_csv since or examples will be provided in this format"
   ]
  },
  {
   "cell_type": "markdown",
   "metadata": {},
   "source": [
    "### Loading csv data files\n",
    "\n",
    "First of all what is a csv file? \n",
    "\n",
    "In short a CSV is a comma separated values file, which allows data to be saved in a table structured format. \n",
    "\n",
    "Read more: [Bigcommerce](https://support.bigcommerce.com/articles/Public/What-is-a-CSV-file-and-how-do-I-save-my-spreadsheet-as-one#what-csv)"
   ]
  },
  {
   "cell_type": "markdown",
   "metadata": {},
   "source": [
    "### Parameters of pd.read_csv\n",
    "- This command will show what parameters pd.read_csv takes and some explanation `pd.read_csv?`\n",
    "- `sep`\n",
    "- `engine`\n",
    "- `index_col`\n",
    "- `names`\n",
    "- `parse_dates`\n",
    "- `pd.read_csv?` will provide a better description of the parameters\n",
    "- For more read: [Pandas Documentation](http://pandas.pydata.org/pandas-docs/stable/generated/pandas.read_csv.html)"
   ]
  },
  {
   "cell_type": "code",
   "execution_count": 38,
   "metadata": {
    "collapsed": true
   },
   "outputs": [],
   "source": [
    "#simple description of the command \n",
    "pd.read_csv?"
   ]
  },
  {
   "cell_type": "markdown",
   "metadata": {},
   "source": [
    "### More on Parameters\n",
    "The parameters of `pd.read_csv` can modify the data to help you with a better visulization of your data.\n",
    "\n",
    "`parse_dates = True`: Will be used to modify the dates when the data is formated well. Or you can write functions(converters) to modify the values before getting parsed. Or to provide your own date parser, which is much more difficult.\n",
    "\n",
    "`engine = 'c'`: Will help pd.read_csv run much faster since it runs down to c level.\n",
    "\n",
    "`index_col`: Is used to decide which column you want to use as the index\n",
    "\n",
    "`sep`: Decides what variable is set to determine the seperation of data.\n",
    "\n",
    "**Example** `sep = ','`: for seperating commas, `sep = '\\s+'`: for seperating white spaces\n",
    "\n",
    "`name`: Will allow you to name your columns\n",
    "\n",
    "**Example** `name = ['Adj_Close','Adj_Open']`: Will name your first two columns to the strings you have typed\n",
    "\n",
    "Checking pd.read_csv will give you a prief description of what each paramter does. The parameters are great to use to modify data to a specific format you would need. \n",
    "\n",
    "Note: In our case our data taken from Quandl is neat and tidy so not much has to be modified. \n"
   ]
  },
  {
   "cell_type": "code",
   "execution_count": 39,
   "metadata": {
    "collapsed": false
   },
   "outputs": [
    {
     "data": {
      "text/html": [
       "<div>\n",
       "<table border=\"1\" class=\"dataframe\">\n",
       "  <thead>\n",
       "    <tr style=\"text-align: right;\">\n",
       "      <th></th>\n",
       "      <th>Date</th>\n",
       "      <th>Open</th>\n",
       "      <th>High</th>\n",
       "      <th>Low</th>\n",
       "      <th>Close</th>\n",
       "      <th>Volume</th>\n",
       "      <th>Dividend</th>\n",
       "      <th>Split</th>\n",
       "      <th>Adj_Open</th>\n",
       "      <th>Adj_High</th>\n",
       "      <th>Adj_Low</th>\n",
       "      <th>Adj_Close</th>\n",
       "      <th>Adj_Volume</th>\n",
       "    </tr>\n",
       "  </thead>\n",
       "  <tbody>\n",
       "    <tr>\n",
       "      <th>0</th>\n",
       "      <td>2016-04-15</td>\n",
       "      <td>62.88</td>\n",
       "      <td>62.900</td>\n",
       "      <td>61.450</td>\n",
       "      <td>61.87</td>\n",
       "      <td>19290257</td>\n",
       "      <td>0</td>\n",
       "      <td>1</td>\n",
       "      <td>62.880000</td>\n",
       "      <td>62.900000</td>\n",
       "      <td>61.450000</td>\n",
       "      <td>61.870000</td>\n",
       "      <td>19290257.0</td>\n",
       "    </tr>\n",
       "    <tr>\n",
       "      <th>1</th>\n",
       "      <td>2016-04-14</td>\n",
       "      <td>61.69</td>\n",
       "      <td>62.905</td>\n",
       "      <td>61.605</td>\n",
       "      <td>62.59</td>\n",
       "      <td>24246643</td>\n",
       "      <td>0</td>\n",
       "      <td>1</td>\n",
       "      <td>61.690000</td>\n",
       "      <td>62.905000</td>\n",
       "      <td>61.605000</td>\n",
       "      <td>62.590000</td>\n",
       "      <td>24246643.0</td>\n",
       "    </tr>\n",
       "    <tr>\n",
       "      <th>2</th>\n",
       "      <td>2016-04-13</td>\n",
       "      <td>60.48</td>\n",
       "      <td>62.160</td>\n",
       "      <td>60.380</td>\n",
       "      <td>61.79</td>\n",
       "      <td>37514234</td>\n",
       "      <td>0</td>\n",
       "      <td>1</td>\n",
       "      <td>60.480000</td>\n",
       "      <td>62.160000</td>\n",
       "      <td>60.380000</td>\n",
       "      <td>61.790000</td>\n",
       "      <td>37514234.0</td>\n",
       "    </tr>\n",
       "    <tr>\n",
       "      <th>3</th>\n",
       "      <td>2016-04-12</td>\n",
       "      <td>58.34</td>\n",
       "      <td>59.390</td>\n",
       "      <td>58.200</td>\n",
       "      <td>59.28</td>\n",
       "      <td>17755251</td>\n",
       "      <td>0</td>\n",
       "      <td>1</td>\n",
       "      <td>58.340000</td>\n",
       "      <td>59.390000</td>\n",
       "      <td>58.200000</td>\n",
       "      <td>59.280000</td>\n",
       "      <td>17755251.0</td>\n",
       "    </tr>\n",
       "    <tr>\n",
       "      <th>4</th>\n",
       "      <td>2016-04-11</td>\n",
       "      <td>57.91</td>\n",
       "      <td>58.880</td>\n",
       "      <td>57.910</td>\n",
       "      <td>58.20</td>\n",
       "      <td>17619280</td>\n",
       "      <td>0</td>\n",
       "      <td>1</td>\n",
       "      <td>57.910000</td>\n",
       "      <td>58.880000</td>\n",
       "      <td>57.910000</td>\n",
       "      <td>58.200000</td>\n",
       "      <td>17619280.0</td>\n",
       "    </tr>\n",
       "    <tr>\n",
       "      <th>5</th>\n",
       "      <td>2016-04-08</td>\n",
       "      <td>57.71</td>\n",
       "      <td>58.580</td>\n",
       "      <td>57.690</td>\n",
       "      <td>57.74</td>\n",
       "      <td>13547183</td>\n",
       "      <td>0</td>\n",
       "      <td>1</td>\n",
       "      <td>57.710000</td>\n",
       "      <td>58.580000</td>\n",
       "      <td>57.690000</td>\n",
       "      <td>57.740000</td>\n",
       "      <td>13547183.0</td>\n",
       "    </tr>\n",
       "    <tr>\n",
       "      <th>6</th>\n",
       "      <td>2016-04-07</td>\n",
       "      <td>58.26</td>\n",
       "      <td>58.430</td>\n",
       "      <td>57.065</td>\n",
       "      <td>57.32</td>\n",
       "      <td>19225724</td>\n",
       "      <td>0</td>\n",
       "      <td>1</td>\n",
       "      <td>58.260000</td>\n",
       "      <td>58.430000</td>\n",
       "      <td>57.065000</td>\n",
       "      <td>57.320000</td>\n",
       "      <td>19225724.0</td>\n",
       "    </tr>\n",
       "    <tr>\n",
       "      <th>7</th>\n",
       "      <td>2016-04-06</td>\n",
       "      <td>58.18</td>\n",
       "      <td>58.880</td>\n",
       "      <td>57.950</td>\n",
       "      <td>58.81</td>\n",
       "      <td>12163378</td>\n",
       "      <td>0</td>\n",
       "      <td>1</td>\n",
       "      <td>58.180000</td>\n",
       "      <td>58.880000</td>\n",
       "      <td>57.950000</td>\n",
       "      <td>58.810000</td>\n",
       "      <td>12163378.0</td>\n",
       "    </tr>\n",
       "    <tr>\n",
       "      <th>...</th>\n",
       "      <td>...</td>\n",
       "      <td>...</td>\n",
       "      <td>...</td>\n",
       "      <td>...</td>\n",
       "      <td>...</td>\n",
       "      <td>...</td>\n",
       "      <td>...</td>\n",
       "      <td>...</td>\n",
       "      <td>...</td>\n",
       "      <td>...</td>\n",
       "      <td>...</td>\n",
       "      <td>...</td>\n",
       "      <td>...</td>\n",
       "    </tr>\n",
       "    <tr>\n",
       "      <th>8134</th>\n",
       "      <td>1984-01-11</td>\n",
       "      <td>47.88</td>\n",
       "      <td>49.000</td>\n",
       "      <td>47.380</td>\n",
       "      <td>48.87</td>\n",
       "      <td>88400</td>\n",
       "      <td>0</td>\n",
       "      <td>1</td>\n",
       "      <td>2.744426</td>\n",
       "      <td>2.808623</td>\n",
       "      <td>2.715766</td>\n",
       "      <td>2.801171</td>\n",
       "      <td>397800.0</td>\n",
       "    </tr>\n",
       "    <tr>\n",
       "      <th>8135</th>\n",
       "      <td>1984-01-10</td>\n",
       "      <td>47.69</td>\n",
       "      <td>48.250</td>\n",
       "      <td>47.120</td>\n",
       "      <td>47.88</td>\n",
       "      <td>31800</td>\n",
       "      <td>0</td>\n",
       "      <td>1</td>\n",
       "      <td>2.734807</td>\n",
       "      <td>2.766920</td>\n",
       "      <td>2.702120</td>\n",
       "      <td>2.745703</td>\n",
       "      <td>143100.0</td>\n",
       "    </tr>\n",
       "    <tr>\n",
       "      <th>8136</th>\n",
       "      <td>1984-01-09</td>\n",
       "      <td>47.00</td>\n",
       "      <td>47.380</td>\n",
       "      <td>46.620</td>\n",
       "      <td>47.00</td>\n",
       "      <td>48067</td>\n",
       "      <td>0</td>\n",
       "      <td>1</td>\n",
       "      <td>2.699479</td>\n",
       "      <td>2.721304</td>\n",
       "      <td>2.677653</td>\n",
       "      <td>2.699479</td>\n",
       "      <td>216301.5</td>\n",
       "    </tr>\n",
       "    <tr>\n",
       "      <th>8137</th>\n",
       "      <td>1984-01-06</td>\n",
       "      <td>46.88</td>\n",
       "      <td>47.380</td>\n",
       "      <td>46.380</td>\n",
       "      <td>46.88</td>\n",
       "      <td>43200</td>\n",
       "      <td>0</td>\n",
       "      <td>1</td>\n",
       "      <td>2.690234</td>\n",
       "      <td>2.718927</td>\n",
       "      <td>2.661541</td>\n",
       "      <td>2.690234</td>\n",
       "      <td>194400.0</td>\n",
       "    </tr>\n",
       "    <tr>\n",
       "      <th>8138</th>\n",
       "      <td>1984-01-05</td>\n",
       "      <td>46.81</td>\n",
       "      <td>47.380</td>\n",
       "      <td>46.250</td>\n",
       "      <td>47.38</td>\n",
       "      <td>76467</td>\n",
       "      <td>0</td>\n",
       "      <td>1</td>\n",
       "      <td>2.685270</td>\n",
       "      <td>2.717968</td>\n",
       "      <td>2.653145</td>\n",
       "      <td>2.717968</td>\n",
       "      <td>344101.5</td>\n",
       "    </tr>\n",
       "    <tr>\n",
       "      <th>8139</th>\n",
       "      <td>1984-01-04</td>\n",
       "      <td>44.84</td>\n",
       "      <td>45.870</td>\n",
       "      <td>44.250</td>\n",
       "      <td>45.87</td>\n",
       "      <td>65000</td>\n",
       "      <td>0</td>\n",
       "      <td>1</td>\n",
       "      <td>2.575602</td>\n",
       "      <td>2.634765</td>\n",
       "      <td>2.541713</td>\n",
       "      <td>2.634765</td>\n",
       "      <td>292500.0</td>\n",
       "    </tr>\n",
       "    <tr>\n",
       "      <th>8140</th>\n",
       "      <td>1984-01-03</td>\n",
       "      <td>43.94</td>\n",
       "      <td>44.250</td>\n",
       "      <td>43.620</td>\n",
       "      <td>44.00</td>\n",
       "      <td>85667</td>\n",
       "      <td>0</td>\n",
       "      <td>1</td>\n",
       "      <td>2.520386</td>\n",
       "      <td>2.538168</td>\n",
       "      <td>2.502031</td>\n",
       "      <td>2.523828</td>\n",
       "      <td>385501.5</td>\n",
       "    </tr>\n",
       "    <tr>\n",
       "      <th>8141</th>\n",
       "      <td>1983-12-30</td>\n",
       "      <td>44.00</td>\n",
       "      <td>44.500</td>\n",
       "      <td>43.500</td>\n",
       "      <td>44.00</td>\n",
       "      <td>47000</td>\n",
       "      <td>0</td>\n",
       "      <td>1</td>\n",
       "      <td>2.523828</td>\n",
       "      <td>2.552507</td>\n",
       "      <td>2.495148</td>\n",
       "      <td>2.523828</td>\n",
       "      <td>211500.0</td>\n",
       "    </tr>\n",
       "  </tbody>\n",
       "</table>\n",
       "<p>8142 rows × 13 columns</p>\n",
       "</div>"
      ],
      "text/plain": [
       "            Date   Open    High     Low  Close    Volume  Dividend  Split  \\\n",
       "0     2016-04-15  62.88  62.900  61.450  61.87  19290257         0      1   \n",
       "1     2016-04-14  61.69  62.905  61.605  62.59  24246643         0      1   \n",
       "2     2016-04-13  60.48  62.160  60.380  61.79  37514234         0      1   \n",
       "3     2016-04-12  58.34  59.390  58.200  59.28  17755251         0      1   \n",
       "4     2016-04-11  57.91  58.880  57.910  58.20  17619280         0      1   \n",
       "5     2016-04-08  57.71  58.580  57.690  57.74  13547183         0      1   \n",
       "6     2016-04-07  58.26  58.430  57.065  57.32  19225724         0      1   \n",
       "7     2016-04-06  58.18  58.880  57.950  58.81  12163378         0      1   \n",
       "...          ...    ...     ...     ...    ...       ...       ...    ...   \n",
       "8134  1984-01-11  47.88  49.000  47.380  48.87     88400         0      1   \n",
       "8135  1984-01-10  47.69  48.250  47.120  47.88     31800         0      1   \n",
       "8136  1984-01-09  47.00  47.380  46.620  47.00     48067         0      1   \n",
       "8137  1984-01-06  46.88  47.380  46.380  46.88     43200         0      1   \n",
       "8138  1984-01-05  46.81  47.380  46.250  47.38     76467         0      1   \n",
       "8139  1984-01-04  44.84  45.870  44.250  45.87     65000         0      1   \n",
       "8140  1984-01-03  43.94  44.250  43.620  44.00     85667         0      1   \n",
       "8141  1983-12-30  44.00  44.500  43.500  44.00     47000         0      1   \n",
       "\n",
       "       Adj_Open   Adj_High    Adj_Low  Adj_Close  Adj_Volume  \n",
       "0     62.880000  62.900000  61.450000  61.870000  19290257.0  \n",
       "1     61.690000  62.905000  61.605000  62.590000  24246643.0  \n",
       "2     60.480000  62.160000  60.380000  61.790000  37514234.0  \n",
       "3     58.340000  59.390000  58.200000  59.280000  17755251.0  \n",
       "4     57.910000  58.880000  57.910000  58.200000  17619280.0  \n",
       "5     57.710000  58.580000  57.690000  57.740000  13547183.0  \n",
       "6     58.260000  58.430000  57.065000  57.320000  19225724.0  \n",
       "7     58.180000  58.880000  57.950000  58.810000  12163378.0  \n",
       "...         ...        ...        ...        ...         ...  \n",
       "8134   2.744426   2.808623   2.715766   2.801171    397800.0  \n",
       "8135   2.734807   2.766920   2.702120   2.745703    143100.0  \n",
       "8136   2.699479   2.721304   2.677653   2.699479    216301.5  \n",
       "8137   2.690234   2.718927   2.661541   2.690234    194400.0  \n",
       "8138   2.685270   2.717968   2.653145   2.717968    344101.5  \n",
       "8139   2.575602   2.634765   2.541713   2.634765    292500.0  \n",
       "8140   2.520386   2.538168   2.502031   2.523828    385501.5  \n",
       "8141   2.523828   2.552507   2.495148   2.523828    211500.0  \n",
       "\n",
       "[8142 rows x 13 columns]"
      ]
     },
     "execution_count": 39,
     "metadata": {},
     "output_type": "execute_result"
    }
   ],
   "source": [
    "JPM = pd.read_csv('https://www.quandl.com/api/v3/datasets/EOD/JPM.csv?auth_token=yugbnR9nu6UzyUTJtZaK', parse_dates = True,\n",
    "                  engine ='c', sep = ',')\n",
    "#Will only display up to 3 rows for better presentation of the tutorial\n",
    "#Note: JPM will display the entire set of Data\n",
    "JPM\n"
   ]
  },
  {
   "cell_type": "markdown",
   "metadata": {},
   "source": [
    "`index_col = 0` will make the first colemn the index colemn"
   ]
  },
  {
   "cell_type": "code",
   "execution_count": 40,
   "metadata": {
    "collapsed": false
   },
   "outputs": [
    {
     "data": {
      "text/html": [
       "<div>\n",
       "<table border=\"1\" class=\"dataframe\">\n",
       "  <thead>\n",
       "    <tr style=\"text-align: right;\">\n",
       "      <th></th>\n",
       "      <th>Open</th>\n",
       "      <th>High</th>\n",
       "      <th>Low</th>\n",
       "      <th>Close</th>\n",
       "      <th>Volume</th>\n",
       "      <th>Dividend</th>\n",
       "      <th>Split</th>\n",
       "      <th>Adj_Open</th>\n",
       "      <th>Adj_High</th>\n",
       "      <th>Adj_Low</th>\n",
       "      <th>Adj_Close</th>\n",
       "      <th>Adj_Volume</th>\n",
       "    </tr>\n",
       "    <tr>\n",
       "      <th>Date</th>\n",
       "      <th></th>\n",
       "      <th></th>\n",
       "      <th></th>\n",
       "      <th></th>\n",
       "      <th></th>\n",
       "      <th></th>\n",
       "      <th></th>\n",
       "      <th></th>\n",
       "      <th></th>\n",
       "      <th></th>\n",
       "      <th></th>\n",
       "      <th></th>\n",
       "    </tr>\n",
       "  </thead>\n",
       "  <tbody>\n",
       "    <tr>\n",
       "      <th>2016-04-15</th>\n",
       "      <td>62.88</td>\n",
       "      <td>62.900</td>\n",
       "      <td>61.450</td>\n",
       "      <td>61.87</td>\n",
       "      <td>19290257</td>\n",
       "      <td>0</td>\n",
       "      <td>1</td>\n",
       "      <td>62.88</td>\n",
       "      <td>62.900</td>\n",
       "      <td>61.450</td>\n",
       "      <td>61.87</td>\n",
       "      <td>19290257</td>\n",
       "    </tr>\n",
       "    <tr>\n",
       "      <th>2016-04-14</th>\n",
       "      <td>61.69</td>\n",
       "      <td>62.905</td>\n",
       "      <td>61.605</td>\n",
       "      <td>62.59</td>\n",
       "      <td>24246643</td>\n",
       "      <td>0</td>\n",
       "      <td>1</td>\n",
       "      <td>61.69</td>\n",
       "      <td>62.905</td>\n",
       "      <td>61.605</td>\n",
       "      <td>62.59</td>\n",
       "      <td>24246643</td>\n",
       "    </tr>\n",
       "    <tr>\n",
       "      <th>2016-04-13</th>\n",
       "      <td>60.48</td>\n",
       "      <td>62.160</td>\n",
       "      <td>60.380</td>\n",
       "      <td>61.79</td>\n",
       "      <td>37514234</td>\n",
       "      <td>0</td>\n",
       "      <td>1</td>\n",
       "      <td>60.48</td>\n",
       "      <td>62.160</td>\n",
       "      <td>60.380</td>\n",
       "      <td>61.79</td>\n",
       "      <td>37514234</td>\n",
       "    </tr>\n",
       "  </tbody>\n",
       "</table>\n",
       "</div>"
      ],
      "text/plain": [
       "             Open    High     Low  Close    Volume  Dividend  Split  Adj_Open  \\\n",
       "Date                                                                            \n",
       "2016-04-15  62.88  62.900  61.450  61.87  19290257         0      1     62.88   \n",
       "2016-04-14  61.69  62.905  61.605  62.59  24246643         0      1     61.69   \n",
       "2016-04-13  60.48  62.160  60.380  61.79  37514234         0      1     60.48   \n",
       "\n",
       "            Adj_High  Adj_Low  Adj_Close  Adj_Volume  \n",
       "Date                                                  \n",
       "2016-04-15    62.900   61.450      61.87    19290257  \n",
       "2016-04-14    62.905   61.605      62.59    24246643  \n",
       "2016-04-13    62.160   60.380      61.79    37514234  "
      ]
     },
     "execution_count": 40,
     "metadata": {},
     "output_type": "execute_result"
    }
   ],
   "source": [
    "JPM = pd.read_csv('https://www.quandl.com/api/v3/datasets/EOD/JPM.csv?auth_token=yugbnR9nu6UzyUTJtZaK', parse_dates = True,\n",
    "                  engine ='c', index_col = 0, sep = ',')\n",
    "JPM[:3]"
   ]
  },
  {
   "cell_type": "markdown",
   "metadata": {},
   "source": [
    "We will load the S&P500 Data for later use. "
   ]
  },
  {
   "cell_type": "code",
   "execution_count": 41,
   "metadata": {
    "collapsed": false
   },
   "outputs": [
    {
     "data": {
      "text/html": [
       "<div>\n",
       "<table border=\"1\" class=\"dataframe\">\n",
       "  <thead>\n",
       "    <tr style=\"text-align: right;\">\n",
       "      <th></th>\n",
       "      <th>Open</th>\n",
       "      <th>High</th>\n",
       "      <th>Low</th>\n",
       "      <th>Close</th>\n",
       "      <th>Volume</th>\n",
       "      <th>Adjusted Close</th>\n",
       "    </tr>\n",
       "    <tr>\n",
       "      <th>Date</th>\n",
       "      <th></th>\n",
       "      <th></th>\n",
       "      <th></th>\n",
       "      <th></th>\n",
       "      <th></th>\n",
       "      <th></th>\n",
       "    </tr>\n",
       "  </thead>\n",
       "  <tbody>\n",
       "    <tr>\n",
       "      <th>2016-04-15</th>\n",
       "      <td>2083.100098</td>\n",
       "      <td>2083.219971</td>\n",
       "      <td>2076.310059</td>\n",
       "      <td>2080.729980</td>\n",
       "      <td>3701450000</td>\n",
       "      <td>2080.729980</td>\n",
       "    </tr>\n",
       "    <tr>\n",
       "      <th>2016-04-14</th>\n",
       "      <td>2082.889893</td>\n",
       "      <td>2087.840088</td>\n",
       "      <td>2078.129883</td>\n",
       "      <td>2082.780029</td>\n",
       "      <td>3765870000</td>\n",
       "      <td>2082.780029</td>\n",
       "    </tr>\n",
       "    <tr>\n",
       "      <th>2016-04-13</th>\n",
       "      <td>2065.919922</td>\n",
       "      <td>2083.179932</td>\n",
       "      <td>2065.919922</td>\n",
       "      <td>2082.419922</td>\n",
       "      <td>4191830000</td>\n",
       "      <td>2082.419922</td>\n",
       "    </tr>\n",
       "  </tbody>\n",
       "</table>\n",
       "</div>"
      ],
      "text/plain": [
       "                   Open         High          Low        Close      Volume  \\\n",
       "Date                                                                         \n",
       "2016-04-15  2083.100098  2083.219971  2076.310059  2080.729980  3701450000   \n",
       "2016-04-14  2082.889893  2087.840088  2078.129883  2082.780029  3765870000   \n",
       "2016-04-13  2065.919922  2083.179932  2065.919922  2082.419922  4191830000   \n",
       "\n",
       "            Adjusted Close  \n",
       "Date                        \n",
       "2016-04-15     2080.729980  \n",
       "2016-04-14     2082.780029  \n",
       "2016-04-13     2082.419922  "
      ]
     },
     "execution_count": 41,
     "metadata": {},
     "output_type": "execute_result"
    }
   ],
   "source": [
    "SP500 = pd.read_csv('https://www.quandl.com/api/v3/datasets/YAHOO/INDEX_GSPC.csv?auth_token=Gd9-HysMPeQX8XCsthtA',\n",
    "                    parse_dates = True, engine = 'c', index_col = 0)\n",
    "SP500[:3]"
   ]
  },
  {
   "cell_type": "markdown",
   "metadata": {},
   "source": [
    "## 2. Built-in Commands for Modifying Data\n",
    "- A basic introduction to selecting data from a DataFrame\n",
    "- These basic commands are the basics to accessing data, which will allow you to later clean and modify the data\n"
   ]
  },
  {
   "cell_type": "code",
   "execution_count": 42,
   "metadata": {
    "collapsed": false
   },
   "outputs": [
    {
     "data": {
      "text/plain": [
       "Date\n",
       "2016-04-15    61.87\n",
       "Name: Adj_Close, dtype: float64"
      ]
     },
     "execution_count": 42,
     "metadata": {},
     "output_type": "execute_result"
    }
   ],
   "source": [
    "#selects the column with the specific name you put in\n",
    "#[:1] for saving space\n",
    "JPM['Adj_Close'][:1]"
   ]
  },
  {
   "cell_type": "code",
   "execution_count": 43,
   "metadata": {
    "collapsed": false
   },
   "outputs": [
    {
     "data": {
      "text/html": [
       "<div>\n",
       "<table border=\"1\" class=\"dataframe\">\n",
       "  <thead>\n",
       "    <tr style=\"text-align: right;\">\n",
       "      <th></th>\n",
       "      <th>Open</th>\n",
       "      <th>High</th>\n",
       "      <th>Low</th>\n",
       "      <th>Close</th>\n",
       "      <th>Volume</th>\n",
       "      <th>Dividend</th>\n",
       "      <th>Split</th>\n",
       "      <th>Adj_Open</th>\n",
       "      <th>Adj_High</th>\n",
       "      <th>Adj_Low</th>\n",
       "      <th>Adj_Close</th>\n",
       "      <th>Adj_Volume</th>\n",
       "    </tr>\n",
       "    <tr>\n",
       "      <th>Date</th>\n",
       "      <th></th>\n",
       "      <th></th>\n",
       "      <th></th>\n",
       "      <th></th>\n",
       "      <th></th>\n",
       "      <th></th>\n",
       "      <th></th>\n",
       "      <th></th>\n",
       "      <th></th>\n",
       "      <th></th>\n",
       "      <th></th>\n",
       "      <th></th>\n",
       "    </tr>\n",
       "  </thead>\n",
       "  <tbody>\n",
       "    <tr>\n",
       "      <th>2016-04-15</th>\n",
       "      <td>62.88</td>\n",
       "      <td>62.900</td>\n",
       "      <td>61.450</td>\n",
       "      <td>61.87</td>\n",
       "      <td>19290257</td>\n",
       "      <td>0</td>\n",
       "      <td>1</td>\n",
       "      <td>62.88</td>\n",
       "      <td>62.900</td>\n",
       "      <td>61.450</td>\n",
       "      <td>61.87</td>\n",
       "      <td>19290257</td>\n",
       "    </tr>\n",
       "    <tr>\n",
       "      <th>2016-04-14</th>\n",
       "      <td>61.69</td>\n",
       "      <td>62.905</td>\n",
       "      <td>61.605</td>\n",
       "      <td>62.59</td>\n",
       "      <td>24246643</td>\n",
       "      <td>0</td>\n",
       "      <td>1</td>\n",
       "      <td>61.69</td>\n",
       "      <td>62.905</td>\n",
       "      <td>61.605</td>\n",
       "      <td>62.59</td>\n",
       "      <td>24246643</td>\n",
       "    </tr>\n",
       "  </tbody>\n",
       "</table>\n",
       "</div>"
      ],
      "text/plain": [
       "             Open    High     Low  Close    Volume  Dividend  Split  Adj_Open  \\\n",
       "Date                                                                            \n",
       "2016-04-15  62.88  62.900  61.450  61.87  19290257         0      1     62.88   \n",
       "2016-04-14  61.69  62.905  61.605  62.59  24246643         0      1     61.69   \n",
       "\n",
       "            Adj_High  Adj_Low  Adj_Close  Adj_Volume  \n",
       "Date                                                  \n",
       "2016-04-15    62.900   61.450      61.87    19290257  \n",
       "2016-04-14    62.905   61.605      62.59    24246643  "
      ]
     },
     "execution_count": 43,
     "metadata": {},
     "output_type": "execute_result"
    }
   ],
   "source": [
    "#The amount of data according to the amount of rows\n",
    "JPM[:2]"
   ]
  },
  {
   "cell_type": "code",
   "execution_count": 44,
   "metadata": {
    "collapsed": false
   },
   "outputs": [
    {
     "data": {
      "text/html": [
       "<div>\n",
       "<table border=\"1\" class=\"dataframe\">\n",
       "  <thead>\n",
       "    <tr style=\"text-align: right;\">\n",
       "      <th></th>\n",
       "      <th>Adj_Close</th>\n",
       "      <th>Adj_Close</th>\n",
       "    </tr>\n",
       "    <tr>\n",
       "      <th>Date</th>\n",
       "      <th></th>\n",
       "      <th></th>\n",
       "    </tr>\n",
       "  </thead>\n",
       "  <tbody>\n",
       "    <tr>\n",
       "      <th>2016-04-15</th>\n",
       "      <td>61.87</td>\n",
       "      <td>61.87</td>\n",
       "    </tr>\n",
       "    <tr>\n",
       "      <th>2016-04-14</th>\n",
       "      <td>62.59</td>\n",
       "      <td>62.59</td>\n",
       "    </tr>\n",
       "  </tbody>\n",
       "</table>\n",
       "</div>"
      ],
      "text/plain": [
       "            Adj_Close  Adj_Close\n",
       "Date                            \n",
       "2016-04-15      61.87      61.87\n",
       "2016-04-14      62.59      62.59"
      ]
     },
     "execution_count": 44,
     "metadata": {},
     "output_type": "execute_result"
    }
   ],
   "source": [
    "#Selecting multiple columns\n",
    "JPM[['Adj_Close','Adj_Close']][:2]"
   ]
  },
  {
   "cell_type": "code",
   "execution_count": 45,
   "metadata": {
    "collapsed": false
   },
   "outputs": [
    {
     "data": {
      "text/plain": [
       "6.508332     11\n",
       "3.263411     10\n",
       "3.485286     10\n",
       "4.862759     10\n",
       "3.827343      8\n",
       "3.864322      8\n",
       "3.882812      7\n",
       "3.836588      7\n",
       "             ..\n",
       "26.965043     1\n",
       "31.154941     1\n",
       "28.218372     1\n",
       "33.263245     1\n",
       "14.828643     1\n",
       "52.085630     1\n",
       "34.426002     1\n",
       "14.800908     1\n",
       "Name: Adj_Close, dtype: int64"
      ]
     },
     "execution_count": 45,
     "metadata": {},
     "output_type": "execute_result"
    }
   ],
   "source": [
    "#Counts the number of times the values have occured\n",
    "#Not as useful in our case of stock prices\n",
    "#This command could be plotted with JPM['Adj_Close'].value_counts().plot(kind='bar') usually plotted with bar graphs\n",
    "JPM['Adj_Close'].value_counts()"
   ]
  },
  {
   "cell_type": "markdown",
   "metadata": {
    "collapsed": true
   },
   "source": [
    "## 3. Pandas DataStructures\n",
    "A brief understanding of Data structures in Pandas. They are a bit different from NumPy arrays and lists and it will be easier to work on them with some explanation of it.\n",
    "- One-Dimension Series\n",
    "- Two-Dimension DataFrame"
   ]
  },
  {
   "cell_type": "markdown",
   "metadata": {
    "collapsed": false
   },
   "source": [
    "### One-Dimensional Series\n",
    "- Series is a One-dimensional array that acts like a Numpy ndarray\n",
    "- One-dimensional ndarray with axis labels (including time series)\n",
    "- The commands below can help with understanding Series\n",
    "\n"
   ]
  },
  {
   "cell_type": "code",
   "execution_count": 46,
   "metadata": {
    "collapsed": false
   },
   "outputs": [
    {
     "data": {
      "text/plain": [
       "0    0\n",
       "1    0\n",
       "2    0\n",
       "dtype: int64"
      ]
     },
     "execution_count": 46,
     "metadata": {},
     "output_type": "execute_result"
    }
   ],
   "source": [
    "#simple example of creating a series\n",
    "s = pd.Series([0,0,0])\n",
    "s"
   ]
  },
  {
   "cell_type": "code",
   "execution_count": 47,
   "metadata": {
    "collapsed": false
   },
   "outputs": [
    {
     "data": {
      "text/plain": [
       "array([0, 0, 0])"
      ]
     },
     "execution_count": 47,
     "metadata": {},
     "output_type": "execute_result"
    }
   ],
   "source": [
    "#calling this command will show that a Series is acts  like a NumPy ndarray\n",
    "s.values"
   ]
  },
  {
   "cell_type": "code",
   "execution_count": 48,
   "metadata": {
    "collapsed": false
   },
   "outputs": [
    {
     "data": {
      "text/plain": [
       "Date\n",
       "2016-04-15    61.87\n",
       "2016-04-14    62.59\n",
       "Name: Adj_Close, dtype: float64"
      ]
     },
     "execution_count": 48,
     "metadata": {},
     "output_type": "execute_result"
    }
   ],
   "source": [
    "#We can now extract a Series from our DataFrame \n",
    "JPM_Series = JPM['Adj_Close']\n",
    "#Again we will only take the first 2 rows for a clear display in the tutorial \n",
    "JPM_Series[:2]"
   ]
  },
  {
   "cell_type": "code",
   "execution_count": 49,
   "metadata": {
    "collapsed": false
   },
   "outputs": [
    {
     "data": {
      "text/plain": [
       "pandas.core.series.Series"
      ]
     },
     "execution_count": 49,
     "metadata": {},
     "output_type": "execute_result"
    }
   ],
   "source": [
    "#check the data type of the column, which is a Series\n",
    "type(JPM_Series)"
   ]
  },
  {
   "cell_type": "code",
   "execution_count": 50,
   "metadata": {
    "collapsed": false
   },
   "outputs": [
    {
     "name": "stdout",
     "output_type": "stream",
     "text": [
      "(8142,)\n",
      "float64\n"
     ]
    }
   ],
   "source": [
    "#We can now find the number of rows and type of the Series by calling these two commands\n",
    "print(JPM_Series.shape)\n",
    "print(JPM_Series.dtypes)"
   ]
  },
  {
   "cell_type": "markdown",
   "metadata": {},
   "source": [
    "### Two Dimensional DataFrames\n",
    "- Two-dimensional size-mutable tabular data structure."
   ]
  },
  {
   "cell_type": "code",
   "execution_count": 51,
   "metadata": {
    "collapsed": false
   },
   "outputs": [
    {
     "data": {
      "text/plain": [
       "pandas.core.frame.DataFrame"
      ]
     },
     "execution_count": 51,
     "metadata": {},
     "output_type": "execute_result"
    }
   ],
   "source": [
    "#We can check the type of data by executing this command\n",
    "#Type of data: DataFrame\n",
    "type(JPM)"
   ]
  },
  {
   "cell_type": "code",
   "execution_count": 52,
   "metadata": {
    "collapsed": false
   },
   "outputs": [
    {
     "name": "stdout",
     "output_type": "stream",
     "text": [
      "(8142, 12)\n"
     ]
    }
   ],
   "source": [
    "# .shape will tell you the number of columns and number of rows\n",
    "print(JPM.shape)"
   ]
  },
  {
   "cell_type": "code",
   "execution_count": 53,
   "metadata": {
    "collapsed": false
   },
   "outputs": [
    {
     "name": "stdout",
     "output_type": "stream",
     "text": [
      "Open          float64\n",
      "High          float64\n",
      "Low           float64\n",
      "Close         float64\n",
      "Volume        float64\n",
      "Dividend      float64\n",
      "Split         float64\n",
      "Adj_Open      float64\n",
      "Adj_High      float64\n",
      "Adj_Low       float64\n",
      "Adj_Close     float64\n",
      "Adj_Volume    float64\n",
      "dtype: object\n"
     ]
    }
   ],
   "source": [
    "# What is special about a 2D DataFrame each column has its own dtype\n",
    "print(JPM.dtypes)"
   ]
  },
  {
   "cell_type": "code",
   "execution_count": 54,
   "metadata": {
    "collapsed": false
   },
   "outputs": [
    {
     "data": {
      "text/plain": [
       "Index(['Open', 'High', 'Low', 'Close', 'Volume', 'Dividend', 'Split',\n",
       "       'Adj_Open', 'Adj_High', 'Adj_Low', 'Adj_Close', 'Adj_Volume'],\n",
       "      dtype='object')"
      ]
     },
     "execution_count": 54,
     "metadata": {},
     "output_type": "execute_result"
    }
   ],
   "source": [
    "#displays all the column names\n",
    "JPM.columns"
   ]
  },
  {
   "cell_type": "code",
   "execution_count": 55,
   "metadata": {
    "collapsed": false
   },
   "outputs": [
    {
     "data": {
      "text/plain": [
       "DatetimeIndex(['2016-04-15', '2016-04-14', '2016-04-13', '2016-04-12',\n",
       "               '2016-04-11', '2016-04-08', '2016-04-07', '2016-04-06',\n",
       "               '2016-04-05', '2016-04-04',\n",
       "               ...\n",
       "               '1984-01-13', '1984-01-12', '1984-01-11', '1984-01-10',\n",
       "               '1984-01-09', '1984-01-06', '1984-01-05', '1984-01-04',\n",
       "               '1984-01-03', '1983-12-30'],\n",
       "              dtype='datetime64[ns]', name='Date', length=8142, freq=None)"
      ]
     },
     "execution_count": 55,
     "metadata": {},
     "output_type": "execute_result"
    }
   ],
   "source": [
    "#displays all the index names\n",
    "JPM.index"
   ]
  },
  {
   "cell_type": "code",
   "execution_count": 56,
   "metadata": {
    "collapsed": false
   },
   "outputs": [
    {
     "name": "stdout",
     "output_type": "stream",
     "text": [
      "<class 'pandas.core.frame.DataFrame'>\n",
      "DatetimeIndex: 8142 entries, 2016-04-15 to 1983-12-30\n",
      "Data columns (total 12 columns):\n",
      "Open          8142 non-null float64\n",
      "High          8142 non-null float64\n",
      "Low           8142 non-null float64\n",
      "Close         8142 non-null float64\n",
      "Volume        8142 non-null float64\n",
      "Dividend      8142 non-null float64\n",
      "Split         8142 non-null float64\n",
      "Adj_Open      8142 non-null float64\n",
      "Adj_High      8142 non-null float64\n",
      "Adj_Low       8142 non-null float64\n",
      "Adj_Close     8142 non-null float64\n",
      "Adj_Volume    8142 non-null float64\n",
      "dtypes: float64(12)\n",
      "memory usage: 826.9 KB\n"
     ]
    }
   ],
   "source": [
    "#gives you a good description of your DataFrame \n",
    "JPM.info()"
   ]
  },
  {
   "cell_type": "markdown",
   "metadata": {},
   "source": [
    "## 4. Application in Data Analysis"
   ]
  },
  {
   "cell_type": "markdown",
   "metadata": {
    "collapsed": false
   },
   "source": [
    "### Capital Asset Pricing Model (CAPM)\n",
    "\n",
    "We will be using this Model to teach some of the basic tools of Pandas in Data Analysis. We will only go over the specific parts that may apply to this certain model for each section. \n",
    "\n",
    "- Visualization\n",
    "    - Timeseries: The visualization of stock prices \n",
    "    - different types of plots \n",
    "-  Computation/Statistic Tools\n",
    "    - statistical functino \n",
    "    - Moving(rolling) statisic/movements"
   ]
  },
  {
   "cell_type": "markdown",
   "metadata": {},
   "source": [
    "#### Visualization: Time Series \n",
    "The CAPM model requires an understanding of the graphs of stock prices. Mostly to see outliers and different trends of the the graph.\n",
    "\n",
    "Pandas has simplified the plt.plot function using `matplotlib` to `Series.plot()` taking different parameters that determines specific graph you want. \n",
    "\n",
    "- Timeseries: The visualization of stock prices \n",
    "- different types of plots "
   ]
  },
  {
   "cell_type": "markdown",
   "metadata": {},
   "source": [
    "This plot below is the Time vs. Adjusted Close Stock price graph."
   ]
  },
  {
   "cell_type": "code",
   "execution_count": 57,
   "metadata": {
    "collapsed": false
   },
   "outputs": [
    {
     "data": {
      "image/png": "[encoded data removed]",
      "text/plain": [
       "<matplotlib.figure.Figure at 0x10b343ba8>"
      ]
     },
     "metadata": {},
     "output_type": "display_data"
    }
   ],
   "source": [
    "#The Adjusted Closing price of the stock\n",
    "JPM.Adj_Close.plot(figsize = (20,5), label = 'Adj_Close')\n",
    "plt.legend()\n",
    "plt.title('JPMorgan Chase & Co. Price from 1983-2016(March)')\n",
    "plt.grid()\n",
    "plt.show();"
   ]
  },
  {
   "cell_type": "markdown",
   "metadata": {},
   "source": [
    "The volume graph of JPM below, the syntax for Pandas is very simple JPM.Volume.plot() The Volue part of the syntax is basically the name of that Column. "
   ]
  },
  {
   "cell_type": "code",
   "execution_count": 58,
   "metadata": {
    "collapsed": false
   },
   "outputs": [
    {
     "data": {
      "image/png": "[encoded data removed]",
      "text/plain": [
       "<matplotlib.figure.Figure at 0x1049e09e8>"
      ]
     },
     "metadata": {},
     "output_type": "display_data"
    }
   ],
   "source": [
    "JPM.Volume.plot(figsize = (20,5), label = 'Volume')\n",
    "plt.legend()\n",
    "plt.title('JPMorgan Chase & Co. Trading Volume')\n",
    "plt.grid()\n",
    "plt.show();"
   ]
  },
  {
   "cell_type": "markdown",
   "metadata": {},
   "source": [
    "#### Moving Average\n",
    "\n",
    "In statistics, a moving average (rolling average) is a calculation to analyze data points by creating subset averages of the original dataset.\n",
    "\n",
    "source: [Wikipedia](https://en.wikipedia.org/wiki/Moving_average)\n",
    "\n",
    "In Pandas we can use the pd.rolling_mean to get the moving average"
   ]
  },
  {
   "cell_type": "code",
   "execution_count": 59,
   "metadata": {
    "collapsed": false
   },
   "outputs": [
    {
     "data": {
      "text/plain": [
       "Date\n",
       "1984-01-06    2.827519\n",
       "1984-01-05    2.821510\n",
       "1984-01-04    2.810416\n",
       "1984-01-03    2.791464\n",
       "1983-12-30    2.774824\n",
       "Name: 20_JPM_Adj_Close, dtype: float64"
      ]
     },
     "execution_count": 59,
     "metadata": {},
     "output_type": "execute_result"
    }
   ],
   "source": [
    "moving_average20 = JPM['20_JPM_Adj_Close'] = pd.stats.moments.rolling_mean(JPM['Adj_Close'], 20)\n",
    "#We can look at the end of the data by calling .tail() and start of the data with .head()\n",
    "JPM['20_JPM_Adj_Close'].tail()"
   ]
  },
  {
   "cell_type": "code",
   "execution_count": 60,
   "metadata": {
    "collapsed": false
   },
   "outputs": [
    {
     "data": {
      "text/plain": [
       "Date\n",
       "2016-04-15         NaN\n",
       "2016-04-14         NaN\n",
       "2016-04-13         NaN\n",
       "2016-04-12         NaN\n",
       "2016-04-11         NaN\n",
       "2016-04-08         NaN\n",
       "2016-04-07         NaN\n",
       "2016-04-06         NaN\n",
       "                ...   \n",
       "1984-01-11    2.840924\n",
       "1984-01-10    2.840462\n",
       "1984-01-09    2.835839\n",
       "1984-01-06    2.827519\n",
       "1984-01-05    2.821510\n",
       "1984-01-04    2.810416\n",
       "1984-01-03    2.791464\n",
       "1983-12-30    2.774824\n",
       "Name: 20_JPM_Adj_Close, dtype: float64"
      ]
     },
     "execution_count": 60,
     "metadata": {},
     "output_type": "execute_result"
    }
   ],
   "source": [
    "JPM['20_JPM_Adj_Close']"
   ]
  },
  {
   "cell_type": "markdown",
   "metadata": {},
   "source": [
    "#### Moving Average and Adjusted Close Graph\n",
    "This graph is the moving average graph overlaying the Adjusted Close graph. The moving average is commonly used with time series data to smooth out short-term fluctuations and highlight longer-term trends or cycles."
   ]
  },
  {
   "cell_type": "code",
   "execution_count": 61,
   "metadata": {
    "collapsed": false
   },
   "outputs": [],
   "source": [
    "Adj_close = JPM['Adj_Close']\n",
    "moving_average = pd.rolling_mean(Adj_close, 25)"
   ]
  },
  {
   "cell_type": "code",
   "execution_count": 62,
   "metadata": {
    "collapsed": false
   },
   "outputs": [
    {
     "data": {
      "image/png": "[encoded data removed]",
      "text/plain": [
       "<matplotlib.figure.Figure at 0x10a212438>"
      ]
     },
     "metadata": {},
     "output_type": "display_data"
    }
   ],
   "source": [
    "JPM.Adj_Close.plot(figsize = (30,9))\n",
    "moving_average.plot(label='moving average', figsize = (30,9))\n",
    "plt.legend()\n",
    "plt.show();"
   ]
  },
  {
   "cell_type": "markdown",
   "metadata": {},
   "source": [
    "#### Extra Plots\n",
    "##### Kernel Density Estimation plot\n",
    "\n",
    "In statistics, kernel density estimation (KDE) is a way to estimate the probability density function(pdf) of a random variable. \n",
    "\n",
    "The kernel desnity estimator is:\n",
    "\n",
    "$\\hat{f}_h{(x)} = \\frac{1}{n} \\sum_{i=1}^{n}{K_{h}{(x-{x_i})}} = \\frac{1}{nh} \\sum_{i=1}^{n}{K_{h}} (\\frac{x-{x_i}}{h})$\n",
    "\n",
    "In Pandas Pandas.Series.plot(kind = 'kde') will plot out the estimation for you. \n",
    "\n",
    "source:[Wikipedia](https://en.wikipedia.org/wiki/Kernel_density_estimation)"
   ]
  },
  {
   "cell_type": "code",
   "execution_count": 63,
   "metadata": {
    "collapsed": false
   },
   "outputs": [
    {
     "data": {
      "image/png": "[encoded data removed]",
      "text/plain": [
       "<matplotlib.figure.Figure at 0x10449c7b8>"
      ]
     },
     "metadata": {},
     "output_type": "display_data"
    }
   ],
   "source": [
    "JPM.Adj_Close.plot(kind='kde');"
   ]
  },
  {
   "cell_type": "markdown",
   "metadata": {},
   "source": [
    "### Computational/Statistics Tools\n",
    "In this section we will explore some computation and statistics tools in Pandas. We will go over the statistical functions using the CAPM model. However we won't go over the moving statisitic tools in this tutorial; pandas.rolling_mean() the previously covered material will be the only moving statisics in this tutorial. Moving or rolling means that the tool takes in a certain window and operates on that certain window. \n",
    "\n",
    "- Statistical functions\n",
    "    - percentage change \n",
    "    - covariance \n",
    "    - correlation \n",
    "    - variance\n",
    "    \n",
    "- Moving(rolling) Statistics/moments \n",
    "    - pandas.rolling_mean()\n",
    "    - pandas.rolling_correlationg()\n",
    "    - pandas.rolling_sum()\n",
    "    - and many more \n",
    "\n",
    "Read more: http://pandas.pydata.org/pandas-docs/stable/computation.html\n"
   ]
  },
  {
   "cell_type": "markdown",
   "metadata": {},
   "source": [
    "#### Correlation \n",
    "The correlation between the S&P 500 and The Adjusted Closing stock price of JPMorgan Chase & Co. is approximately 0.974118318, which shows a strong uphill positive linear relationship. This tells us how the stock is in relationship towards the market. \n",
    "\n",
    "Another good example would be the correlation between the Canadian dollar and the oil price. This can help you anaylyze how the Dollar doing. \n",
    "\n",
    "**Note**: There are several methods for computing correlations:\n",
    "\n",
    "**pearson (default)**:Standard correlation coefficient\n",
    "\n",
    "**kendall**:          Kendall Tau correlation coefficient\n",
    "\n",
    "**spearman**:         Spearman rank correlation coefficient"
   ]
  },
  {
   "cell_type": "code",
   "execution_count": 64,
   "metadata": {
    "collapsed": false
   },
   "outputs": [
    {
     "data": {
      "text/plain": [
       "0.97447178579420257"
      ]
     },
     "execution_count": 64,
     "metadata": {},
     "output_type": "execute_result"
    }
   ],
   "source": [
    "#The pearson method\n",
    "JPM['Adj_Close'].corr(SP500['Adjusted Close'])"
   ]
  },
  {
   "cell_type": "markdown",
   "metadata": {},
   "source": [
    "Now we will use the CAPM model to explore some other statistical functions"
   ]
  },
  {
   "cell_type": "markdown",
   "metadata": {
    "collapsed": true
   },
   "source": [
    "#### What is the Capital Asset Pricing Model (CAPM)\n",
    "\n",
    "The capital asset pricing model (CAPM) is a model that describes the relationship between risk and expected return and that is used in the pricing of risky securities.\n",
    "\n",
    "Capital Asset Pricing Model (CAPM)\n",
    "\n",
    "$r_a = r_f + \\beta_a(r_m - r_f) $\n",
    "\n",
    "$r_f = \\ \\ Risk\\ \\ free \\ \\ rate$\n",
    "\n",
    "$\\beta_a = \\ \\ Beta\\ \\ of \\ \\ the \\ \\ security$\n",
    "\n",
    "$r_m = \\ \\ Expected \\ \\ market  \\ \\ return$\n",
    "\n",
    "\n",
    "The idea behind CAPM is that investors need to be compensated in two ways: time value of money and risk.\n",
    "The time value of money = risk-free $r_f$ rate, which compensates the investors for placing money in any investment over a period of time. Then there is risk in the investment. This is calculated by taking a $\\beta$ (beta) that compares the returns of the asset to the market over a period of time and to the market premium $(r_m - r_f)$.\n",
    "\n",
    "A good investment is when expected return of a security or a portfolio equals the rate on a risk-free security plus a risk premium. Investmnet should not be taken if expected return does not exceed the required return. \n",
    "\n",
    "Source: [Capital Asset Pricing Model (CAPM) Definition | Investopedia](http://www.investopedia.com/terms/c/capm.asp#ixzz41bOBpUKD)\n"
   ]
  },
  {
   "cell_type": "markdown",
   "metadata": {},
   "source": [
    "## Calcualting each variable in the CAPM model\n",
    "\n",
    "`r_f` in this case is U.S Treasury bonds\n",
    "\n",
    "`r_m` in this case we use the average return of the market(usually the S&P 500 (We have previously defined to be sp500))\n",
    "\n",
    "In this case say our project is a 5-year project we then choose the rate for `r_f` to be $1.34\\%$\n",
    "\n",
    "For more rates of U.S Treasury bonds: [Bloomberg](http://www.bloomberg.com/markets/rates-bonds/government-bonds/us)\n",
    "\n",
    "The market returns of the S&P500 from $1990-2011$ is around `r_m = ` $0.077$ \n",
    "\n"
   ]
  },
  {
   "cell_type": "code",
   "execution_count": 65,
   "metadata": {
    "collapsed": true
   },
   "outputs": [],
   "source": [
    "#define r_f with the given value\n",
    "r_f = 0.0134"
   ]
  },
  {
   "cell_type": "markdown",
   "metadata": {},
   "source": [
    "### Calculating the beta\n",
    "\n",
    "the beta is calculated from taking the percentage change of the stock and the percentage change in \n",
    "\n",
    "$\\beta = \\frac{cov(Stock \\ \\ vs. \\ \\ The \\ \\ market \\ \\ returns)}{variance \\ \\ of \\ \\ the \\ \\ market}$\n",
    "\n",
    "Pandas is useful since it has the built in function:\n",
    "we can use these functions becuase we have are working on pandas series and dataframes"
   ]
  },
  {
   "cell_type": "markdown",
   "metadata": {},
   "source": [
    "Calculating the $\\beta$ requires us to first look at the adjusted close of the stock. If there are outliers on the data then you might want to exclude that fraction of the data in your $\\beta$ calculation.\n",
    "\n",
    "In the graph below I also plotted the moving average using `pd.rolling_mean` to see a smoother curve of the adjusted close\n",
    "\n",
    "In this case the stock of JP Morgan Chase & CO. doesn't seem to have any problem or outliers so we would use the whole adjusted close of our data in the beta calculation."
   ]
  },
  {
   "cell_type": "markdown",
   "metadata": {},
   "source": [
    "### Statistical functions we would be using in the CAPM model:\n",
    "\n",
    "1. `Series.pct_change()` \n",
    "\n",
    "Series, DataFrame, and Panel all have a method pct_change to compute the percent change over a given number of periods (using fill_method to fill NA/null values before computing the percent change).\n",
    "\n",
    "\n",
    "2. `Series.cov(Series)`\n",
    "\n",
    "The Series object has a method cov to compute covariance between series (excluding NA/null values).\n",
    "\n",
    "3. `Series.var()`\n",
    "\n",
    "Calculates the varience of the given Series"
   ]
  },
  {
   "cell_type": "code",
   "execution_count": 66,
   "metadata": {
    "collapsed": true
   },
   "outputs": [],
   "source": [
    "def beta(stock, market):\n",
    "    beta = (stock.pct_change()).cov(market.pct_change())/((market.pct_change()).var())\n",
    "    return beta"
   ]
  },
  {
   "cell_type": "code",
   "execution_count": 67,
   "metadata": {
    "collapsed": false
   },
   "outputs": [
    {
     "data": {
      "text/plain": [
       "1.9915362055914074"
      ]
     },
     "execution_count": 67,
     "metadata": {},
     "output_type": "execute_result"
    }
   ],
   "source": [
    "beta(JPM['Adj_Close'], SP500['Adjusted Close'])"
   ]
  },
  {
   "cell_type": "code",
   "execution_count": 68,
   "metadata": {
    "collapsed": true
   },
   "outputs": [],
   "source": [
    "def r_a(r_f, b, r_m):\n",
    "    r_a = r_f + b*(r_m-r_f)\n",
    "    return r_a"
   ]
  },
  {
   "cell_type": "markdown",
   "metadata": {},
   "source": [
    "\n",
    "We have previoulsy found that\n",
    "\n",
    "$r_f = 0.0134$\n",
    "\n",
    "$r_m = 0.077$\n",
    "\n",
    "and our $\\beta$ can be obtained from the beta function\n"
   ]
  },
  {
   "cell_type": "code",
   "execution_count": 69,
   "metadata": {
    "collapsed": false
   },
   "outputs": [
    {
     "data": {
      "text/plain": [
       "0.14006170267561352"
      ]
     },
     "execution_count": 69,
     "metadata": {},
     "output_type": "execute_result"
    }
   ],
   "source": [
    "r_a(0.0134,beta(JPM['Adj_Close'], SP500['Adjusted Close']), 0.077)"
   ]
  },
  {
   "cell_type": "markdown",
   "metadata": {},
   "source": [
    "This approximation $r_a = 0.14022407$ is used to evaluate that certain stock in the portfolio whether its worth investing or not. May require professionals to determine the reliablity of the calculated data. "
   ]
  }
 ],
 "metadata": {
  "kernelspec": {
   "display_name": "Python 3",
   "language": "python",
   "name": "python3"
  },
  "language_info": {
   "codemirror_mode": {
    "name": "ipython",
    "version": 3
   },
   "file_extension": ".py",
   "mimetype": "text/x-python",
   "name": "python",
   "nbconvert_exporter": "python",
   "pygments_lexer": "ipython3",
   "version": "3.5.1"
  }
 },
 "nbformat": 4,
 "nbformat_minor": 0
}
