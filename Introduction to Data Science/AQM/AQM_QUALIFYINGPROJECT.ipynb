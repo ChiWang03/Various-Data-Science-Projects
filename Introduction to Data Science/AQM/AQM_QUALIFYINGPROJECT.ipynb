{
 "cells": [
  {
   "cell_type": "code",
   "execution_count": 1,
   "metadata": {
    "collapsed": true
   },
   "outputs": [],
   "source": [
    "import numpy as np \n",
    "import matplotlib.pyplot as plt\n",
    "import pandas as pd\n",
    "\n",
    "%matplotlib inline"
   ]
  },
  {
   "cell_type": "markdown",
   "metadata": {},
   "source": [
    "# Problem 1 "
   ]
  },
  {
   "cell_type": "markdown",
   "metadata": {},
   "source": [
    "## 1.  List the code of the airlines most at fault for the delays in cities that exceed the 95th percentile of delayed departures between 75 to 89 minutes during the month of January 2015."
   ]
  },
  {
   "cell_type": "code",
   "execution_count": 2,
   "metadata": {
    "collapsed": false
   },
   "outputs": [
    {
     "name": "stdout",
     "output_type": "stream",
     "text": [
      "<class 'pandas.core.frame.DataFrame'>\n",
      "RangeIndex: 469968 entries, 0 to 469967\n",
      "Data columns (total 5 columns):\n",
      "UNIQUE_CARRIER      469968 non-null object\n",
      "ORIGIN_CITY_NAME    469968 non-null object\n",
      "DEP_DELAY           458311 non-null float64\n",
      "DEP_DEL15           458311 non-null float64\n",
      "Unnamed: 4          0 non-null float64\n",
      "dtypes: float64(3), object(2)\n",
      "memory usage: 17.9+ MB\n"
     ]
    },
    {
     "data": {
      "text/html": [
       "<div>\n",
       "<table border=\"1\" class=\"dataframe\">\n",
       "  <thead>\n",
       "    <tr style=\"text-align: right;\">\n",
       "      <th></th>\n",
       "      <th>UNIQUE_CARRIER</th>\n",
       "      <th>ORIGIN_CITY_NAME</th>\n",
       "      <th>DEP_DELAY</th>\n",
       "      <th>DEP_DEL15</th>\n",
       "      <th>Unnamed: 4</th>\n",
       "    </tr>\n",
       "  </thead>\n",
       "  <tbody>\n",
       "    <tr>\n",
       "      <th>0</th>\n",
       "      <td>AA</td>\n",
       "      <td>New York, NY</td>\n",
       "      <td>-5.0</td>\n",
       "      <td>0.0</td>\n",
       "      <td>NaN</td>\n",
       "    </tr>\n",
       "    <tr>\n",
       "      <th>1</th>\n",
       "      <td>AA</td>\n",
       "      <td>New York, NY</td>\n",
       "      <td>-10.0</td>\n",
       "      <td>0.0</td>\n",
       "      <td>NaN</td>\n",
       "    </tr>\n",
       "    <tr>\n",
       "      <th>2</th>\n",
       "      <td>AA</td>\n",
       "      <td>New York, NY</td>\n",
       "      <td>-7.0</td>\n",
       "      <td>0.0</td>\n",
       "      <td>NaN</td>\n",
       "    </tr>\n",
       "    <tr>\n",
       "      <th>3</th>\n",
       "      <td>AA</td>\n",
       "      <td>New York, NY</td>\n",
       "      <td>-7.0</td>\n",
       "      <td>0.0</td>\n",
       "      <td>NaN</td>\n",
       "    </tr>\n",
       "    <tr>\n",
       "      <th>4</th>\n",
       "      <td>AA</td>\n",
       "      <td>New York, NY</td>\n",
       "      <td>-7.0</td>\n",
       "      <td>0.0</td>\n",
       "      <td>NaN</td>\n",
       "    </tr>\n",
       "  </tbody>\n",
       "</table>\n",
       "</div>"
      ],
      "text/plain": [
       "  UNIQUE_CARRIER ORIGIN_CITY_NAME  DEP_DELAY  DEP_DEL15  Unnamed: 4\n",
       "0             AA     New York, NY       -5.0        0.0         NaN\n",
       "1             AA     New York, NY      -10.0        0.0         NaN\n",
       "2             AA     New York, NY       -7.0        0.0         NaN\n",
       "3             AA     New York, NY       -7.0        0.0         NaN\n",
       "4             AA     New York, NY       -7.0        0.0         NaN"
      ]
     },
     "execution_count": 2,
     "metadata": {},
     "output_type": "execute_result"
    }
   ],
   "source": [
    "dataframe = pd.read_csv('786930375_T_ONTIME.csv', engine = 'c')\n",
    "#Use .info() to check what the csv file contains \n",
    "dataframe.info()\n",
    "#Use .head () to see the first few 5 rows of the csv file imported \n",
    "dataframe.head(5)"
   ]
  },
  {
   "cell_type": "markdown",
   "metadata": {},
   "source": [
    "From `df.info()` we can see that there are 5 columns that are relevant to our analysis. \n",
    "The last column is filled with undefined and Unrepresetable value NaN.\n",
    "The Column will be dropped in the next cell. \n",
    "Pandas automatically adds an index column to the data set if we don't edit the parameters `pd.read_csv()` takes."
   ]
  },
  {
   "cell_type": "code",
   "execution_count": 3,
   "metadata": {
    "collapsed": false
   },
   "outputs": [
    {
     "data": {
      "text/html": [
       "<div>\n",
       "<table border=\"1\" class=\"dataframe\">\n",
       "  <thead>\n",
       "    <tr style=\"text-align: right;\">\n",
       "      <th></th>\n",
       "      <th>UNIQUE_CARRIER</th>\n",
       "      <th>ORIGIN_CITY_NAME</th>\n",
       "      <th>DEP_DELAY</th>\n",
       "      <th>DEP_DEL15</th>\n",
       "      <th>Unnamed: 4</th>\n",
       "    </tr>\n",
       "  </thead>\n",
       "  <tbody>\n",
       "    <tr>\n",
       "      <th>99</th>\n",
       "      <td>AA</td>\n",
       "      <td>Los Angeles, CA</td>\n",
       "      <td>82.0</td>\n",
       "      <td>1.0</td>\n",
       "      <td>NaN</td>\n",
       "    </tr>\n",
       "    <tr>\n",
       "      <th>128</th>\n",
       "      <td>AA</td>\n",
       "      <td>Dallas/Fort Worth, TX</td>\n",
       "      <td>89.0</td>\n",
       "      <td>1.0</td>\n",
       "      <td>NaN</td>\n",
       "    </tr>\n",
       "    <tr>\n",
       "      <th>191</th>\n",
       "      <td>AA</td>\n",
       "      <td>Dallas/Fort Worth, TX</td>\n",
       "      <td>84.0</td>\n",
       "      <td>1.0</td>\n",
       "      <td>NaN</td>\n",
       "    </tr>\n",
       "    <tr>\n",
       "      <th>373</th>\n",
       "      <td>AA</td>\n",
       "      <td>New York, NY</td>\n",
       "      <td>82.0</td>\n",
       "      <td>1.0</td>\n",
       "      <td>NaN</td>\n",
       "    </tr>\n",
       "    <tr>\n",
       "      <th>442</th>\n",
       "      <td>AA</td>\n",
       "      <td>Atlanta, GA</td>\n",
       "      <td>89.0</td>\n",
       "      <td>1.0</td>\n",
       "      <td>NaN</td>\n",
       "    </tr>\n",
       "  </tbody>\n",
       "</table>\n",
       "</div>"
      ],
      "text/plain": [
       "    UNIQUE_CARRIER       ORIGIN_CITY_NAME  DEP_DELAY  DEP_DEL15  Unnamed: 4\n",
       "99              AA        Los Angeles, CA       82.0        1.0         NaN\n",
       "128             AA  Dallas/Fort Worth, TX       89.0        1.0         NaN\n",
       "191             AA  Dallas/Fort Worth, TX       84.0        1.0         NaN\n",
       "373             AA           New York, NY       82.0        1.0         NaN\n",
       "442             AA            Atlanta, GA       89.0        1.0         NaN"
      ]
     },
     "execution_count": 3,
     "metadata": {},
     "output_type": "execute_result"
    }
   ],
   "source": [
    "#setting the delay time to be in between 75 and 89\n",
    "df = dataframe[(dataframe['DEP_DELAY'] >= 75) & (dataframe['DEP_DELAY'] <= 89)]\n",
    "\n",
    "\n",
    "#now group them by cities\n",
    "citydelays = df.groupby('ORIGIN_CITY_NAME')\n",
    "df.head(5)"
   ]
  },
  {
   "cell_type": "code",
   "execution_count": 4,
   "metadata": {
    "collapsed": false
   },
   "outputs": [
    {
     "data": {
      "text/plain": [
       "245"
      ]
     },
     "execution_count": 4,
     "metadata": {},
     "output_type": "execute_result"
    }
   ],
   "source": [
    "#count the number of cities\n",
    "len(citydelays)"
   ]
  },
  {
   "cell_type": "markdown",
   "metadata": {},
   "source": [
    "Using `len(3)` we get that there are 245 cities given in this particular data set. Conclude that the 95 percentile to be the cities with the most delays. Therefore we take 5% of the total amount of cities which is $245*0.05 = 12.25$. We can not take $12.25$ nor the average of $(12+13) = 12.5$ Cities ($12.25$ cities does not exist). Since $\\frac{12}{245} = 0.04897...$ and $\\frac{13}{245} = 0.05306...$ we take the one that exceeds the 95 percentile, which is 12 cities. "
   ]
  },
  {
   "cell_type": "code",
   "execution_count": 5,
   "metadata": {
    "collapsed": false
   },
   "outputs": [
    {
     "data": {
      "text/plain": [
       "ORIGIN_CITY_NAME\n",
       "Chicago, IL              544\n",
       "Dallas/Fort Worth, TX    285\n",
       "Denver, CO               273\n",
       "Atlanta, GA              261\n",
       "New York, NY             214\n",
       "Houston, TX              164\n",
       "San Francisco, CA        160\n",
       "Los Angeles, CA          146\n",
       "Phoenix, AZ              117\n",
       "Washington, DC           115\n",
       "Detroit, MI              114\n",
       "Orlando, FL              113\n",
       "dtype: int64"
      ]
     },
     "execution_count": 5,
     "metadata": {},
     "output_type": "execute_result"
    }
   ],
   "source": [
    "delayedmost = citydelays.size().sort_values(ascending = False)[:12]\n",
    "delayedmost"
   ]
  },
  {
   "cell_type": "markdown",
   "metadata": {},
   "source": [
    "The $12$ cities with most delays sorted in ascending order from most delays to least.\n",
    "The plot is to show the amount of delays in the top 12 most delayed cities. "
   ]
  },
  {
   "cell_type": "code",
   "execution_count": 6,
   "metadata": {
    "collapsed": false
   },
   "outputs": [
    {
     "data": {
      "text/plain": [
       "<matplotlib.axes._subplots.AxesSubplot at 0x7fa7888a6eb8>"
      ]
     },
     "execution_count": 6,
     "metadata": {},
     "output_type": "execute_result"
    },
    {
     "data": {
      "image/png": "[encoded data removed]",
      "text/plain": [
       "<matplotlib.figure.Figure at 0x7fa7483ab9e8>"
      ]
     },
     "metadata": {},
     "output_type": "display_data"
    }
   ],
   "source": [
    "delayedmost.plot(kind = 'bar')"
   ]
  },
  {
   "cell_type": "code",
   "execution_count": 7,
   "metadata": {
    "collapsed": false
   },
   "outputs": [
    {
     "data": {
      "text/plain": [
       "array(['AA', 'AS', 'B6', 'DL', 'EV', 'F9', 'HA', 'MQ', 'NK', 'OO', 'UA',\n",
       "       'US', 'VX', 'WN'], dtype=object)"
      ]
     },
     "execution_count": 7,
     "metadata": {},
     "output_type": "execute_result"
    }
   ],
   "source": [
    "#check the amount of Airplane Carriers in this data set\n",
    "df['UNIQUE_CARRIER'].unique()"
   ]
  },
  {
   "cell_type": "code",
   "execution_count": 8,
   "metadata": {
    "collapsed": false
   },
   "outputs": [
    {
     "data": {
      "text/plain": [
       "ORIGIN_CITY_NAME                UNIQUE_CARRIER\n",
       "Abilene, TX                     MQ                  2\n",
       "Aguadilla, PR                   B6                  2\n",
       "                                UA                  1\n",
       "Akron, OH                       DL                  2\n",
       "                                EV                  3\n",
       "                                WN                  4\n",
       "Albany, GA                      EV                  2\n",
       "Albany, NY                      US                  2\n",
       "                                WN                  1\n",
       "Albuquerque, NM                 DL                  1\n",
       "                                EV                  1\n",
       "                                MQ                  1\n",
       "                                OO                  2\n",
       "                                WN                  8\n",
       "Alexandria, LA                  EV                  1\n",
       "Allentown/Bethlehem/Easton, PA  EV                  1\n",
       "Alpena, MI                      OO                  1\n",
       "Amarillo, TX                    EV                  2\n",
       "                                MQ                  5\n",
       "                                OO                  1\n",
       "                                WN                  1\n",
       "Anchorage, AK                   AS                  3\n",
       "Appleton, WI                    EV                  2\n",
       "Arcata/Eureka, CA               OO                  4\n",
       "Asheville, NC                   EV                  2\n",
       "Aspen, CO                       MQ                  1\n",
       "                                OO                 11\n",
       "Atlanta, GA                     AA                  4\n",
       "                                DL                111\n",
       "                                EV                 83\n",
       "                                                 ... \n",
       "Washington, DC                  AA                  9\n",
       "                                AS                  1\n",
       "                                B6                 13\n",
       "                                DL                  7\n",
       "                                EV                 28\n",
       "                                F9                  4\n",
       "                                MQ                  4\n",
       "                                OO                  3\n",
       "                                UA                 18\n",
       "                                US                 12\n",
       "                                VX                  2\n",
       "                                WN                 14\n",
       "Waterloo, IA                    MQ                  2\n",
       "West Palm Beach/Palm Beach, FL  AA                  2\n",
       "                                B6                 14\n",
       "                                DL                  5\n",
       "                                F9                  1\n",
       "                                UA                  3\n",
       "                                US                  2\n",
       "                                WN                  2\n",
       "White Plains, NY                B6                  6\n",
       "                                EV                  2\n",
       "                                MQ                  2\n",
       "Wichita, KS                     EV                  1\n",
       "                                OO                  6\n",
       "Williston, ND                   EV                  1\n",
       "                                OO                  2\n",
       "Wilmington, NC                  EV                  3\n",
       "Yakutat, AK                     AS                  1\n",
       "Yuma, AZ                        OO                  1\n",
       "dtype: int64"
      ]
     },
     "execution_count": 8,
     "metadata": {},
     "output_type": "execute_result"
    }
   ],
   "source": [
    "#this visualises the amount of delays by each airline in the certain city. \n",
    "carrier = df.groupby(['ORIGIN_CITY_NAME', 'UNIQUE_CARRIER']).size()\n",
    "carrier"
   ]
  },
  {
   "cell_type": "markdown",
   "metadata": {},
   "source": [
    "## 2. Create a visualisation to demonstrate your results. (use whatever you like)\n",
    "\n",
    "Including Question Three since I  plotted the percentage of delayed departures as the visualization"
   ]
  },
  {
   "cell_type": "markdown",
   "metadata": {},
   "source": [
    "From `delayedmost` we have concluded that the 12 cities above have had the most delays. Now we will `delayedmost`to find out the which airline was responsible for the delays in each of these cities. By creating visualization such as bar graphs that graph out the percentage to show the distribution of delays by airlines in each city. \n",
    "\n"
   ]
  },
  {
   "cell_type": "code",
   "execution_count": 9,
   "metadata": {
    "collapsed": false
   },
   "outputs": [
    {
     "data": {
      "text/plain": [
       "ORIGIN_CITY_NAME\n",
       "Chicago, IL              544\n",
       "Dallas/Fort Worth, TX    285\n",
       "Denver, CO               273\n",
       "Atlanta, GA              261\n",
       "New York, NY             214\n",
       "Houston, TX              164\n",
       "San Francisco, CA        160\n",
       "Los Angeles, CA          146\n",
       "Phoenix, AZ              117\n",
       "Washington, DC           115\n",
       "Detroit, MI              114\n",
       "Orlando, FL              113\n",
       "dtype: int64"
      ]
     },
     "execution_count": 9,
     "metadata": {},
     "output_type": "execute_result"
    }
   ],
   "source": [
    "delayedmost"
   ]
  },
  {
   "cell_type": "markdown",
   "metadata": {},
   "source": [
    "We start off by analyzing 'Chicago, IL' with the most delayed flights and in order end at 'Orlando, FL'. "
   ]
  },
  {
   "cell_type": "markdown",
   "metadata": {},
   "source": [
    "### Chicago, IL"
   ]
  },
  {
   "cell_type": "code",
   "execution_count": 10,
   "metadata": {
    "collapsed": false
   },
   "outputs": [
    {
     "data": {
      "text/plain": [
       "UNIQUE_CARRIER\n",
       "VX      1\n",
       "B6      2\n",
       "DL      7\n",
       "F9      9\n",
       "US     10\n",
       "NK     17\n",
       "AA     54\n",
       "EV     61\n",
       "OO     70\n",
       "WN     85\n",
       "UA     94\n",
       "MQ    134\n",
       "dtype: int64"
      ]
     },
     "execution_count": 10,
     "metadata": {},
     "output_type": "execute_result"
    }
   ],
   "source": [
    "chicago = df[df['ORIGIN_CITY_NAME'] == 'Chicago, IL'].groupby('UNIQUE_CARRIER').size().sort_values(ascending = True)\n",
    "chicago"
   ]
  },
  {
   "cell_type": "code",
   "execution_count": 11,
   "metadata": {
    "collapsed": false
   },
   "outputs": [
    {
     "data": {
      "image/png": "[encoded data removed]",
      "text/plain": [
       "<matplotlib.figure.Figure at 0x7fa79004d2b0>"
      ]
     },
     "metadata": {},
     "output_type": "display_data"
    }
   ],
   "source": [
    "sum = chicago.sum()\n",
    "y = chicago/sum\n",
    "x = y.plot(kind = 'bar',title = 'Delayed flights in Chicago(IL) by Airlines(UNIQUE_CARRIER)')\n",
    "vals = x.get_yticks()\n",
    "plt.axes().set_ylabel('percentage of delayed departures')\n",
    "x.set_yticklabels(['{:3.2f}%'.format(x*100) for x in vals])\n",
    "plt.show();"
   ]
  },
  {
   "cell_type": "code",
   "execution_count": 12,
   "metadata": {
    "collapsed": false
   },
   "outputs": [
    {
     "data": {
      "text/plain": [
       "UNIQUE_CARRIER\n",
       "VX     0.183824\n",
       "B6     0.367647\n",
       "DL     1.286765\n",
       "F9     1.654412\n",
       "US     1.838235\n",
       "NK     3.125000\n",
       "AA     9.926471\n",
       "EV    11.213235\n",
       "OO    12.867647\n",
       "WN    15.625000\n",
       "UA    17.279412\n",
       "MQ    24.632353\n",
       "dtype: float64"
      ]
     },
     "execution_count": 12,
     "metadata": {},
     "output_type": "execute_result"
    }
   ],
   "source": [
    "#the exact percentage at fault\n",
    "exactpercentage = y*100\n",
    "exactpercentage"
   ]
  },
  {
   "cell_type": "markdown",
   "metadata": {},
   "source": [
    "### Dallas/Fort Worth, TX\n"
   ]
  },
  {
   "cell_type": "code",
   "execution_count": 13,
   "metadata": {
    "collapsed": false
   },
   "outputs": [
    {
     "data": {
      "text/plain": [
       "UNIQUE_CARRIER\n",
       "F9      1\n",
       "UA      1\n",
       "B6      2\n",
       "DL      4\n",
       "OO      5\n",
       "US      5\n",
       "NK      9\n",
       "EV     20\n",
       "MQ     91\n",
       "AA    147\n",
       "dtype: int64"
      ]
     },
     "execution_count": 13,
     "metadata": {},
     "output_type": "execute_result"
    }
   ],
   "source": [
    "dallas = df[df['ORIGIN_CITY_NAME'] == 'Dallas/Fort Worth, TX'].groupby('UNIQUE_CARRIER').size().sort_values(ascending = True)\n",
    "dallas"
   ]
  },
  {
   "cell_type": "code",
   "execution_count": 14,
   "metadata": {
    "collapsed": false
   },
   "outputs": [
    {
     "data": {
      "image/png": "[encoded data removed]",
      "text/plain": [
       "<matplotlib.figure.Figure at 0x7fa78878dac8>"
      ]
     },
     "metadata": {},
     "output_type": "display_data"
    }
   ],
   "source": [
    "sum = dallas.sum()\n",
    "y = dallas/sum\n",
    "x = y.plot(kind = 'bar',title = 'Delayed flights in Dallas/Fort Wroth(TX) by Airlines(UNIQUE_CARRIER)')\n",
    "vals = x.get_yticks()\n",
    "plt.axes().set_ylabel('percentage of delayed departures')\n",
    "x.set_yticklabels(['{:3.2f}%'.format(x*100) for x in vals])\n",
    "plt.show();"
   ]
  },
  {
   "cell_type": "code",
   "execution_count": 15,
   "metadata": {
    "collapsed": false
   },
   "outputs": [
    {
     "data": {
      "text/plain": [
       "UNIQUE_CARRIER\n",
       "F9     0.350877\n",
       "UA     0.350877\n",
       "B6     0.701754\n",
       "DL     1.403509\n",
       "OO     1.754386\n",
       "US     1.754386\n",
       "NK     3.157895\n",
       "EV     7.017544\n",
       "MQ    31.929825\n",
       "AA    51.578947\n",
       "dtype: float64"
      ]
     },
     "execution_count": 15,
     "metadata": {},
     "output_type": "execute_result"
    }
   ],
   "source": [
    "#the exact percentage at fault\n",
    "exactpercentage = y*100\n",
    "exactpercentage"
   ]
  },
  {
   "cell_type": "markdown",
   "metadata": {},
   "source": [
    "### Denver, CO"
   ]
  },
  {
   "cell_type": "code",
   "execution_count": 16,
   "metadata": {
    "collapsed": false
   },
   "outputs": [
    {
     "data": {
      "text/plain": [
       "UNIQUE_CARRIER\n",
       "US     3\n",
       "DL     4\n",
       "NK     5\n",
       "AA     6\n",
       "EV    20\n",
       "F9    22\n",
       "UA    50\n",
       "WN    70\n",
       "OO    93\n",
       "dtype: int64"
      ]
     },
     "execution_count": 16,
     "metadata": {},
     "output_type": "execute_result"
    }
   ],
   "source": [
    "denver = df[df['ORIGIN_CITY_NAME'] == 'Denver, CO'].groupby('UNIQUE_CARRIER').size().sort_values(ascending = True)\n",
    "denver"
   ]
  },
  {
   "cell_type": "code",
   "execution_count": 17,
   "metadata": {
    "collapsed": false
   },
   "outputs": [
    {
     "data": {
      "image/png": "[encoded data removed]",
      "text/plain": [
       "<matplotlib.figure.Figure at 0x7fa793382080>"
      ]
     },
     "metadata": {},
     "output_type": "display_data"
    }
   ],
   "source": [
    "sum = denver.sum()\n",
    "y = denver/sum\n",
    "x = y.plot(kind = 'bar',title = 'Delayed flights in Denver(CO) by Airlines(UNIQUE_CARRIER)')\n",
    "vals = x.get_yticks()\n",
    "plt.axes().set_ylabel('percentage of delayed departures')\n",
    "x.set_yticklabels(['{:3.2f}%'.format(x*100) for x in vals])\n",
    "plt.show();"
   ]
  },
  {
   "cell_type": "code",
   "execution_count": 18,
   "metadata": {
    "collapsed": false
   },
   "outputs": [
    {
     "data": {
      "text/plain": [
       "UNIQUE_CARRIER\n",
       "US     1.098901\n",
       "DL     1.465201\n",
       "NK     1.831502\n",
       "AA     2.197802\n",
       "EV     7.326007\n",
       "F9     8.058608\n",
       "UA    18.315018\n",
       "WN    25.641026\n",
       "OO    34.065934\n",
       "dtype: float64"
      ]
     },
     "execution_count": 18,
     "metadata": {},
     "output_type": "execute_result"
    }
   ],
   "source": [
    "#the exact percentage at fault\n",
    "exactpercentage = y*100\n",
    "exactpercentage"
   ]
  },
  {
   "cell_type": "markdown",
   "metadata": {},
   "source": [
    "### Atlanta, GA"
   ]
  },
  {
   "cell_type": "code",
   "execution_count": 19,
   "metadata": {
    "collapsed": false
   },
   "outputs": [
    {
     "data": {
      "text/plain": [
       "UNIQUE_CARRIER\n",
       "F9      2\n",
       "UA      2\n",
       "US      3\n",
       "AA      4\n",
       "MQ      4\n",
       "NK      4\n",
       "OO      6\n",
       "WN     42\n",
       "EV     83\n",
       "DL    111\n",
       "dtype: int64"
      ]
     },
     "execution_count": 19,
     "metadata": {},
     "output_type": "execute_result"
    }
   ],
   "source": [
    "atlanta = df[df['ORIGIN_CITY_NAME'] == 'Atlanta, GA'].groupby('UNIQUE_CARRIER').size().sort_values(ascending = True)\n",
    "atlanta"
   ]
  },
  {
   "cell_type": "code",
   "execution_count": 20,
   "metadata": {
    "collapsed": false
   },
   "outputs": [
    {
     "data": {
      "image/png": "[encoded data removed]",
      "text/plain": [
       "<matplotlib.figure.Figure at 0x7fa774323550>"
      ]
     },
     "metadata": {},
     "output_type": "display_data"
    }
   ],
   "source": [
    "sum = atlanta.sum()\n",
    "y = atlanta/sum\n",
    "x = y.plot(kind = 'bar',title = 'Delayed flights in Atlanta(GA) by Airlines(UNIQUE_CARRIER)')\n",
    "vals = x.get_yticks()\n",
    "plt.axes().set_ylabel('percentage of delayed departures')\n",
    "x.set_yticklabels(['{:3.2f}%'.format(x*100) for x in vals])\n",
    "plt.show();"
   ]
  },
  {
   "cell_type": "code",
   "execution_count": 21,
   "metadata": {
    "collapsed": false
   },
   "outputs": [
    {
     "data": {
      "text/plain": [
       "UNIQUE_CARRIER\n",
       "F9     0.766284\n",
       "UA     0.766284\n",
       "US     1.149425\n",
       "AA     1.532567\n",
       "MQ     1.532567\n",
       "NK     1.532567\n",
       "OO     2.298851\n",
       "WN    16.091954\n",
       "EV    31.800766\n",
       "DL    42.528736\n",
       "dtype: float64"
      ]
     },
     "execution_count": 21,
     "metadata": {},
     "output_type": "execute_result"
    }
   ],
   "source": [
    "#the exact percentage at fault\n",
    "exactpercentage = y*100\n",
    "exactpercentage"
   ]
  },
  {
   "cell_type": "markdown",
   "metadata": {},
   "source": [
    "### New York, NY"
   ]
  },
  {
   "cell_type": "code",
   "execution_count": 22,
   "metadata": {
    "collapsed": false
   },
   "outputs": [
    {
     "data": {
      "text/plain": [
       "UNIQUE_CARRIER\n",
       "VX     1\n",
       "NK     6\n",
       "WN    12\n",
       "US    17\n",
       "UA    18\n",
       "AA    20\n",
       "EV    20\n",
       "MQ    37\n",
       "B6    39\n",
       "DL    44\n",
       "dtype: int64"
      ]
     },
     "execution_count": 22,
     "metadata": {},
     "output_type": "execute_result"
    }
   ],
   "source": [
    "ny = df[df['ORIGIN_CITY_NAME'] == 'New York, NY'].groupby('UNIQUE_CARRIER').size().sort_values(ascending = True)\n",
    "ny"
   ]
  },
  {
   "cell_type": "code",
   "execution_count": 23,
   "metadata": {
    "collapsed": false
   },
   "outputs": [
    {
     "data": {
      "image/png": "[encoded data removed]",
      "text/plain": [
       "<matplotlib.figure.Figure at 0x7fa7742a0048>"
      ]
     },
     "metadata": {},
     "output_type": "display_data"
    }
   ],
   "source": [
    "sum = ny.sum()\n",
    "y = ny/sum\n",
    "x = y.plot(kind = 'bar',title = 'Delayed flights in New York(NY) by Airlines(UNIQUE_CARRIER) ')\n",
    "vals = x.get_yticks()\n",
    "plt.axes().set_ylabel('percentage of delayed departures')\n",
    "x.set_yticklabels(['{:3.2f}%'.format(x*100) for x in vals])\n",
    "plt.show();"
   ]
  },
  {
   "cell_type": "code",
   "execution_count": 24,
   "metadata": {
    "collapsed": false
   },
   "outputs": [
    {
     "data": {
      "text/plain": [
       "UNIQUE_CARRIER\n",
       "VX     0.467290\n",
       "NK     2.803738\n",
       "WN     5.607477\n",
       "US     7.943925\n",
       "UA     8.411215\n",
       "AA     9.345794\n",
       "EV     9.345794\n",
       "MQ    17.289720\n",
       "B6    18.224299\n",
       "DL    20.560748\n",
       "dtype: float64"
      ]
     },
     "execution_count": 24,
     "metadata": {},
     "output_type": "execute_result"
    }
   ],
   "source": [
    "#the exact percentage at fault\n",
    "exactpercentage = y*100\n",
    "exactpercentage"
   ]
  },
  {
   "cell_type": "markdown",
   "metadata": {},
   "source": [
    "### Houston, TX "
   ]
  },
  {
   "cell_type": "code",
   "execution_count": 25,
   "metadata": {
    "collapsed": false
   },
   "outputs": [
    {
     "data": {
      "text/plain": [
       "UNIQUE_CARRIER\n",
       "DL     1\n",
       "F9     1\n",
       "AA     2\n",
       "MQ     3\n",
       "NK     6\n",
       "US     6\n",
       "OO    26\n",
       "WN    29\n",
       "EV    44\n",
       "UA    46\n",
       "dtype: int64"
      ]
     },
     "execution_count": 25,
     "metadata": {},
     "output_type": "execute_result"
    }
   ],
   "source": [
    "houston = df[df['ORIGIN_CITY_NAME'] == 'Houston, TX'].groupby('UNIQUE_CARRIER').size().sort_values(ascending = True)\n",
    "houston"
   ]
  },
  {
   "cell_type": "code",
   "execution_count": 26,
   "metadata": {
    "collapsed": false
   },
   "outputs": [
    {
     "data": {
      "image/png": "[encoded data removed]",
      "text/plain": [
       "<matplotlib.figure.Figure at 0x7fa7743234e0>"
      ]
     },
     "metadata": {},
     "output_type": "display_data"
    }
   ],
   "source": [
    "sum = houston.sum()\n",
    "y = houston/sum\n",
    "x = y.plot(kind = 'bar',title = 'Delayed flights in Houston(TX) by Airlines(UNIQUE_CARRIER)')\n",
    "vals = x.get_yticks()\n",
    "plt.axes().set_ylabel('percentage of delayed departures')\n",
    "x.set_yticklabels(['{:3.2f}%'.format(x*100) for x in vals])\n",
    "plt.show();"
   ]
  },
  {
   "cell_type": "code",
   "execution_count": 27,
   "metadata": {
    "collapsed": false
   },
   "outputs": [
    {
     "data": {
      "text/plain": [
       "UNIQUE_CARRIER\n",
       "DL     0.609756\n",
       "F9     0.609756\n",
       "AA     1.219512\n",
       "MQ     1.829268\n",
       "NK     3.658537\n",
       "US     3.658537\n",
       "OO    15.853659\n",
       "WN    17.682927\n",
       "EV    26.829268\n",
       "UA    28.048780\n",
       "dtype: float64"
      ]
     },
     "execution_count": 27,
     "metadata": {},
     "output_type": "execute_result"
    }
   ],
   "source": [
    "#the exact percentage at fault\n",
    "exactpercentage = y*100\n",
    "exactpercentage"
   ]
  },
  {
   "cell_type": "markdown",
   "metadata": {},
   "source": [
    "### San Francisco, CA "
   ]
  },
  {
   "cell_type": "code",
   "execution_count": 28,
   "metadata": {
    "collapsed": false
   },
   "outputs": [
    {
     "data": {
      "text/plain": [
       "UNIQUE_CARRIER\n",
       "F9     1\n",
       "DL     2\n",
       "B6     3\n",
       "AA     6\n",
       "VX     8\n",
       "AS     9\n",
       "WN    16\n",
       "UA    38\n",
       "OO    77\n",
       "dtype: int64"
      ]
     },
     "execution_count": 28,
     "metadata": {},
     "output_type": "execute_result"
    }
   ],
   "source": [
    "sf = df[df['ORIGIN_CITY_NAME'] == 'San Francisco, CA'].groupby('UNIQUE_CARRIER').size().sort_values(ascending = True)\n",
    "sf"
   ]
  },
  {
   "cell_type": "code",
   "execution_count": 29,
   "metadata": {
    "collapsed": false
   },
   "outputs": [
    {
     "data": {
      "image/png": "[encoded data removed]",
      "text/plain": [
       "<matplotlib.figure.Figure at 0x7fa748967198>"
      ]
     },
     "metadata": {},
     "output_type": "display_data"
    }
   ],
   "source": [
    "sum = sf.sum()\n",
    "y = sf/sum\n",
    "x = y.plot(kind = 'bar',title = 'Delayed flights San Francisco(CA) by Airlines(UNIQUE_CARRIER)')\n",
    "vals = x.get_yticks()\n",
    "plt.axes().set_ylabel('percentage of delayed departures')\n",
    "x.set_yticklabels(['{:3.2f}%'.format(x*100) for x in vals])\n",
    "plt.show();"
   ]
  },
  {
   "cell_type": "code",
   "execution_count": 30,
   "metadata": {
    "collapsed": false
   },
   "outputs": [
    {
     "data": {
      "text/plain": [
       "UNIQUE_CARRIER\n",
       "F9     0.625\n",
       "DL     1.250\n",
       "B6     1.875\n",
       "AA     3.750\n",
       "VX     5.000\n",
       "AS     5.625\n",
       "WN    10.000\n",
       "UA    23.750\n",
       "OO    48.125\n",
       "dtype: float64"
      ]
     },
     "execution_count": 30,
     "metadata": {},
     "output_type": "execute_result"
    }
   ],
   "source": [
    "#the exact percentage at fault\n",
    "exactpercentage = y*100\n",
    "exactpercentage"
   ]
  },
  {
   "cell_type": "markdown",
   "metadata": {},
   "source": [
    "### Los Angeles, CA"
   ]
  },
  {
   "cell_type": "code",
   "execution_count": 31,
   "metadata": {
    "collapsed": false
   },
   "outputs": [
    {
     "data": {
      "text/plain": [
       "UNIQUE_CARRIER\n",
       "AS     1\n",
       "B6     2\n",
       "US     2\n",
       "NK     3\n",
       "DL     7\n",
       "VX    10\n",
       "AA    17\n",
       "UA    27\n",
       "WN    36\n",
       "OO    41\n",
       "dtype: int64"
      ]
     },
     "execution_count": 31,
     "metadata": {},
     "output_type": "execute_result"
    }
   ],
   "source": [
    "la = df[df['ORIGIN_CITY_NAME'] == 'Los Angeles, CA'].groupby('UNIQUE_CARRIER').size().sort_values(ascending = True)\n",
    "la"
   ]
  },
  {
   "cell_type": "code",
   "execution_count": 32,
   "metadata": {
    "collapsed": false
   },
   "outputs": [
    {
     "data": {
      "text/plain": [
       "[<matplotlib.text.Text at 0x7fa793483ef0>,\n",
       " <matplotlib.text.Text at 0x7fa7934964e0>,\n",
       " <matplotlib.text.Text at 0x7fa77425c550>,\n",
       " <matplotlib.text.Text at 0x7fa7742276a0>,\n",
       " <matplotlib.text.Text at 0x7fa77422a0f0>,\n",
       " <matplotlib.text.Text at 0x7fa77421eac8>,\n",
       " <matplotlib.text.Text at 0x7fa77422aa90>,\n",
       " <matplotlib.text.Text at 0x7fa77422e4e0>]"
      ]
     },
     "execution_count": 32,
     "metadata": {},
     "output_type": "execute_result"
    },
    {
     "data": {
      "image/png": "[encoded data removed]",
      "text/plain": [
       "<matplotlib.figure.Figure at 0x7fa7933942b0>"
      ]
     },
     "metadata": {},
     "output_type": "display_data"
    }
   ],
   "source": [
    "sum = la.sum()\n",
    "y = la/sum\n",
    "x = y.plot(kind = 'bar',title = 'Delayed flights Los Angeles(CA) by Airlines(UNIQUE_CARRIER)')\n",
    "vals = x.get_yticks()\n",
    "plt.axes().set_ylabel('percentage of delayed departures')\n",
    "x.set_yticklabels(['{:3.2f}%'.format(x*100) for x in vals])\n",
    "#plt.show();"
   ]
  },
  {
   "cell_type": "code",
   "execution_count": 33,
   "metadata": {
    "collapsed": false
   },
   "outputs": [
    {
     "data": {
      "text/plain": [
       "UNIQUE_CARRIER\n",
       "AS     0.684932\n",
       "B6     1.369863\n",
       "US     1.369863\n",
       "NK     2.054795\n",
       "DL     4.794521\n",
       "VX     6.849315\n",
       "AA    11.643836\n",
       "UA    18.493151\n",
       "WN    24.657534\n",
       "OO    28.082192\n",
       "dtype: float64"
      ]
     },
     "execution_count": 33,
     "metadata": {},
     "output_type": "execute_result"
    }
   ],
   "source": [
    "#the exact percentage at fault\n",
    "exactpercentage = y*100\n",
    "exactpercentage"
   ]
  },
  {
   "cell_type": "markdown",
   "metadata": {},
   "source": [
    "### Phoenix, AZ "
   ]
  },
  {
   "cell_type": "code",
   "execution_count": 34,
   "metadata": {
    "collapsed": false
   },
   "outputs": [
    {
     "data": {
      "text/plain": [
       "UNIQUE_CARRIER\n",
       "NK     1\n",
       "DL     2\n",
       "F9     3\n",
       "UA     6\n",
       "AA     8\n",
       "OO    13\n",
       "US    38\n",
       "WN    46\n",
       "dtype: int64"
      ]
     },
     "execution_count": 34,
     "metadata": {},
     "output_type": "execute_result"
    }
   ],
   "source": [
    "phoenix = df[df['ORIGIN_CITY_NAME'] == 'Phoenix, AZ'].groupby('UNIQUE_CARRIER').size().sort_values(ascending = True)\n",
    "phoenix"
   ]
  },
  {
   "cell_type": "code",
   "execution_count": 35,
   "metadata": {
    "collapsed": false
   },
   "outputs": [
    {
     "data": {
      "image/png": "[encoded data removed]",
      "text/plain": [
       "<matplotlib.figure.Figure at 0x7fa793496048>"
      ]
     },
     "metadata": {},
     "output_type": "display_data"
    }
   ],
   "source": [
    "sum = phoenix.sum()\n",
    "y = phoenix/sum\n",
    "x = y.plot(kind = 'bar',title = 'Delayed flights Phoenix(AZ) by Airlines(UNIQUE_CARRIER)')\n",
    "vals = x.get_yticks()\n",
    "plt.axes().set_ylabel('percentage of delayed departures')\n",
    "x.set_yticklabels(['{:3.2f}%'.format(x*100) for x in vals])\n",
    "plt.show();"
   ]
  },
  {
   "cell_type": "code",
   "execution_count": 36,
   "metadata": {
    "collapsed": false
   },
   "outputs": [
    {
     "data": {
      "text/plain": [
       "UNIQUE_CARRIER\n",
       "NK     0.854701\n",
       "DL     1.709402\n",
       "F9     2.564103\n",
       "UA     5.128205\n",
       "AA     6.837607\n",
       "OO    11.111111\n",
       "US    32.478632\n",
       "WN    39.316239\n",
       "dtype: float64"
      ]
     },
     "execution_count": 36,
     "metadata": {},
     "output_type": "execute_result"
    }
   ],
   "source": [
    "#the exact percentage at fault\n",
    "exactpercentage = y*100\n",
    "exactpercentage"
   ]
  },
  {
   "cell_type": "markdown",
   "metadata": {},
   "source": [
    "### Washington, DC"
   ]
  },
  {
   "cell_type": "code",
   "execution_count": 37,
   "metadata": {
    "collapsed": false
   },
   "outputs": [
    {
     "data": {
      "text/plain": [
       "UNIQUE_CARRIER\n",
       "AS     1\n",
       "VX     2\n",
       "OO     3\n",
       "F9     4\n",
       "MQ     4\n",
       "DL     7\n",
       "AA     9\n",
       "US    12\n",
       "B6    13\n",
       "WN    14\n",
       "UA    18\n",
       "EV    28\n",
       "dtype: int64"
      ]
     },
     "execution_count": 37,
     "metadata": {},
     "output_type": "execute_result"
    }
   ],
   "source": [
    "washington = df[df['ORIGIN_CITY_NAME'] == 'Washington, DC'].groupby('UNIQUE_CARRIER').size().sort_values(ascending = True)\n",
    "washington "
   ]
  },
  {
   "cell_type": "code",
   "execution_count": 38,
   "metadata": {
    "collapsed": false
   },
   "outputs": [
    {
     "data": {
      "image/png": "[encoded data removed]",
      "text/plain": [
       "<matplotlib.figure.Figure at 0x7fa774259a90>"
      ]
     },
     "metadata": {},
     "output_type": "display_data"
    }
   ],
   "source": [
    "sum = washington.sum()\n",
    "y = washington/sum\n",
    "x = y.plot(kind = 'bar',title = 'Delayed flights Washington(DC) by Airlines(UNIQUE_CARRIER)')\n",
    "vals = x.get_yticks()\n",
    "plt.axes().set_ylabel('percentage of delayed departures')\n",
    "x.set_yticklabels(['{:3.2f}%'.format(x*100) for x in vals])\n",
    "plt.show();"
   ]
  },
  {
   "cell_type": "code",
   "execution_count": 39,
   "metadata": {
    "collapsed": false
   },
   "outputs": [
    {
     "data": {
      "text/plain": [
       "UNIQUE_CARRIER\n",
       "AS     0.869565\n",
       "VX     1.739130\n",
       "OO     2.608696\n",
       "F9     3.478261\n",
       "MQ     3.478261\n",
       "DL     6.086957\n",
       "AA     7.826087\n",
       "US    10.434783\n",
       "B6    11.304348\n",
       "WN    12.173913\n",
       "UA    15.652174\n",
       "EV    24.347826\n",
       "dtype: float64"
      ]
     },
     "execution_count": 39,
     "metadata": {},
     "output_type": "execute_result"
    }
   ],
   "source": [
    "#the exact percentage at fault\n",
    "exactpercentage = y*100\n",
    "exactpercentage"
   ]
  },
  {
   "cell_type": "markdown",
   "metadata": {},
   "source": [
    "### Detroit, MI             \n"
   ]
  },
  {
   "cell_type": "code",
   "execution_count": 40,
   "metadata": {
    "collapsed": false
   },
   "outputs": [
    {
     "data": {
      "text/plain": [
       "UNIQUE_CARRIER\n",
       "B6     1\n",
       "US     2\n",
       "WN     7\n",
       "MQ     9\n",
       "OO     9\n",
       "NK    15\n",
       "DL    35\n",
       "EV    36\n",
       "dtype: int64"
      ]
     },
     "execution_count": 40,
     "metadata": {},
     "output_type": "execute_result"
    }
   ],
   "source": [
    "detroit = df[df['ORIGIN_CITY_NAME'] == 'Detroit, MI'].groupby('UNIQUE_CARRIER').size().sort_values(ascending = True)\n",
    "detroit"
   ]
  },
  {
   "cell_type": "code",
   "execution_count": 41,
   "metadata": {
    "collapsed": false
   },
   "outputs": [
    {
     "data": {
      "image/png": "[encoded data removed]",
      "text/plain": [
       "<matplotlib.figure.Figure at 0x7fa7642a6470>"
      ]
     },
     "metadata": {},
     "output_type": "display_data"
    }
   ],
   "source": [
    "sum = detroit.sum()\n",
    "y = detroit/sum\n",
    "x = y.plot(kind = 'bar',title = 'Delayed flights Detroit(MI) by Airlines(UNIQUE_CARRIER)')\n",
    "vals = x.get_yticks()\n",
    "plt.axes().set_ylabel('percentage of delayed departures')\n",
    "x.set_yticklabels(['{:3.2f}%'.format(x*100) for x in vals])\n",
    "plt.show();"
   ]
  },
  {
   "cell_type": "code",
   "execution_count": 42,
   "metadata": {
    "collapsed": false
   },
   "outputs": [
    {
     "data": {
      "text/plain": [
       "UNIQUE_CARRIER\n",
       "B6     0.877193\n",
       "US     1.754386\n",
       "WN     6.140351\n",
       "MQ     7.894737\n",
       "OO     7.894737\n",
       "NK    13.157895\n",
       "DL    30.701754\n",
       "EV    31.578947\n",
       "dtype: float64"
      ]
     },
     "execution_count": 42,
     "metadata": {},
     "output_type": "execute_result"
    }
   ],
   "source": [
    "#the exact percentage at fault\n",
    "exactpercentage = y*100\n",
    "exactpercentage"
   ]
  },
  {
   "cell_type": "markdown",
   "metadata": {},
   "source": [
    "### Orlando, FL "
   ]
  },
  {
   "cell_type": "code",
   "execution_count": 43,
   "metadata": {
    "collapsed": false
   },
   "outputs": [
    {
     "data": {
      "text/plain": [
       "UNIQUE_CARRIER\n",
       "US     4\n",
       "NK     6\n",
       "DL     9\n",
       "F9     9\n",
       "UA    11\n",
       "AA    14\n",
       "WN    20\n",
       "B6    40\n",
       "dtype: int64"
      ]
     },
     "execution_count": 43,
     "metadata": {},
     "output_type": "execute_result"
    }
   ],
   "source": [
    "orlando = df[df['ORIGIN_CITY_NAME'] == 'Orlando, FL'].groupby('UNIQUE_CARRIER').size().sort_values(ascending = True)\n",
    "orlando"
   ]
  },
  {
   "cell_type": "code",
   "execution_count": 44,
   "metadata": {
    "collapsed": false
   },
   "outputs": [
    {
     "data": {
      "image/png": "[encoded data removed]",
      "text/plain": [
       "<matplotlib.figure.Figure at 0x7fa7642987f0>"
      ]
     },
     "metadata": {},
     "output_type": "display_data"
    }
   ],
   "source": [
    "sum = orlando.sum()\n",
    "y = orlando/sum\n",
    "x = y.plot(kind = 'bar',title = 'Delayed flights Orlando(FL) by Airlines(UNIQUE_CARRIER)')\n",
    "vals = x.get_yticks()\n",
    "plt.axes().set_ylabel('percentage of delayed departures')\n",
    "x.set_yticklabels(['{:3.2f}%'.format(x*100) for x in vals])\n",
    "plt.show();"
   ]
  },
  {
   "cell_type": "code",
   "execution_count": 45,
   "metadata": {
    "collapsed": false
   },
   "outputs": [
    {
     "data": {
      "text/plain": [
       "UNIQUE_CARRIER\n",
       "US     3.539823\n",
       "NK     5.309735\n",
       "DL     7.964602\n",
       "F9     7.964602\n",
       "UA     9.734513\n",
       "AA    12.389381\n",
       "WN    17.699115\n",
       "B6    35.398230\n",
       "dtype: float64"
      ]
     },
     "execution_count": 45,
     "metadata": {},
     "output_type": "execute_result"
    }
   ],
   "source": [
    "#the exact percentage at fault\n",
    "exactpercentage = y*100\n",
    "exactpercentage"
   ]
  },
  {
   "cell_type": "markdown",
   "metadata": {},
   "source": [
    "## Total amount of delayed flights by airline in the top the 12 delayed cities in the U.S."
   ]
  },
  {
   "cell_type": "markdown",
   "metadata": {},
   "source": [
    "We can conclude that WN(Southwest Airlines) has the most delays following by OO. "
   ]
  },
  {
   "cell_type": "code",
   "execution_count": 46,
   "metadata": {
    "collapsed": false
   },
   "outputs": [
    {
     "data": {
      "text/plain": [
       "<matplotlib.axes._subplots.AxesSubplot at 0x7fa75f118c88>"
      ]
     },
     "execution_count": 46,
     "metadata": {},
     "output_type": "execute_result"
    },
    {
     "data": {
      "image/png": "[encoded data removed]",
      "text/plain": [
       "<matplotlib.figure.Figure at 0x7fa75f17deb8>"
      ]
     },
     "metadata": {},
     "output_type": "display_data"
    }
   ],
   "source": [
    "total = df[df['ORIGIN_CITY_NAME'].str.contains('Chicago, IL|Dallas/Fort Worth, TX|Denver, CO|Atlanta, GA|New York, NY|Houston, TX|San Francisco, CA|Los Angeles, CA|Phoenix, AZ|Washington, DC|Detroit, MI|Orlando, FL')]\n",
    "total.groupby('UNIQUE_CARRIER').size().sort_values(ascending=True).plot.bar(title = 'Total amount of delays in 12 cities by Airlines')"
   ]
  },
  {
   "cell_type": "markdown",
   "metadata": {},
   "source": [
    "### Interesting visualization (cities with most early departures) \n",
    "    What's interesting is that the same cities that have the most delayed departures can also have the most early flights. New York holds the most early departures in January of 2015. "
   ]
  },
  {
   "cell_type": "code",
   "execution_count": 47,
   "metadata": {
    "collapsed": false
   },
   "outputs": [
    {
     "data": {
      "text/plain": [
       "ORIGIN_CITY_NAME\n",
       "Seattle, WA           225\n",
       "Orlando, FL           237\n",
       "Denver, CO            261\n",
       "Chicago, IL           263\n",
       "Houston, TX           275\n",
       "Salt Lake City, UT    285\n",
       "San Diego, CA         292\n",
       "San Francisco, CA     303\n",
       "Washington, DC        311\n",
       "Los Angeles, CA       341\n",
       "Las Vegas, NV         369\n",
       "New York, NY          379\n",
       "dtype: int64"
      ]
     },
     "execution_count": 47,
     "metadata": {},
     "output_type": "execute_result"
    }
   ],
   "source": [
    "#<-10 meaning at least 10 minutes earlier\n",
    "df2 = dataframe[dataframe['DEP_DELAY'] < -10]\n",
    "df2 = df2.groupby('ORIGIN_CITY_NAME').size()\n",
    "df2.sort_values(ascending = True)[-12:]"
   ]
  },
  {
   "cell_type": "markdown",
   "metadata": {},
   "source": [
    "## Further Analysis "
   ]
  },
  {
   "cell_type": "markdown",
   "metadata": {},
   "source": [
    "Assumption for further research:\n",
    "The data given seems to show relationship with the major Airports in the U.S.(major airports defined by total passenger boardings). The more of the total passenger boardings the more likely it has of delays. [Major Airports](https://en.wikipedia.org/wiki/List_of_the_busiest_airports_in_the_United_States) We can see in the link that the the top 4 cities the major airports are the same as the ones that has the most delays. The others major flight delayed cities are also quite similar in comparison to the list of major airport cities. This requries further research. \n"
   ]
  },
  {
   "cell_type": "markdown",
   "metadata": {},
   "source": [
    "# Problem 2"
   ]
  },
  {
   "cell_type": "markdown",
   "metadata": {},
   "source": [
    "## Answer\n",
    "\n",
    "$P{(A)}=0.8$ Probability of being detected by drone A\n",
    "\n",
    "$P{(B)}=0.9$ Probability of being detected by drone B\n",
    "\n",
    "$P{(A \\cap B) = 0.8*0.9 = 0.72}$ Probability of being detected by both drone A and B\n",
    "\n",
    "$P{(Located|A)} = 0.7$ Probability of being located given that drone A has detected the person\n",
    "\n",
    "$P{(Located|B)} = 0.4$ Probability of being located given that drone B has detected the person\n",
    "\n",
    "This question is a sum of cases \n",
    "\n",
    "    Case 1.\n",
    "located by A given detected by A and not by B \n",
    "\n",
    "$P{(Located|A)}*P{(A)}*P{(B)}^{C}= 0.7 * 0.8 * 0.1 = 0.056$\n",
    "\n",
    "    Case 2 \n",
    "located by B given detected by B and not by A \n",
    "\n",
    "$P{(Located|B)}*P{(B)}*P{(A)}^{C}= 0.4 * 0.9 * 0.2 = 0.072$\n",
    "\n",
    "    Case 3 \n",
    "located by both given detected by both \n",
    "\n",
    "\n",
    "$P{(Located|{(A \\cap B)})}*{P{(A \\cap B)}} = 1*0.8*0.9 = 0.72$\n",
    "\n",
    "    Case 4 \n",
    "not located by both given not detected by both \n",
    "\n",
    "$P{(Located|{(A^{c} \\cap B^{c})})}*{P{(A^{c} \\cap B^{c})}}= 0.2*0.1*0 = 0$\n",
    "\n",
    "    \n",
    "    The sum of 4 cases would be 0.056+0.072+0.72 = 0.848$\n",
    "\n",
    "    Around 85 percent chance for a person to be succesfully located by either drone A or B. \n",
    "    \n",
    "\n",
    "\n",
    "\n"
   ]
  }
 ],
 "metadata": {
  "kernelspec": {
   "display_name": "Python 3",
   "language": "python",
   "name": "python3"
  },
  "language_info": {
   "codemirror_mode": {
    "name": "ipython",
    "version": 3
   },
   "file_extension": ".py",
   "mimetype": "text/x-python",
   "name": "python",
   "nbconvert_exporter": "python",
   "pygments_lexer": "ipython3",
   "version": "3.5.2"
  }
 },
 "nbformat": 4,
 "nbformat_minor": 1
}
