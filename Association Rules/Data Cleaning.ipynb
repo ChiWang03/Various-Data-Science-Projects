{
 "cells": [
  {
   "cell_type": "code",
   "execution_count": 58,
   "metadata": {
    "collapsed": true
   },
   "outputs": [],
   "source": [
    "import pandas as pd\n",
    "import numpy as np"
   ]
  },
  {
   "cell_type": "markdown",
   "metadata": {},
   "source": [
    "# Feature Engineering and Data Cleaning\n",
    "* Data description taken from https://github.com/rudeboybert/JSE_OkCupid/blob/master/okcupid_codebook.txt\n",
    "* Note: Missing Data is blank"
   ]
  },
  {
   "cell_type": "code",
   "execution_count": 59,
   "metadata": {},
   "outputs": [
    {
     "name": "stderr",
     "output_type": "stream",
     "text": [
      "/Users/chi/anaconda/lib/python3.6/site-packages/IPython/core/interactiveshell.py:2717: DtypeWarning: Columns (0,7,8) have mixed types. Specify dtype option on import or set low_memory=False.\n",
      "  interactivity=interactivity, compiler=compiler, result=result)\n"
     ]
    }
   ],
   "source": [
    "df = pd.read_csv(\"okcupidprofiles.csv\", index_col = 0)\n",
    "df_bias = pd.read_csv(\"okcupidprofiles.csv\", index_col = 0)"
   ]
  },
  {
   "cell_type": "markdown",
   "metadata": {},
   "source": [
    "## Drop last_online since it is kind of numeric even thought theres only 24 different dates."
   ]
  },
  {
   "cell_type": "code",
   "execution_count": 60,
   "metadata": {
    "collapsed": true
   },
   "outputs": [],
   "source": [
    "df = df.drop([\"last_online\"], axis = 1)\n",
    "df_bias = df_bias.drop([\"last_online\"], axis = 1)"
   ]
  },
  {
   "cell_type": "code",
   "execution_count": 61,
   "metadata": {
    "collapsed": true
   },
   "outputs": [],
   "source": [
    "len(df_bias[df_bias[\"income\"] == -1])/len(df_bias)\n",
    "#So 37% of the data is rather not say, this wont really be useful so lets remove the column\n",
    "df = df.drop([\"income\"], axis = 1)\n",
    "df_bias = df_bias.drop([\"income\"], axis = 1)"
   ]
  },
  {
   "cell_type": "code",
   "execution_count": 62,
   "metadata": {},
   "outputs": [
    {
     "data": {
      "text/plain": [
       "60743"
      ]
     },
     "execution_count": 62,
     "metadata": {},
     "output_type": "execute_result"
    }
   ],
   "source": [
    "len(df) #We have 60743 profiles "
   ]
  },
  {
   "cell_type": "code",
   "execution_count": 63,
   "metadata": {},
   "outputs": [
    {
     "data": {
      "text/html": [
       "<div>\n",
       "<style scoped>\n",
       "    .dataframe tbody tr th:only-of-type {\n",
       "        vertical-align: middle;\n",
       "    }\n",
       "\n",
       "    .dataframe tbody tr th {\n",
       "        vertical-align: top;\n",
       "    }\n",
       "\n",
       "    .dataframe thead th {\n",
       "        text-align: right;\n",
       "    }\n",
       "</style>\n",
       "<table border=\"1\" class=\"dataframe\">\n",
       "  <thead>\n",
       "    <tr style=\"text-align: right;\">\n",
       "      <th></th>\n",
       "      <th>body_type</th>\n",
       "      <th>diet</th>\n",
       "      <th>drinks</th>\n",
       "      <th>drugs</th>\n",
       "      <th>education</th>\n",
       "      <th>ethnicity</th>\n",
       "      <th>height</th>\n",
       "      <th>job</th>\n",
       "      <th>location</th>\n",
       "      <th>offspring</th>\n",
       "      <th>orientation</th>\n",
       "      <th>pets</th>\n",
       "      <th>religion</th>\n",
       "      <th>sex</th>\n",
       "      <th>sign</th>\n",
       "      <th>smokes</th>\n",
       "      <th>speaks</th>\n",
       "      <th>status</th>\n",
       "    </tr>\n",
       "    <tr>\n",
       "      <th>age</th>\n",
       "      <th></th>\n",
       "      <th></th>\n",
       "      <th></th>\n",
       "      <th></th>\n",
       "      <th></th>\n",
       "      <th></th>\n",
       "      <th></th>\n",
       "      <th></th>\n",
       "      <th></th>\n",
       "      <th></th>\n",
       "      <th></th>\n",
       "      <th></th>\n",
       "      <th></th>\n",
       "      <th></th>\n",
       "      <th></th>\n",
       "      <th></th>\n",
       "      <th></th>\n",
       "      <th></th>\n",
       "    </tr>\n",
       "  </thead>\n",
       "  <tbody>\n",
       "    <tr>\n",
       "      <th>22</th>\n",
       "      <td>a little extra</td>\n",
       "      <td>strictly anything</td>\n",
       "      <td>socially</td>\n",
       "      <td>never</td>\n",
       "      <td>working on college/university</td>\n",
       "      <td>asian, white</td>\n",
       "      <td>75</td>\n",
       "      <td>transportation</td>\n",
       "      <td>south san francisco, california</td>\n",
       "      <td>doesn&amp;rsquo;t have kids, but might want them</td>\n",
       "      <td>straight</td>\n",
       "      <td>likes dogs and likes cats</td>\n",
       "      <td>agnosticism and very serious about it</td>\n",
       "      <td>m</td>\n",
       "      <td>gemini</td>\n",
       "      <td>sometimes</td>\n",
       "      <td>english</td>\n",
       "      <td>single</td>\n",
       "    </tr>\n",
       "    <tr>\n",
       "      <th>35</th>\n",
       "      <td>average</td>\n",
       "      <td>mostly other</td>\n",
       "      <td>often</td>\n",
       "      <td>sometimes</td>\n",
       "      <td>working on space camp</td>\n",
       "      <td>white</td>\n",
       "      <td>70</td>\n",
       "      <td>hospitality / travel</td>\n",
       "      <td>oakland, california</td>\n",
       "      <td>doesn&amp;rsquo;t have kids, but might want them</td>\n",
       "      <td>straight</td>\n",
       "      <td>likes dogs and likes cats</td>\n",
       "      <td>agnosticism but not too serious about it</td>\n",
       "      <td>m</td>\n",
       "      <td>cancer</td>\n",
       "      <td>no</td>\n",
       "      <td>english (fluently), spanish (poorly), french (...</td>\n",
       "      <td>single</td>\n",
       "    </tr>\n",
       "    <tr>\n",
       "      <th>38</th>\n",
       "      <td>thin</td>\n",
       "      <td>anything</td>\n",
       "      <td>socially</td>\n",
       "      <td>NaN</td>\n",
       "      <td>graduated from masters program</td>\n",
       "      <td>NaN</td>\n",
       "      <td>68</td>\n",
       "      <td>NaN</td>\n",
       "      <td>san francisco, california</td>\n",
       "      <td>NaN</td>\n",
       "      <td>straight</td>\n",
       "      <td>has cats</td>\n",
       "      <td>NaN</td>\n",
       "      <td>m</td>\n",
       "      <td>pisces but it doesn&amp;rsquo;t matter</td>\n",
       "      <td>no</td>\n",
       "      <td>english, french, c++</td>\n",
       "      <td>available</td>\n",
       "    </tr>\n",
       "    <tr>\n",
       "      <th>23</th>\n",
       "      <td>thin</td>\n",
       "      <td>vegetarian</td>\n",
       "      <td>socially</td>\n",
       "      <td>NaN</td>\n",
       "      <td>working on college/university</td>\n",
       "      <td>white</td>\n",
       "      <td>71</td>\n",
       "      <td>student</td>\n",
       "      <td>berkeley, california</td>\n",
       "      <td>doesn&amp;rsquo;t want kids</td>\n",
       "      <td>straight</td>\n",
       "      <td>likes cats</td>\n",
       "      <td>NaN</td>\n",
       "      <td>m</td>\n",
       "      <td>pisces</td>\n",
       "      <td>no</td>\n",
       "      <td>english, german (poorly)</td>\n",
       "      <td>single</td>\n",
       "    </tr>\n",
       "    <tr>\n",
       "      <th>29</th>\n",
       "      <td>athletic</td>\n",
       "      <td>NaN</td>\n",
       "      <td>socially</td>\n",
       "      <td>never</td>\n",
       "      <td>graduated from college/university</td>\n",
       "      <td>asian, black, other</td>\n",
       "      <td>66</td>\n",
       "      <td>artistic / musical / writer</td>\n",
       "      <td>san francisco, california</td>\n",
       "      <td>NaN</td>\n",
       "      <td>straight</td>\n",
       "      <td>likes dogs and likes cats</td>\n",
       "      <td>NaN</td>\n",
       "      <td>m</td>\n",
       "      <td>aquarius</td>\n",
       "      <td>no</td>\n",
       "      <td>english</td>\n",
       "      <td>single</td>\n",
       "    </tr>\n",
       "  </tbody>\n",
       "</table>\n",
       "</div>"
      ],
      "text/plain": [
       "          body_type               diet    drinks      drugs  \\\n",
       "age                                                           \n",
       "22   a little extra  strictly anything  socially      never   \n",
       "35          average       mostly other     often  sometimes   \n",
       "38             thin           anything  socially        NaN   \n",
       "23             thin         vegetarian  socially        NaN   \n",
       "29         athletic                NaN  socially      never   \n",
       "\n",
       "                             education            ethnicity height  \\\n",
       "age                                                                  \n",
       "22       working on college/university         asian, white     75   \n",
       "35               working on space camp                white     70   \n",
       "38      graduated from masters program                  NaN     68   \n",
       "23       working on college/university                white     71   \n",
       "29   graduated from college/university  asian, black, other     66   \n",
       "\n",
       "                             job                         location  \\\n",
       "age                                                                 \n",
       "22                transportation  south san francisco, california   \n",
       "35          hospitality / travel              oakland, california   \n",
       "38                           NaN        san francisco, california   \n",
       "23                       student             berkeley, california   \n",
       "29   artistic / musical / writer        san francisco, california   \n",
       "\n",
       "                                        offspring orientation  \\\n",
       "age                                                             \n",
       "22   doesn&rsquo;t have kids, but might want them    straight   \n",
       "35   doesn&rsquo;t have kids, but might want them    straight   \n",
       "38                                            NaN    straight   \n",
       "23                        doesn&rsquo;t want kids    straight   \n",
       "29                                            NaN    straight   \n",
       "\n",
       "                          pets                                  religion sex  \\\n",
       "age                                                                            \n",
       "22   likes dogs and likes cats     agnosticism and very serious about it   m   \n",
       "35   likes dogs and likes cats  agnosticism but not too serious about it   m   \n",
       "38                    has cats                                       NaN   m   \n",
       "23                  likes cats                                       NaN   m   \n",
       "29   likes dogs and likes cats                                       NaN   m   \n",
       "\n",
       "                                   sign     smokes  \\\n",
       "age                                                  \n",
       "22                               gemini  sometimes   \n",
       "35                               cancer         no   \n",
       "38   pisces but it doesn&rsquo;t matter         no   \n",
       "23                               pisces         no   \n",
       "29                             aquarius         no   \n",
       "\n",
       "                                                speaks     status  \n",
       "age                                                                \n",
       "22                                             english     single  \n",
       "35   english (fluently), spanish (poorly), french (...     single  \n",
       "38                                english, french, c++  available  \n",
       "23                            english, german (poorly)     single  \n",
       "29                                             english     single  "
      ]
     },
     "execution_count": 63,
     "metadata": {},
     "output_type": "execute_result"
    }
   ],
   "source": [
    "df.head()"
   ]
  },
  {
   "cell_type": "markdown",
   "metadata": {},
   "source": [
    "# Percentage of Na's in Each Predictor"
   ]
  },
  {
   "cell_type": "code",
   "execution_count": 64,
   "metadata": {},
   "outputs": [
    {
     "name": "stdout",
     "output_type": "stream",
     "text": [
      "offspring      59.857103\n",
      "diet           41.374315\n",
      "religion       34.614688\n",
      "pets           34.109280\n",
      "drugs          24.473602\n",
      "sign           19.518298\n",
      "job            14.808291\n",
      "education      12.212107\n",
      "ethnicity      10.662957\n",
      "smokes         10.391321\n",
      "body_type       9.500683\n",
      "drinks          6.180136\n",
      "speaks          1.399338\n",
      "status          1.317024\n",
      "height          1.317024\n",
      "sex             1.317024\n",
      "orientation     1.315378\n",
      "location        1.315378\n",
      "dtype: float64\n",
      "18\n"
     ]
    }
   ],
   "source": [
    "cleaned = (df.isnull().sum() / len(df)) * 100\n",
    "cleaned = cleaned.drop(cleaned[cleaned == 0].index).sort_values(ascending=False)\n",
    "print(cleaned)\n",
    "print(len(cleaned))"
   ]
  },
  {
   "cell_type": "markdown",
   "metadata": {},
   "source": [
    "# Lets fix the Na's in each of the predcitors \n",
    "# Since missing data means blank we will drop all the missing data by row "
   ]
  },
  {
   "cell_type": "code",
   "execution_count": 65,
   "metadata": {},
   "outputs": [
    {
     "name": "stdout",
     "output_type": "stream",
     "text": [
      "Number of rows in data without any Na's:  7125  and with Na's:  60743\n"
     ]
    }
   ],
   "source": [
    "df_no_na = df.dropna(axis = 0)\n",
    "print(\"Number of rows in data without any Na's: \", len(df_no_na), \" and with Na's: \", len(df))"
   ]
  },
  {
   "cell_type": "markdown",
   "metadata": {},
   "source": [
    "### By removing all the Na's we are now missing 88% of the original data set. This may be a problem.\n",
    "#### Solution 1: Another way to fix the Na's is set up an extra category such as \"None\". In place of the missing values or blank. \n",
    "#### Solution 2: A combination of solution 1 and removing all na's based on what I perceive as \"Other: blank\""
   ]
  },
  {
   "cell_type": "markdown",
   "metadata": {},
   "source": [
    "### Solution 1"
   ]
  },
  {
   "cell_type": "code",
   "execution_count": 66,
   "metadata": {
    "collapsed": true
   },
   "outputs": [],
   "source": [
    "df_filled= df.fillna(\"None\")"
   ]
  },
  {
   "cell_type": "markdown",
   "metadata": {},
   "source": [
    "### Solution 2"
   ]
  },
  {
   "cell_type": "code",
   "execution_count": 67,
   "metadata": {
    "collapsed": true
   },
   "outputs": [],
   "source": [
    "df_bias[\"offspring\"] = df_bias[\"offspring\"].fillna(\"None\")\n",
    "df_bias[\"diet\"] = df_bias[\"diet\"].fillna(\"Other: blank\")\n",
    "df_bias[\"religion\"] = df_bias [\"religion\"].fillna(\"None\")"
   ]
  },
  {
   "cell_type": "code",
   "execution_count": 68,
   "metadata": {},
   "outputs": [
    {
     "data": {
      "text/plain": [
       "None                               20719\n",
       "likes dogs and likes cats          14813\n",
       "likes dogs                          7224\n",
       "likes dogs and has cats             4313\n",
       "has dogs                            4133\n",
       "has dogs and likes cats             2333\n",
       "likes dogs and dislikes cats        2029\n",
       "has dogs and has cats               1474\n",
       "has cats                            1406\n",
       "likes cats                          1063\n",
       "has dogs and dislikes cats           552\n",
       "dislikes dogs and likes cats         240\n",
       "dislikes dogs and dislikes cats      196\n",
       "dislikes cats                        122\n",
       "dislikes dogs and has cats            81\n",
       "dislikes dogs                         44\n",
       "single                                 1\n",
       "Name: pets, dtype: int64"
      ]
     },
     "execution_count": 68,
     "metadata": {},
     "output_type": "execute_result"
    }
   ],
   "source": [
    "#this seems rather weird since there are no other choices for different pets \n",
    "#so we will fill the na's with rather not say as well\n",
    "df_bias[\"pets\"] = df_bias[\"pets\"].fillna(\"None\")\n",
    "df_bias[\"pets\"].value_counts()"
   ]
  },
  {
   "cell_type": "code",
   "execution_count": 69,
   "metadata": {
    "collapsed": true
   },
   "outputs": [],
   "source": [
    "df_bias = df_bias.dropna(subset= [\"drugs\"], axis = 0)\n",
    "#this is a rather interesting column since the only choices are never, sometimes and often\n",
    "#Usually people would not put something rather than blank as a choice since its generally perceived as bad to do drugs?"
   ]
  },
  {
   "cell_type": "code",
   "execution_count": 70,
   "metadata": {
    "collapsed": true
   },
   "outputs": [],
   "source": [
    "df_bias[\"sign\"] = df_bias[\"sign\"].fillna(\"None\")"
   ]
  },
  {
   "cell_type": "code",
   "execution_count": 71,
   "metadata": {
    "collapsed": true
   },
   "outputs": [],
   "source": [
    "#since job has most of the choices I will just remove the na's\n",
    "df_bias = df_bias.dropna(subset= [\"job\"], axis = 0)"
   ]
  },
  {
   "cell_type": "code",
   "execution_count": 72,
   "metadata": {},
   "outputs": [
    {
     "name": "stdout",
     "output_type": "stream",
     "text": [
      "ethnicity      4.695191\n",
      "body_type      4.495991\n",
      "education      4.377459\n",
      "smokes         2.643926\n",
      "drinks         1.149104\n",
      "speaks         0.041157\n",
      "status         0.004939\n",
      "sex            0.004939\n",
      "orientation    0.003293\n",
      "location       0.003293\n",
      "dtype: float64\n",
      "10\n"
     ]
    }
   ],
   "source": [
    "cleaned = (df_bias.isnull().sum() / len(df)) * 100\n",
    "cleaned = cleaned.drop(cleaned[cleaned == 0].index).sort_values(ascending=False)\n",
    "print(cleaned)\n",
    "print(len(cleaned))"
   ]
  },
  {
   "cell_type": "code",
   "execution_count": 73,
   "metadata": {
    "collapsed": true
   },
   "outputs": [],
   "source": [
    "#ethnicity has most of the choice of other so lets just remove the na's\n",
    "df_bias = df_bias.dropna(subset= [\"ethnicity\"], axis = 0)"
   ]
  },
  {
   "cell_type": "code",
   "execution_count": 74,
   "metadata": {
    "collapsed": true
   },
   "outputs": [],
   "source": [
    "#body_type has rather not say probalby meaning blank so ill remove na's as well\n",
    "df_bias = df_bias.dropna(subset= [\"body_type\"], axis = 0)"
   ]
  },
  {
   "cell_type": "code",
   "execution_count": 75,
   "metadata": {
    "collapsed": true
   },
   "outputs": [],
   "source": [
    "df_bias[\"education\"] = df_bias[\"education\"].fillna(\"None\")"
   ]
  },
  {
   "cell_type": "code",
   "execution_count": 76,
   "metadata": {
    "collapsed": true
   },
   "outputs": [],
   "source": [
    "#same reason as drugs\n",
    "df_bias = df_bias.dropna(subset= [\"smokes\"], axis = 0)"
   ]
  },
  {
   "cell_type": "code",
   "execution_count": 77,
   "metadata": {
    "collapsed": true
   },
   "outputs": [],
   "source": [
    "#Since these have only a small percentage we'll just remove the na's\n",
    "df_bias = df_bias.dropna(axis =0)"
   ]
  },
  {
   "cell_type": "markdown",
   "metadata": {},
   "source": [
    "## Check to see if we have cleaned every column"
   ]
  },
  {
   "cell_type": "code",
   "execution_count": 82,
   "metadata": {},
   "outputs": [
    {
     "name": "stdout",
     "output_type": "stream",
     "text": [
      "Series([], dtype: float64)\n",
      "0\n"
     ]
    }
   ],
   "source": [
    "cleaned = (df_bias.isnull().sum() / len(df)) * 100\n",
    "cleaned = cleaned.drop(cleaned[cleaned == 0].index).sort_values(ascending=False)\n",
    "print(cleaned)\n",
    "print(len(cleaned))\n",
    "#yes we have finised our feature engineering"
   ]
  },
  {
   "cell_type": "code",
   "execution_count": 84,
   "metadata": {
    "collapsed": true
   },
   "outputs": [],
   "source": [
    "#age, height(inches), income our numeric so we will alter this before we play around with association rules in R "
   ]
  },
  {
   "cell_type": "code",
   "execution_count": 85,
   "metadata": {},
   "outputs": [],
   "source": [
    "df_no_na.to_csv(\"no_na.csv\",encoding='utf-8')\n",
    "df_filled.to_csv(\"filled.csv\",encoding='utf-8')\n",
    "df_bias.to_csv(\"bias.csv\",encoding='utf-8')"
   ]
  },
  {
   "cell_type": "code",
   "execution_count": null,
   "metadata": {
    "collapsed": true
   },
   "outputs": [],
   "source": []
  },
  {
   "cell_type": "code",
   "execution_count": null,
   "metadata": {
    "collapsed": true
   },
   "outputs": [],
   "source": []
  },
  {
   "cell_type": "code",
   "execution_count": null,
   "metadata": {
    "collapsed": true
   },
   "outputs": [],
   "source": []
  }
 ],
 "metadata": {
  "kernelspec": {
   "display_name": "Python 3",
   "language": "python",
   "name": "python3"
  },
  "language_info": {
   "codemirror_mode": {
    "name": "ipython",
    "version": 3
   },
   "file_extension": ".py",
   "mimetype": "text/x-python",
   "name": "python",
   "nbconvert_exporter": "python",
   "pygments_lexer": "ipython3",
   "version": "3.6.1"
  }
 },
 "nbformat": 4,
 "nbformat_minor": 2
}
