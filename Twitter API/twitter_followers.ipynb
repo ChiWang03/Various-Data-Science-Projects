{
 "cells": [
  {
   "cell_type": "code",
   "execution_count": 10,
   "metadata": {},
   "outputs": [],
   "source": [
    "import tweepy\n",
    "import time\n",
    "import csv\n",
    "import sys\n",
    "from keys import keys "
   ]
  },
  {
   "cell_type": "code",
   "execution_count": 14,
   "metadata": {},
   "outputs": [],
   "source": [
    "#referred to aspiringguru's twitterDataAnalyse repository\n",
    "def fn(var):\n",
    "    l0 = [] \n",
    "    l1 = []\n",
    "    l2 = [] \n",
    "    l3 = []\n",
    "    l4 = [] \n",
    "    l5 = []\n",
    "    if len(var)<2:\n",
    "        accountvar = str(sys.argv[1])\n",
    "    else:\n",
    "        accountvar = input(\"Account name: \")\n",
    "\n",
    "    if accountvar[0]==\"@\":\n",
    "        accountvar = accountvar[1:]\n",
    "\n",
    "    from keys import keys \n",
    "    CONSUMER_KEY = keys['consumer_key']\n",
    "    CONSUMER_SECRET = keys['consumer_secret']\n",
    "    ACCESS_TOKEN = keys['access_token']\n",
    "    ACCESS_TOKEN_SECRET = keys['access_token_secret']\n",
    "    auth = tweepy.OAuthHandler(CONSUMER_KEY, CONSUMER_SECRET)\n",
    "    auth.set_access_token(ACCESS_TOKEN, ACCESS_TOKEN_SECRET)\n",
    "    api = tweepy.API(auth, wait_on_rate_limit=True, wait_on_rate_limit_notify=True)\n",
    "\n",
    "    users = tweepy.Cursor(api.followers, screen_name=accountvar).items()\n",
    "    count = 0 \n",
    "    errorCount=0\n",
    "    \n",
    "    while True:\n",
    "        try:\n",
    "            user = next(users)\n",
    "            count += 1\n",
    "        except tweepy.TweepError:\n",
    "            time.sleep(60*16)\n",
    "            user = next(users)\n",
    "        except StopIteration:\n",
    "            break\n",
    "        try:\n",
    "            i= user.screen_name\n",
    "            u = str(user.followers_count) #screen name\n",
    "            z = str(user.statuses_count) #number of followers\n",
    "            n = str(user.location) #tweets and location\n",
    "            m = str(user.geo_enabled) #\n",
    "            c = str(count)\n",
    "            \n",
    "            l0.append(i)\n",
    "            l1.append(u)\n",
    "            l2.append(z)\n",
    "            l3.append(n)\n",
    "            l4.append(m)\n",
    "            l5.append(c)\n",
    "            with open(\"ElonMuskTwitter.csv\",'w') as resultFile:\n",
    "                for i in range(len(l0)):\n",
    "                    wr = csv.writer(resultFile, dialect='excel')\n",
    "                    wr.writerow([l0[i], l1[i], l2[i], l3[i], l4[i], l5[i]])\n",
    "        except UnicodeEncodeError:\n",
    "            errorCount += 1  "
   ]
  },
  {
   "cell_type": "code",
   "execution_count": null,
   "metadata": {},
   "outputs": [
    {
     "name": "stdout",
     "output_type": "stream",
     "text": [
      "Account name: elonmusk\n"
     ]
    },
    {
     "name": "stderr",
     "output_type": "stream",
     "text": [
      "Rate limit reached. Sleeping for: 57\n",
      "Rate limit reached. Sleeping for: 896\n"
     ]
    }
   ],
   "source": [
    "fn(sys.argv)"
   ]
  },
  {
   "cell_type": "code",
   "execution_count": null,
   "metadata": {
    "collapsed": true
   },
   "outputs": [],
   "source": []
  }
 ],
 "metadata": {
  "kernelspec": {
   "display_name": "Python 3",
   "language": "python",
   "name": "python3"
  },
  "language_info": {
   "codemirror_mode": {
    "name": "ipython",
    "version": 3
   },
   "file_extension": ".py",
   "mimetype": "text/x-python",
   "name": "python",
   "nbconvert_exporter": "python",
   "pygments_lexer": "ipython3",
   "version": "3.6.8"
  }
 },
 "nbformat": 4,
 "nbformat_minor": 2
}
