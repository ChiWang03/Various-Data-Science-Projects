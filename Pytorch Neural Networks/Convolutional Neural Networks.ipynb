{
 "cells": [
  {
   "cell_type": "markdown",
   "metadata": {
    "colab_type": "text",
    "id": "Ti4jYk_NSJyu"
   },
   "source": [
    "# Convolutional Neural Networks"
   ]
  },
  {
   "cell_type": "markdown",
   "metadata": {
    "colab_type": "text",
    "id": "UXIJ0oDgVP0S"
   },
   "source": [
    "# **The lab has two parts. The first part of the lab acts as a tutorial for you to get familiar with PyTorch CNN. In the second part you will have to do some real coding.**\n",
    "\n",
    "---\n",
    "\n"
   ]
  },
  {
   "cell_type": "markdown",
   "metadata": {
    "colab_type": "text",
    "id": "-UCXtW7lSJyz"
   },
   "source": [
    "This lab expects a basic understanding of pytorch and convolutional networks.\n",
    "\n",
    "* `torch.nn` documentation http://pytorch.org/docs/master/nn.html\n",
    "* Convolution animations. Make sure to understand these animations so you can visualize stride, padding, etc. https://github.com/vdumoulin/conv_arithmetic/blob/master/README.md\n",
    "* If you want to look at something more complicated, check out the ResNet implementation in torchvision: https://github.com/pytorch/vision/blob/master/torchvision/models/resnet.py"
   ]
  },
  {
   "cell_type": "code",
   "execution_count": 149,
   "metadata": {
    "colab": {},
    "colab_type": "code",
    "id": "e1mAJyfbSJy0"
   },
   "outputs": [],
   "source": [
    "import torch\n",
    "import torch.nn.functional as F\n",
    "from torch import autograd, nn\n",
    "from torch.autograd import Variable\n",
    "import numpy as np\n",
    "import matplotlib.pyplot as plt\n",
    "from torchvision import transforms, datasets"
   ]
  },
  {
   "cell_type": "markdown",
   "metadata": {
    "colab_type": "text",
    "id": "yLzWNO7nSJy6"
   },
   "source": [
    "## Data Format"
   ]
  },
  {
   "cell_type": "markdown",
   "metadata": {
    "colab_type": "text",
    "id": "bGU4BfdVSJy7"
   },
   "source": [
    "Dimension ordering is very important. For pytorch:\n",
    "\n",
    "* 2D data like images should be `(samples, channels, height, width)` sometimes called \"NCHW\" or \"channels first\"\n",
    "* 1D data like stock prices should be `(samples, channels, time)`\n",
    "* 2D filters should be `(out_channels, in_channels, height, width)`\n",
    "* 1D filters should be `(out_channels, in_channels, time)`\n",
    "\n",
    "Different frameworks (e.g., TensorFlow) use different dimension orderings so be very careful, especially when implementing code or reading data targeted at a different framework.\n",
    "\n",
    "Note most image data is RGB but some is BGR  or ARGB."
   ]
  },
  {
   "cell_type": "code",
   "execution_count": 150,
   "metadata": {
    "colab": {
     "base_uri": "https://localhost:8080/",
     "height": 51
    },
    "colab_type": "code",
    "id": "XrbQgOImSJy9",
    "outputId": "c2d12677-4568-4d59-9093-ea7d4c1fc271"
   },
   "outputs": [
    {
     "name": "stdout",
     "output_type": "stream",
     "text": [
      "torch.Size([1, 3, 32, 32])\n",
      "torch.Size([1, 40, 100])\n"
     ]
    }
   ],
   "source": [
    "input_image = autograd.Variable(torch.randn(1,3,32,32)) # single 32x32 RGB image\n",
    "print(input_image.size())\n",
    "input_signal = autograd.Variable(torch.randn(1,40,100)) # 40 dimensional signal for 100 timesteps\n",
    "print(input_signal.size())"
   ]
  },
  {
   "cell_type": "markdown",
   "metadata": {
    "colab_type": "text",
    "id": "QyckDsMTSJzD"
   },
   "source": [
    "## Convolutional Layers"
   ]
  },
  {
   "cell_type": "markdown",
   "metadata": {
    "colab_type": "text",
    "id": "uqknLcM6SJzE"
   },
   "source": [
    "The `torch.nn` module provides layers for CNNs. Use in the same way as other modules. Please refer to the documentation for details. Some of the most common layers you will use:\n",
    "\n",
    "* `torch.nn.Conv2d`\n",
    "* `torch.nn.ConvTranspose2d`\n",
    "* `torch.nn.MaxPool2d`\n",
    "* `torch.nn.AvgPool2d`\n"
   ]
  },
  {
   "cell_type": "code",
   "execution_count": 151,
   "metadata": {
    "colab": {},
    "colab_type": "code",
    "id": "OlHjCz4ESJzF"
   },
   "outputs": [],
   "source": [
    "# Create layers\n",
    "layer_c2d = torch.nn.Conv2d(in_channels=3, out_channels=20, kernel_size=5, stride=1, padding=2)\n",
    "layer_avg = torch.nn.AvgPool2d(kernel_size=32)"
   ]
  },
  {
   "cell_type": "code",
   "execution_count": 152,
   "metadata": {
    "colab": {
     "base_uri": "https://localhost:8080/",
     "height": 34
    },
    "colab_type": "code",
    "id": "h31ed0W8SJzI",
    "outputId": "e884fafe-1961-44c4-b7cc-9ae75acc3ced"
   },
   "outputs": [
    {
     "name": "stdout",
     "output_type": "stream",
     "text": [
      "torch.Size([1, 20, 32, 32])\n"
     ]
    }
   ],
   "source": [
    "# Use layers directly\n",
    "y = layer_c2d(input_image)\n",
    "print(y.size())"
   ]
  },
  {
   "cell_type": "code",
   "execution_count": 153,
   "metadata": {
    "colab": {
     "base_uri": "https://localhost:8080/",
     "height": 34
    },
    "colab_type": "code",
    "id": "MzgjDWpOSJzN",
    "outputId": "d1c4502d-a78f-44ca-8ba1-cf5c8769c522"
   },
   "outputs": [
    {
     "name": "stdout",
     "output_type": "stream",
     "text": [
      "torch.Size([1, 20, 1, 1])\n"
     ]
    }
   ],
   "source": [
    "# Add layers to model\n",
    "model = torch.nn.Sequential(layer_avg, layer_c2d)\n",
    "y = model(input_image)\n",
    "print(y.size())"
   ]
  },
  {
   "cell_type": "markdown",
   "metadata": {
    "colab_type": "text",
    "id": "gEQrgJWCSJzQ"
   },
   "source": [
    "## Convolutional Functions"
   ]
  },
  {
   "cell_type": "markdown",
   "metadata": {
    "colab_type": "text",
    "id": "61_tagEvSJzS"
   },
   "source": [
    "The `torch.nn.functional` module provides low-level functions. Depending on what kinds of models you are making, you may never have to use these functions, and use pre-made layers instead. When using the functional module, you need to instantiate parameters yourself.\n",
    "\n",
    "http://pytorch.org/docs/0.1.12/nn.html#torch-nn-functional\n",
    "\n",
    "Example low-level functions:\n",
    "\n",
    "* `F.max_pool2d`\n",
    "* `F.dropout2d`\n",
    "* `F.conv2d`"
   ]
  },
  {
   "cell_type": "code",
   "execution_count": 154,
   "metadata": {
    "colab": {
     "base_uri": "https://localhost:8080/",
     "height": 34
    },
    "colab_type": "code",
    "id": "qIdS3aSnSJzT",
    "outputId": "42ee0698-4646-4a55-dc35-4d547691e06d"
   },
   "outputs": [
    {
     "name": "stdout",
     "output_type": "stream",
     "text": [
      "torch.Size([1, 20, 32, 32])\n"
     ]
    }
   ],
   "source": [
    "filters = autograd.Variable(torch.randn(20,3,5,5)) # 5x5 filter from 3 dimensions to 20\n",
    "y=F.conv2d(input_image, filters, padding=2)\n",
    "print(y.size())"
   ]
  },
  {
   "cell_type": "code",
   "execution_count": 155,
   "metadata": {
    "colab": {
     "base_uri": "https://localhost:8080/",
     "height": 34
    },
    "colab_type": "code",
    "id": "WvmmSlvOSJzX",
    "outputId": "c2bd66d0-768d-4663-ba66-cae145d007a5"
   },
   "outputs": [
    {
     "name": "stdout",
     "output_type": "stream",
     "text": [
      "torch.Size([1, 256, 100])\n"
     ]
    }
   ],
   "source": [
    "filters = autograd.Variable(torch.randn(256,40,5)) # 5 wide filter from 40 dimensions to 256\n",
    "y=F.conv1d(input_signal, filters, padding=2)\n",
    "print(y.size())"
   ]
  },
  {
   "cell_type": "markdown",
   "metadata": {
    "colab_type": "text",
    "id": "yL-JqNGeSJzb"
   },
   "source": [
    "For example, if you generate the kernel using a neural network, you will have to use the functional module instead of a standard convolutional layer."
   ]
  },
  {
   "cell_type": "markdown",
   "metadata": {
    "colab_type": "text",
    "id": "KeuXp35SSJzc"
   },
   "source": [
    "## Padding"
   ]
  },
  {
   "cell_type": "markdown",
   "metadata": {
    "colab_type": "text",
    "id": "nVe9SsxrSJzd"
   },
   "source": [
    "Simple 0-padding can be accomplished using the `padding` keyword argument of many functions. Normally, you will be using the same vertical and horizontal padding but you can also pass a tuple `(H,W)`. Padding is applied symmetrically."
   ]
  },
  {
   "cell_type": "code",
   "execution_count": 156,
   "metadata": {
    "colab": {
     "base_uri": "https://localhost:8080/",
     "height": 102
    },
    "colab_type": "code",
    "id": "WrhsnzpBSJze",
    "outputId": "70c9589c-1d4f-4f37-db19-7a42be64e45d"
   },
   "outputs": [
    {
     "name": "stdout",
     "output_type": "stream",
     "text": [
      "torch.Size([1, 20, 26, 26])\n",
      "torch.Size([1, 20, 28, 28])\n",
      "torch.Size([1, 20, 30, 30])\n",
      "torch.Size([1, 20, 32, 32])\n",
      "torch.Size([1, 20, 26, 32])\n"
     ]
    }
   ],
   "source": [
    "inputs = autograd.Variable(torch.randn(1,3,32,32)) # single 32x32 RGB image\n",
    "print(torch.nn.Conv2d(in_channels=3, out_channels=20, kernel_size=7, padding=0)(inputs).size())\n",
    "print(torch.nn.Conv2d(in_channels=3, out_channels=20, kernel_size=7, padding=1)(inputs).size())\n",
    "print(torch.nn.Conv2d(in_channels=3, out_channels=20, kernel_size=7, padding=2)(inputs).size())\n",
    "print(torch.nn.Conv2d(in_channels=3, out_channels=20, kernel_size=7, padding=3)(inputs).size())\n",
    "print(torch.nn.Conv2d(in_channels=3, out_channels=20, kernel_size=7, padding=(0,3))(inputs).size())"
   ]
  },
  {
   "cell_type": "markdown",
   "metadata": {
    "colab_type": "text",
    "id": "1XYSLFDcSJzj"
   },
   "source": [
    "For more complicated padding, use a padding layer before your convolution.\n",
    "\n",
    "* Single int: apply to all sides\n",
    "* tuple (H,W): apply H to top and bottom, W to left and right\n",
    "* tuple (left, right, top, bottom)"
   ]
  },
  {
   "cell_type": "code",
   "execution_count": 157,
   "metadata": {
    "colab": {
     "base_uri": "https://localhost:8080/",
     "height": 34
    },
    "colab_type": "code",
    "id": "GaC-D7k-SJzm",
    "outputId": "5bed12ab-7240-46d6-a585-ee8777887a26"
   },
   "outputs": [
    {
     "name": "stdout",
     "output_type": "stream",
     "text": [
      "torch.Size([1, 20, 32, 32])\n"
     ]
    }
   ],
   "source": [
    "inputs = autograd.Variable(torch.randn(1,3,32,32)) # single 32x32 RGB image\n",
    "y = torch.nn.Conv2d(3, 20, 7)(torch.nn.ReplicationPad2d(3)(inputs))\n",
    "print(y.size())"
   ]
  },
  {
   "cell_type": "markdown",
   "metadata": {
    "colab_type": "text",
    "id": "mkJlTfFUSJzr"
   },
   "source": [
    "Common padding layers:\n",
    "\n",
    "* torch.nn.ReplicationPad2d\n",
    "* torch.nn.ReflectionPad2d\n",
    "* torch.nn.ZeroPad2d\n",
    "* torch.nn.ConstantPad2d"
   ]
  },
  {
   "cell_type": "markdown",
   "metadata": {
    "colab_type": "text",
    "id": "IgZFMlwUSJzs"
   },
   "source": [
    "## Normalization and Dropout"
   ]
  },
  {
   "cell_type": "markdown",
   "metadata": {
    "colab_type": "text",
    "id": "OQj0quvGSJzt"
   },
   "source": [
    "Don't forget BatchNorm2d and Dropout2d if you want to improve performance!"
   ]
  },
  {
   "cell_type": "code",
   "execution_count": 158,
   "metadata": {
    "colab": {
     "base_uri": "https://localhost:8080/",
     "height": 34
    },
    "colab_type": "code",
    "id": "8qbNZ8IESJzu",
    "outputId": "8403c636-3cab-48c1-d2a7-a4173967847e"
   },
   "outputs": [
    {
     "name": "stdout",
     "output_type": "stream",
     "text": [
      "torch.Size([1, 20, 32, 32])\n"
     ]
    }
   ],
   "source": [
    "h = nn.Conv2d(3, 20, 5, padding=2)(input_image)\n",
    "h = nn.BatchNorm2d(20)(h)\n",
    "h = F.relu(h)\n",
    "h = nn.Dropout2d(0.5)(h)\n",
    "print(h.size())"
   ]
  },
  {
   "cell_type": "markdown",
   "metadata": {
    "colab_type": "text",
    "id": "8Bz0fY56SJzy"
   },
   "source": [
    "## Downsampling"
   ]
  },
  {
   "cell_type": "markdown",
   "metadata": {
    "colab_type": "text",
    "id": "HGFRuWwXSJz0"
   },
   "source": [
    "You can downsample using pooling operations or strided convolutions."
   ]
  },
  {
   "cell_type": "code",
   "execution_count": 159,
   "metadata": {
    "colab": {
     "base_uri": "https://localhost:8080/",
     "height": 51
    },
    "colab_type": "code",
    "id": "2P1zlkDASJz1",
    "outputId": "80abe059-2bab-4424-906d-43a51a7c776f"
   },
   "outputs": [
    {
     "name": "stdout",
     "output_type": "stream",
     "text": [
      "torch.Size([1, 3, 16, 16])\n",
      "torch.Size([1, 3, 16, 16])\n"
     ]
    }
   ],
   "source": [
    "# Simple pooling operations\n",
    "print(nn.MaxPool2d(2)(input_image).size())\n",
    "print(nn.AvgPool2d(2)(input_image).size())"
   ]
  },
  {
   "cell_type": "code",
   "execution_count": 160,
   "metadata": {
    "colab": {
     "base_uri": "https://localhost:8080/",
     "height": 34
    },
    "colab_type": "code",
    "id": "1rDjUtIySJz7",
    "outputId": "58aa5032-1dc3-421d-b531-f67c9c8265fa"
   },
   "outputs": [
    {
     "name": "stdout",
     "output_type": "stream",
     "text": [
      "torch.Size([1, 20, 16, 16])\n"
     ]
    }
   ],
   "source": [
    "# Strided convolution\n",
    "layer = torch.nn.Conv2d(in_channels=3, out_channels=20, kernel_size=5, stride=2, padding=2)\n",
    "print(layer(input_image).size())"
   ]
  },
  {
   "cell_type": "markdown",
   "metadata": {
    "colab_type": "text",
    "id": "FjtNTA1WSJ0Q"
   },
   "source": [
    "## Reading Image Data"
   ]
  },
  {
   "cell_type": "markdown",
   "metadata": {
    "colab_type": "text",
    "id": "2aK0T3luSJ0R"
   },
   "source": [
    "For an example of reading an image dataset, see this tutorial: \n",
    "http://pytorch.org/tutorials/beginner/data_loading_tutorial.html\n",
    "\n",
    "You can load images from image files on-the-fly or perform preprocessing and load images from numpy files or formats. Pytorch provides utilities for reading images from a folder.\n",
    "\n",
    "**Warning** `skimage`, `Pillow` and `matplotlib` expect (H, W, channels). Make sure to transpose dimensions when going to and from pytorch."
   ]
  },
  {
   "cell_type": "code",
   "execution_count": 161,
   "metadata": {
    "colab": {},
    "colab_type": "code",
    "id": "10IXVmO4SJ0S",
    "scrolled": true
   },
   "outputs": [
    {
     "name": "stdout",
     "output_type": "stream",
     "text": [
      "(793, 1200, 3)\n"
     ]
    },
    {
     "data": {
      "image/png": "[encoded data removed]",
      "text/plain": [
       "<Figure size 432x288 with 1 Axes>"
      ]
     },
     "metadata": {
      "needs_background": "light"
     },
     "output_type": "display_data"
    }
   ],
   "source": [
    "# Read an image using skimage\n",
    "from skimage import io\n",
    "image = io.imread('/users/chi/desktop/data586/matterhorn1.jpg') # Add the path to your image\n",
    "print(image.shape)\n",
    "# Display an image\n",
    "plt.imshow(image)\n",
    "plt.show()"
   ]
  },
  {
   "cell_type": "markdown",
   "metadata": {
    "colab_type": "text",
    "id": "oHLVpCz7SJ0h"
   },
   "source": [
    "## Basic Pytorch Model"
   ]
  },
  {
   "cell_type": "code",
   "execution_count": 162,
   "metadata": {
    "colab": {},
    "colab_type": "code",
    "id": "sPiFAc16SJ0h"
   },
   "outputs": [],
   "source": [
    "\n",
    "# resources https://adventuresinmachinelearning.com/convolutional-neural-networks-tutorial-in-pytorch/\n",
    "# resources https://blog.algorithmia.com/convolutional-neural-nets-in-pytorch/\n",
    "\n",
    "# copied the exact same basic pytorch neural network in the tutorial given and changed the name to BasicCNNModule\n",
    "# It would be easier this way to follow the tutorial and continue on in task1 \n",
    "class BasicCNNModule(nn.Module):\n",
    "    def __init__(self):\n",
    "        super(BasicCNNModule, self).__init__()\n",
    "        self.layer1 = nn.Sequential(\n",
    "            nn.Conv2d(1, 32, kernel_size=5, stride=1, padding=2),\n",
    "            nn.ReLU(),\n",
    "            nn.MaxPool2d(kernel_size=2, stride=2))\n",
    "        self.layer2 = nn.Sequential(\n",
    "            nn.Conv2d(32, 64, kernel_size=5, stride=1, padding=2),\n",
    "            nn.ReLU(),\n",
    "            nn.MaxPool2d(kernel_size=2, stride=2))\n",
    "        self.drop_out = nn.Dropout()\n",
    "        self.fc1 = nn.Linear(7 * 7 * 64, 1000)\n",
    "        self.fc2 = nn.Linear(1000, 10)\n",
    "\n",
    "    def forward(self, x):\n",
    "        out = self.layer1(x)\n",
    "        out = self.layer2(out)\n",
    "        out = out.reshape(out.size(0), -1)\n",
    "        out = self.drop_out(out)\n",
    "        out = self.fc1(out)\n",
    "        out = self.fc2(out)\n",
    "        return out\n",
    "        \n",
    "    def backward(self, delta):\n",
    "        n = len(self.__layers)\n",
    "\n",
    "        for i in self.__layers[::-1]:\n",
    "            delta = self.__layers[i].backward(delta)\n",
    "\n",
    "        return\n",
    "        "
   ]
  },
  {
   "cell_type": "markdown",
   "metadata": {
    "colab_type": "text",
    "id": "5pZdgCeUIZYk"
   },
   "source": [
    "# Coding Task 1 (25 Points)\n",
    "\n",
    "## Now write a piece of code to train the above designed CNN Model using MNIST images. You can modify the architecture of the network as well if you would like.\n",
    "\n",
    "\n",
    "MNIST Images: http://yann.lecun.com/exdb/mnist/\n",
    "A very useful blog for this lab would be https://adventuresinmachinelearning.com/convolutional-neural-networks-tutorial-in-pytorch/ to get the full model running.\n",
    "\n",
    "*Part marks will be awarded for partially working code\n",
    "\n",
    "#### Feel free to use any online resource to complete this task, just make sure your put the link to all the resources that you used to solve this part of the assignment."
   ]
  },
  {
   "cell_type": "markdown",
   "metadata": {},
   "source": [
    "# Note: I basically copied this and tried to understand what its doing \n",
    "* https://adventuresinmachinelearning.com/convolutional-neural-networks-tutorial-in-pytorch/\n",
    "\n",
    "* the code for importing mnist came from previous lab"
   ]
  },
  {
   "cell_type": "code",
   "execution_count": 163,
   "metadata": {},
   "outputs": [],
   "source": [
    "# This code was copied from the previous lab \n",
    "\n",
    "\n",
    "\n",
    "import numpy as np\n",
    "import torch\n",
    "import torch.nn as nn\n",
    "import torch.nn.functional as F\n",
    "import torch.utils.data.dataloader as dataloader\n",
    "import torch.optim as optim\n",
    "\n",
    "from torch.utils.data import TensorDataset\n",
    "from torchvision import transforms\n",
    "from torchvision.datasets import MNIST\n",
    "\n",
    "import matplotlib.pyplot as plt\n",
    "import time\n",
    "\n",
    "train = MNIST('./data', train=True, download=True, transform=transforms.ToTensor())\n",
    "\n",
    "test = MNIST('./data', train=False, download=True, transform=transforms.ToTensor())\n",
    "\n",
    "cuda = torch.cuda.is_available()\n",
    "\n",
    "\n",
    "dataloader_args = dict(shuffle=True, batch_size=256,num_workers=4, pin_memory=True) if cuda \\\n",
    "                        else dict(shuffle=True, batch_size=64)\n",
    "trainLoader = dataloader.DataLoader(train, **dataloader_args)\n",
    "testLoader =dataloader.DataLoader(test, **dataloader_args)"
   ]
  },
  {
   "cell_type": "code",
   "execution_count": 164,
   "metadata": {
    "colab": {},
    "colab_type": "code",
    "id": "WKu312hxOSdE"
   },
   "outputs": [],
   "source": [
    "# Since we called it BasicCNNModule we will just change that \n",
    "\n",
    "model = BasicCNNModule()\n",
    "num_epochs = 5\n",
    "num_classes = 10\n",
    "batch_size = 100\n",
    "learning_rate = 0.001\n",
    "\n",
    "# Loss and optimizer\n",
    "criterion = nn.CrossEntropyLoss()\n",
    "optimizer = torch.optim.Adam(model.parameters(), lr=learning_rate)"
   ]
  },
  {
   "cell_type": "code",
   "execution_count": 165,
   "metadata": {},
   "outputs": [
    {
     "name": "stdout",
     "output_type": "stream",
     "text": [
      "Epoch [1/5], Step [100/938], Loss: 0.2330, Accuracy: 89.06%\n",
      "Epoch [1/5], Step [200/938], Loss: 0.0803, Accuracy: 98.44%\n",
      "Epoch [1/5], Step [300/938], Loss: 0.1211, Accuracy: 96.88%\n",
      "Epoch [1/5], Step [400/938], Loss: 0.0543, Accuracy: 98.44%\n",
      "Epoch [1/5], Step [500/938], Loss: 0.0216, Accuracy: 98.44%\n",
      "Epoch [1/5], Step [600/938], Loss: 0.1309, Accuracy: 95.31%\n",
      "Epoch [1/5], Step [700/938], Loss: 0.1019, Accuracy: 96.88%\n",
      "Epoch [1/5], Step [800/938], Loss: 0.1015, Accuracy: 96.88%\n",
      "Epoch [1/5], Step [900/938], Loss: 0.0731, Accuracy: 95.31%\n",
      "Epoch [2/5], Step [100/938], Loss: 0.1064, Accuracy: 93.75%\n",
      "Epoch [2/5], Step [200/938], Loss: 0.0948, Accuracy: 95.31%\n",
      "Epoch [2/5], Step [300/938], Loss: 0.0253, Accuracy: 98.44%\n",
      "Epoch [2/5], Step [400/938], Loss: 0.0793, Accuracy: 96.88%\n",
      "Epoch [2/5], Step [500/938], Loss: 0.0157, Accuracy: 100.00%\n",
      "Epoch [2/5], Step [600/938], Loss: 0.0638, Accuracy: 98.44%\n",
      "Epoch [2/5], Step [700/938], Loss: 0.0021, Accuracy: 100.00%\n",
      "Epoch [2/5], Step [800/938], Loss: 0.0528, Accuracy: 98.44%\n",
      "Epoch [2/5], Step [900/938], Loss: 0.0123, Accuracy: 100.00%\n",
      "Epoch [3/5], Step [100/938], Loss: 0.0089, Accuracy: 100.00%\n",
      "Epoch [3/5], Step [200/938], Loss: 0.0444, Accuracy: 96.88%\n",
      "Epoch [3/5], Step [300/938], Loss: 0.0319, Accuracy: 98.44%\n",
      "Epoch [3/5], Step [400/938], Loss: 0.0048, Accuracy: 100.00%\n",
      "Epoch [3/5], Step [500/938], Loss: 0.0485, Accuracy: 96.88%\n",
      "Epoch [3/5], Step [600/938], Loss: 0.0171, Accuracy: 100.00%\n",
      "Epoch [3/5], Step [700/938], Loss: 0.0092, Accuracy: 100.00%\n",
      "Epoch [3/5], Step [800/938], Loss: 0.1010, Accuracy: 98.44%\n",
      "Epoch [3/5], Step [900/938], Loss: 0.0306, Accuracy: 100.00%\n",
      "Epoch [4/5], Step [100/938], Loss: 0.1679, Accuracy: 96.88%\n",
      "Epoch [4/5], Step [200/938], Loss: 0.0159, Accuracy: 100.00%\n",
      "Epoch [4/5], Step [300/938], Loss: 0.0831, Accuracy: 96.88%\n",
      "Epoch [4/5], Step [400/938], Loss: 0.0383, Accuracy: 100.00%\n",
      "Epoch [4/5], Step [500/938], Loss: 0.0027, Accuracy: 100.00%\n",
      "Epoch [4/5], Step [600/938], Loss: 0.1762, Accuracy: 95.31%\n",
      "Epoch [4/5], Step [700/938], Loss: 0.0592, Accuracy: 96.88%\n",
      "Epoch [4/5], Step [800/938], Loss: 0.0214, Accuracy: 98.44%\n",
      "Epoch [4/5], Step [900/938], Loss: 0.0426, Accuracy: 96.88%\n",
      "Epoch [5/5], Step [100/938], Loss: 0.0279, Accuracy: 98.44%\n",
      "Epoch [5/5], Step [200/938], Loss: 0.0100, Accuracy: 100.00%\n",
      "Epoch [5/5], Step [300/938], Loss: 0.0047, Accuracy: 100.00%\n",
      "Epoch [5/5], Step [400/938], Loss: 0.1106, Accuracy: 96.88%\n",
      "Epoch [5/5], Step [500/938], Loss: 0.0900, Accuracy: 96.88%\n",
      "Epoch [5/5], Step [600/938], Loss: 0.1678, Accuracy: 98.44%\n",
      "Epoch [5/5], Step [700/938], Loss: 0.0015, Accuracy: 100.00%\n",
      "Epoch [5/5], Step [800/938], Loss: 0.0389, Accuracy: 96.88%\n",
      "Epoch [5/5], Step [900/938], Loss: 0.0070, Accuracy: 100.00%\n"
     ]
    }
   ],
   "source": [
    "# Train the model\n",
    "total_step = len(trainLoader)\n",
    "loss_list = []\n",
    "acc_list = []\n",
    "for epoch in range(num_epochs):\n",
    "    for i, (images, labels) in enumerate(trainLoader):\n",
    "        # Run the forward pass\n",
    "        outputs = model(images)\n",
    "        loss = criterion(outputs, labels)\n",
    "        loss_list.append(loss.item())\n",
    "\n",
    "        # Backprop and perform Adam optimisation\n",
    "        optimizer.zero_grad()\n",
    "        loss.backward()\n",
    "        optimizer.step()\n",
    "\n",
    "        # Track the accuracy\n",
    "        total = labels.size(0)\n",
    "        _, predicted = torch.max(outputs.data, 1)\n",
    "        correct = (predicted == labels).sum().item()\n",
    "        acc_list.append(correct / total)\n",
    "\n",
    "        if (i + 1) % 100 == 0:\n",
    "            print('Epoch [{}/{}], Step [{}/{}], Loss: {:.4f}, Accuracy: {:.2f}%'\n",
    "                  .format(epoch + 1, num_epochs, i + 1, total_step, loss.item(),\n",
    "                          (correct / total) * 100))"
   ]
  },
  {
   "cell_type": "markdown",
   "metadata": {},
   "source": [
    "# Test the module after training "
   ]
  },
  {
   "cell_type": "code",
   "execution_count": 166,
   "metadata": {},
   "outputs": [
    {
     "name": "stdout",
     "output_type": "stream",
     "text": [
      "Test Accuracy of the model on the 10000 test images: 99.2 %\n"
     ]
    }
   ],
   "source": [
    "# Test the model\n",
    "model.eval()\n",
    "with torch.no_grad():\n",
    "    correct = 0\n",
    "    total = 0\n",
    "    for images, labels in testLoader:\n",
    "        outputs = model(images)\n",
    "        _, predicted = torch.max(outputs.data, 1)\n",
    "        total += labels.size(0)\n",
    "        correct += (predicted == labels).sum().item()\n",
    "\n",
    "    print('Test Accuracy of the model on the 10000 test images: {} %'.format((correct / total) * 100))"
   ]
  },
  {
   "cell_type": "markdown",
   "metadata": {
    "colab_type": "text",
    "id": "XR_nPjc5JZYd"
   },
   "source": [
    "# Coding Task 2 (25 Points)\n",
    "\n",
    "## Please see below the section on Pre-Trained Models and how they can be used as feature extractors. You should now use any pre-trained model such as the one shown below and extract features of an image of your choice and develop a simple  classifer using softmax, MLP or any other one you may want. Keep in mind the input image size before training your model.\n",
    "\n",
    "A very useful blog post for completing this piece of code would be https://medium.com/@tsakunelsonz/loading-and-training-a-neural-network-with-custom-dataset-via-transfer-learning-in-pytorch-8e672933469\n",
    "\n",
    "## For more interested people - Bonus Points may be given\n",
    "\n",
    "Review this blog post where VGGFace is used for face detection http://www.robots.ox.ac.uk/~albanie/pytorch-models.html\n",
    "\n",
    "Use this extract features of facial images. You may use any open source image from the internet to demonstrate that it works. \n",
    "\n",
    "*Part marks will be awarded for partially working code\n",
    "\n",
    "#### Feel free to use any online resource to complete this task, just make sure your put the link to all the resources that you used to solve this part of the assignment."
   ]
  },
  {
   "cell_type": "markdown",
   "metadata": {},
   "source": [
    "# Resources Used\n",
    "* https://medium.com/@tsakunelsonz/loading-and-training-a-neural-network-with-custom-dataset-via-transfer-learning-in-pytorch-8e672933469\n",
    "\n",
    "* https://medium.com/@tsakunelsonz/adding-custom-made-images-using-data-loaders-for-transfer-learning-in-five-steps-9d879bb5b80e\n",
    "\n",
    "* Used the dog and cat data set https://www.kaggle.com/c/dogs-vs-cats/data\n",
    "* I shortened the data set so run time wont be that long \n",
    "* We would be classifying dogs and cats\n"
   ]
  },
  {
   "cell_type": "markdown",
   "metadata": {},
   "source": [
    "# Loading the data"
   ]
  },
  {
   "cell_type": "code",
   "execution_count": 167,
   "metadata": {},
   "outputs": [],
   "source": [
    "# Resource for this part: https://medium.com/@tsakunelsonz/loading-and-training-a-neural-network-with-custom-dataset-via-transfer-learning-in-pytorch-8e672933469\n",
    "# basically followed the steps in the blog and changed the data set (images)\n",
    "\n",
    "# 2. Import required Libraries\n",
    "from torch.utils.data.dataloader import DataLoader\n",
    "from torchvision import transforms, datasets\n",
    "\n",
    "#3. Transform the sample data classes using transforms from torchvision\n",
    "train_transform = transforms.Compose([\n",
    "    transforms.RandomRotation(30),\n",
    "    transforms.RandomHorizontalFlip(p=0.5),\n",
    "    transforms.CenterCrop(10),\n",
    "    transforms.ToTensor(),\n",
    "    transforms.Normalize([0.5,0.5,0.5],[0.5,0.5,0.5]),\n",
    "])\n",
    "\n",
    "#4. Create the dataset with the applied transformations\n",
    "train_data = datasets.ImageFolder(\"/users/chi/desktop/data586//dogcat_data//train\", transform= train_transform)\n",
    "\n",
    "# We dont define another validation_transform cuz there is no point just \n",
    "# use the previously defined validation transform\n",
    "validation_data = datasets.ImageFolder(\"/users/chi/desktop/data586/dogcat_data/validation\", transform=train_transform)\n",
    "\n",
    "# test data \n",
    "test_data = datasets.ImageFolder(\"/users/chi/desktop/data586/dogcat_data/test\", transform=train_transform)\n",
    "\n",
    "#5. Create each data loader from its respective data set\n",
    "# we change the name from train_loader to trainLoader cuz this the same name he will be using in the latter code\n",
    "\n",
    "trainLoader = torch.utils.data.DataLoader(train_data, batch_size = 30, shuffle = True)\n",
    "validLoader = torch.utils.data.DataLoader(validation_data, batch_size = 30, shuffle = False)\n",
    "testLoader = torch.utils.data.DataLoader(validation_data, batch_size = 30, shuffle = False)\n",
    "\n",
    "# The datasets must be ordered in a way that pytorch accepts \n",
    "# it will have a test train validation folers and in each folder I have \n",
    "# a cat folder and dog folder the images must not be the same in the three folders\n"
   ]
  },
  {
   "cell_type": "markdown",
   "metadata": {
    "colab_type": "text",
    "id": "mdWM8AwFSJ0p"
   },
   "source": [
    "## Pre-trained models\n",
    "\n",
    "Training CNN models from scratch requires a lot of data. Hence we often use pre-trained models to alleviate this problem. For CNNs, pre-trained models are readily available for famos architectures such as VGG, ResNet and Inception Net.\n",
    "\n",
    "When you set `pretrained=True`, torchvision automatically downloads the model for you, and initializes weights from there. If this does not work, run the following:\n",
    "```\n",
    ">> wget https://download.pytorch.org/models/vgg16-397923af.pth\n",
    ">> mv vgg16-397923af.pth ~/.torch/models/vgg16-397923af.pth\n",
    "```\n",
    "\n",
    "You can find all other pretrained models included at https://pytorch.org/docs/stable/torchvision/models.html."
   ]
  },
  {
   "cell_type": "code",
   "execution_count": 168,
   "metadata": {
    "colab": {},
    "colab_type": "code",
    "id": "e19YvI2qSJ0q"
   },
   "outputs": [
    {
     "name": "stdout",
     "output_type": "stream",
     "text": [
      "VGG(\n",
      "  (features): Sequential(\n",
      "    (0): Conv2d(3, 64, kernel_size=(3, 3), stride=(1, 1), padding=(1, 1))\n",
      "    (1): ReLU(inplace)\n",
      "    (2): Conv2d(64, 64, kernel_size=(3, 3), stride=(1, 1), padding=(1, 1))\n",
      "    (3): ReLU(inplace)\n",
      "    (4): MaxPool2d(kernel_size=2, stride=2, padding=0, dilation=1, ceil_mode=False)\n",
      "    (5): Conv2d(64, 128, kernel_size=(3, 3), stride=(1, 1), padding=(1, 1))\n",
      "    (6): ReLU(inplace)\n",
      "    (7): Conv2d(128, 128, kernel_size=(3, 3), stride=(1, 1), padding=(1, 1))\n",
      "    (8): ReLU(inplace)\n",
      "    (9): MaxPool2d(kernel_size=2, stride=2, padding=0, dilation=1, ceil_mode=False)\n",
      "    (10): Conv2d(128, 256, kernel_size=(3, 3), stride=(1, 1), padding=(1, 1))\n",
      "    (11): ReLU(inplace)\n",
      "    (12): Conv2d(256, 256, kernel_size=(3, 3), stride=(1, 1), padding=(1, 1))\n",
      "    (13): ReLU(inplace)\n",
      "    (14): Conv2d(256, 256, kernel_size=(3, 3), stride=(1, 1), padding=(1, 1))\n",
      "    (15): ReLU(inplace)\n",
      "    (16): MaxPool2d(kernel_size=2, stride=2, padding=0, dilation=1, ceil_mode=False)\n",
      "    (17): Conv2d(256, 512, kernel_size=(3, 3), stride=(1, 1), padding=(1, 1))\n",
      "    (18): ReLU(inplace)\n",
      "    (19): Conv2d(512, 512, kernel_size=(3, 3), stride=(1, 1), padding=(1, 1))\n",
      "    (20): ReLU(inplace)\n",
      "    (21): Conv2d(512, 512, kernel_size=(3, 3), stride=(1, 1), padding=(1, 1))\n",
      "    (22): ReLU(inplace)\n",
      "    (23): MaxPool2d(kernel_size=2, stride=2, padding=0, dilation=1, ceil_mode=False)\n",
      "    (24): Conv2d(512, 512, kernel_size=(3, 3), stride=(1, 1), padding=(1, 1))\n",
      "    (25): ReLU(inplace)\n",
      "    (26): Conv2d(512, 512, kernel_size=(3, 3), stride=(1, 1), padding=(1, 1))\n",
      "    (27): ReLU(inplace)\n",
      "    (28): Conv2d(512, 512, kernel_size=(3, 3), stride=(1, 1), padding=(1, 1))\n",
      "    (29): ReLU(inplace)\n",
      "    (30): MaxPool2d(kernel_size=2, stride=2, padding=0, dilation=1, ceil_mode=False)\n",
      "  )\n",
      "  (avgpool): AdaptiveAvgPool2d(output_size=(7, 7))\n",
      "  (classifier): Sequential(\n",
      "    (0): Linear(in_features=25088, out_features=4096, bias=True)\n",
      "    (1): ReLU(inplace)\n",
      "    (2): Dropout(p=0.5)\n",
      "    (3): Linear(in_features=4096, out_features=4096, bias=True)\n",
      "    (4): ReLU(inplace)\n",
      "    (5): Dropout(p=0.5)\n",
      "    (6): Linear(in_features=4096, out_features=1000, bias=True)\n",
      "  )\n",
      ")\n"
     ]
    }
   ],
   "source": [
    "# 1. Loading the Neural Network model\n",
    "\n",
    "# I will keep following how the blog did it \n",
    "# Resource 2: https://medium.com/@tsakunelsonz/loading-and-training-a-neural-network-with-custom-dataset-via-transfer-learning-in-pytorch-8e672933469\n",
    "\n",
    "#import models from torchvision\n",
    "from torchvision import models\n",
    "#build the pretrained model (vgg16 in this case)\n",
    "model = models.vgg16(pretrained = True)\n",
    "\n",
    "# change vgg16 to model so we can print out \n",
    "model.eval()\n",
    "print(model)"
   ]
  },
  {
   "cell_type": "code",
   "execution_count": 169,
   "metadata": {},
   "outputs": [],
   "source": [
    "# 2. Building the Classifier and training the Network\n",
    "#import OrderedDicted to corectly align the network layers\n",
    "#import nn you use activation and dropout features\n",
    "from collections import OrderedDict\n",
    "from torch import nn\n",
    "#create classifier\n",
    "classifier=nn.Sequential(OrderedDict([('fc1', nn.Linear(25088, 512)),\n",
    "                           ('relu', nn.ReLU()), \n",
    "                           ('dropout', nn.Dropout(p=0.337)),\n",
    "                           ('fc2', nn.Linear(512, 102)),\n",
    "                           ('output', nn.LogSoftmax(dim=1))\n",
    "                             ]))\n",
    "#replace the model's classifier with this new classifier \n",
    "#transfer learning connection applied here\n",
    "model.classifier = classifier\n"
   ]
  },
  {
   "cell_type": "code",
   "execution_count": 170,
   "metadata": {},
   "outputs": [],
   "source": [
    "#import optimizer for \n",
    "from torch import optim\n",
    "#define criteria and optimizer\n",
    "criteria = nn.CrossEntropyLoss()\n",
    "optimizer = optim.SGD(model.parameters(), lr = 0.005, momentum = 0.5)\n",
    "\n",
    "#The above code snippet sets the learning rate to 0.005 \n",
    "#(the step size taken by a model to minimize loss and update \n",
    "#weights with the goal to improve predictive accuracy) and momentum \n",
    "#of 0.5 (the amount by which a model can easily bump off any local minima during the \n",
    "#gradient descent process while searching for the global minimum)."
   ]
  },
  {
   "cell_type": "markdown",
   "metadata": {},
   "source": [
    "### So we can change the learning depending on our data "
   ]
  },
  {
   "cell_type": "markdown",
   "metadata": {},
   "source": [
    "# The first is the training function\n",
    "* which takes in the defined model, the dataset (training Loader) and the loss criterion, then returns the loss and accuracy achieved for each epoch as follows:"
   ]
  },
  {
   "cell_type": "code",
   "execution_count": 171,
   "metadata": {},
   "outputs": [],
   "source": [
    "#define training function\n",
    "def train (model, loader, criterion, gpu):\n",
    "    model.train()\n",
    "    current_loss = 0\n",
    "    current_correct = 0\n",
    "    for train, y_train in iter(loader):\n",
    "        if gpu:\n",
    "            train, y_train = train.to('cuda'), y_train.to('cuda')\n",
    "        optimizer.zero_grad()\n",
    "        output = model.forward(train)\n",
    "        _, preds = torch.max(output,1)\n",
    "        loss = criterion(output, y_train)\n",
    "        loss.backward()\n",
    "        optimizer.step()\n",
    "        current_loss += loss.item()*train.size(0)\n",
    "        current_correct += torch.sum(preds == y_train.data)\n",
    "    epoch_loss = current_loss / len(trainLoader.dataset)\n",
    "    epoch_acc = current_correct.double() / len(trainLoader.dataset)\n",
    "        \n",
    "    return epoch_loss, epoch_acc"
   ]
  },
  {
   "cell_type": "markdown",
   "metadata": {},
   "source": [
    "# The second is the validation function\n",
    "* which takes in the defined model, the dataset (validation Loader) and the loss criterion; it also returns the loss and accuracy for each epoch as follows:"
   ]
  },
  {
   "cell_type": "code",
   "execution_count": 172,
   "metadata": {},
   "outputs": [],
   "source": [
    "#define validation function\n",
    "def validation (model, loader, criterion, gpu):\n",
    "    model.eval()\n",
    "    valid_loss = 0\n",
    "    valid_correct = 0\n",
    "    for valid, y_valid in iter(loader):\n",
    "        if gpu:\n",
    "            valid, y_valid = valid.to('cuda'), y_valid.to('cuda')\n",
    "        output = model.forward(valid)\n",
    "        valid_loss += criterion(output, y_valid).item()*valid.size(0)\n",
    "        equal = (output.max(dim=1)[1] == y_valid.data)\n",
    "        valid_correct += torch.sum(equal)#type(torch.FloatTensor)\n",
    "    \n",
    "    epoch_loss = valid_loss / len(validLoader.dataset)\n",
    "    epoch_acc = valid_correct.double() / len(validLoader.dataset)\n",
    "    \n",
    "    return epoch_loss, epoch_acc"
   ]
  },
  {
   "cell_type": "markdown",
   "metadata": {},
   "source": [
    "# combine both functions in a loop for the number of epochs times (10 in this case)"
   ]
  },
  {
   "cell_type": "code",
   "execution_count": 173,
   "metadata": {},
   "outputs": [
    {
     "name": "stdout",
     "output_type": "stream",
     "text": [
      "1\n",
      "Epoch: 1 Train Loss : 1.0125  Train Accuracy: 0.6241\n",
      "Epoch: 1 Validation Loss : 0.5716  Validation Accuracy 0.7468\n",
      "2\n",
      "Epoch: 2 Train Loss : 0.6635  Train Accuracy: 0.6741\n",
      "Epoch: 2 Validation Loss : 0.6003  Validation Accuracy 0.7468\n",
      "3\n",
      "Epoch: 3 Train Loss : 0.6445  Train Accuracy: 0.6848\n",
      "Epoch: 3 Validation Loss : 0.6386  Validation Accuracy 0.7468\n",
      "4\n",
      "Epoch: 4 Train Loss : 0.6332  Train Accuracy: 0.6944\n",
      "Epoch: 4 Validation Loss : 0.5722  Validation Accuracy 0.7468\n",
      "5\n",
      "Epoch: 5 Train Loss : 0.6498  Train Accuracy: 0.6912\n",
      "Epoch: 5 Validation Loss : 0.6984  Validation Accuracy 0.7029\n",
      "6\n",
      "Epoch: 6 Train Loss : 0.6251  Train Accuracy: 0.7093\n",
      "Epoch: 6 Validation Loss : 0.5930  Validation Accuracy 0.7468\n",
      "7\n",
      "Epoch: 7 Train Loss : 0.6292  Train Accuracy: 0.7114\n",
      "Epoch: 7 Validation Loss : 0.5692  Validation Accuracy 0.7468\n",
      "8\n",
      "Epoch: 8 Train Loss : 0.6128  Train Accuracy: 0.6976\n",
      "Epoch: 8 Validation Loss : 0.5865  Validation Accuracy 0.7468\n",
      "9\n",
      "Epoch: 9 Train Loss : 0.6271  Train Accuracy: 0.7082\n",
      "Epoch: 9 Validation Loss : 0.5780  Validation Accuracy 0.7468\n",
      "10\n",
      "Epoch: 10 Train Loss : 0.6012  Train Accuracy: 0.7220\n",
      "Epoch: 10 Validation Loss : 0.5602  Validation Accuracy 0.7468\n"
     ]
    }
   ],
   "source": [
    "import os\n",
    "import time\n",
    "import glob\n",
    "\n",
    "#Initialize training params  \n",
    "#freeze gradient parameters in pretrained model\n",
    "for param in model.parameters():\n",
    "    param.require_grad = False\n",
    "    \n",
    "#train and validate\n",
    "epochs = 10\n",
    "epoch = 0\n",
    "\n",
    "\n",
    "#send model to GPU\n",
    "#if args.gpu:\n",
    "    #model.to('cuda')\n",
    "# no gpu so just set cuda = False \n",
    "    \n",
    "for e in range(epochs):\n",
    "    epoch +=1\n",
    "    print(epoch)\n",
    "    with torch.set_grad_enabled(True):\n",
    "        epoch_train_loss, epoch_train_acc = train(model,trainLoader, criteria, gpu = False)\n",
    "        print(\"Epoch: {} Train Loss : {:.4f}  Train Accuracy: {:.4f}\".format(epoch,epoch_train_loss,epoch_train_acc))\n",
    "    \n",
    "    with torch.no_grad():\n",
    "        epoch_val_loss, epoch_val_acc = validation(model, validLoader, criteria, gpu = False)\n",
    "        print(\"Epoch: {} Validation Loss : {:.4f}  Validation Accuracy {:.4f}\".format(epoch,epoch_val_loss,epoch_val_acc))\n",
    "        \n",
    "        \n",
    "        \n",
    "        \n",
    "        \n",
    "        \n",
    "        "
   ]
  },
  {
   "cell_type": "markdown",
   "metadata": {},
   "source": [
    "# Accuracy pretty high since I still used a lot of training data"
   ]
  },
  {
   "cell_type": "markdown",
   "metadata": {},
   "source": [
    "# Testing the Modified Network\n",
    "### I created a test folder in the dogs and cats folder with images not in either the validation nor the train folder"
   ]
  },
  {
   "cell_type": "code",
   "execution_count": 174,
   "metadata": {},
   "outputs": [
    {
     "name": "stdout",
     "output_type": "stream",
     "text": [
      "Accuracy of network on test images is ... 0.0000....count: 1\n",
      "Accuracy of network on test images is ... 0.0000....count: 2\n",
      "Accuracy of network on test images is ... 0.0000....count: 3\n",
      "Accuracy of network on test images is ... 0.0000....count: 4\n",
      "Accuracy of network on test images is ... 0.0000....count: 5\n",
      "Accuracy of network on test images is ... 13.3333....count: 6\n",
      "Accuracy of network on test images is ... 25.7143....count: 7\n",
      "Accuracy of network on test images is ... 35.0000....count: 8\n",
      "Accuracy of network on test images is ... 42.2222....count: 9\n",
      "Accuracy of network on test images is ... 48.0000....count: 10\n",
      "Accuracy of network on test images is ... 52.7273....count: 11\n",
      "Accuracy of network on test images is ... 56.6667....count: 12\n",
      "Accuracy of network on test images is ... 60.0000....count: 13\n",
      "Accuracy of network on test images is ... 62.8571....count: 14\n",
      "Accuracy of network on test images is ... 65.3333....count: 15\n",
      "Accuracy of network on test images is ... 67.5000....count: 16\n",
      "Accuracy of network on test images is ... 69.4118....count: 17\n",
      "Accuracy of network on test images is ... 71.1111....count: 18\n",
      "Accuracy of network on test images is ... 72.6316....count: 19\n",
      "Accuracy of network on test images is ... 74.0000....count: 20\n",
      "Accuracy of network on test images is ... 74.6753....count: 21\n"
     ]
    }
   ],
   "source": [
    "model.eval()\n",
    "total = 0\n",
    "correct = 0 \n",
    "count = 0\n",
    "#iterating for each sample in the test dataset once\n",
    "for test, y_test in iter(testLoader):\n",
    "    test, y_test = test.to('cpu'), y_test.to('cpu')\n",
    "#Calculate the class probabilities (softmax) for img\n",
    "    with torch.no_grad():\n",
    "        output = model.forward(test)\n",
    "        ps = torch.exp(output)\n",
    "        _, predicted = torch.max(output.data,1)\n",
    "        total += y_test.size(0)\n",
    "        correct += (predicted == y_test).sum().item() \n",
    "        count += 1\n",
    "        print(\"Accuracy of network on test images is ... {:.4f}....count: {}\".format(100*correct/total,  count ))"
   ]
  },
  {
   "cell_type": "markdown",
   "metadata": {
    "colab_type": "text",
    "id": "GeoNBYIWSJ0u"
   },
   "source": [
    "## We can build a VGG feature extractor. These are often useful in downstream tasks, for example learning deep visual semantic embeddings (https://static.googleusercontent.com/media/research.google.com/en//pubs/archive/41473.pdf). This allows us to use features trained on large datasets like ImageNet, and use on tasks which have lesser data.\n",
    "\n",
    "## ``` vgg16.features ``` gives us convolutional features. Often, even taking all the layers until the last classification layer also suffices.\n"
   ]
  },
  {
   "cell_type": "code",
   "execution_count": 175,
   "metadata": {
    "colab": {},
    "colab_type": "code",
    "id": "8HzLOOCQSJ0v"
   },
   "outputs": [
    {
     "name": "stdout",
     "output_type": "stream",
     "text": [
      "torch.Size([1, 512, 7, 7])\n",
      "torch.Size([1, 25088])\n",
      "torch.Size([1, 4096])\n"
     ]
    }
   ],
   "source": [
    "vgg16_feature_extractor = model.features\n",
    "# change to model.features \n",
    "# since thats what we did in the previous code it is no longer vgg16 but model \n",
    "\n",
    "\n",
    "# print('VGG feature extractor', vgg16_feature_extractor)\n",
    "print(vgg16_feature_extractor(Variable(torch.rand(1, 3, 224, 224))).size())\n",
    "print(vgg16_feature_extractor(Variable(torch.rand(1, 3, 224, 224))).view(1, -1).size()) # flatten conv features\n",
    "\n",
    "\n",
    "# We have our new classifier \n",
    "vgg16_4096 = models.vgg16(pretrained=True)\n",
    "new_classifier = nn.Sequential(*list(vgg16_4096.classifier.children())[:-1]) # remove just the last layer\n",
    "vgg16_4096.classifier = new_classifier\n",
    "print(vgg16_4096(Variable(torch.rand(1, 3, 224, 224))).size())\n",
    "\n",
    "# and our new criteria and optmizer \n",
    "criteria = nn.CrossEntropyLoss()\n",
    "optimizer = optim.SGD(vgg16_4096.parameters(), lr = 0.005, momentum = 0.5)"
   ]
  },
  {
   "cell_type": "markdown",
   "metadata": {},
   "source": [
    "# after getting the new classifier, criteria and optmiizaer (criteria is the same actually) we run the same code above train/validation and loop for 10 epochs"
   ]
  },
  {
   "cell_type": "code",
   "execution_count": 176,
   "metadata": {},
   "outputs": [
    {
     "name": "stdout",
     "output_type": "stream",
     "text": [
      "1\n",
      "Epoch: 1 Train Loss : 0.5916  Train Accuracy: 0.7146\n",
      "Epoch: 1 Validation Loss : 0.5600  Validation Accuracy 0.7468\n",
      "2\n",
      "Epoch: 2 Train Loss : 0.5846  Train Accuracy: 0.7146\n",
      "Epoch: 2 Validation Loss : 0.5601  Validation Accuracy 0.7468\n",
      "3\n",
      "Epoch: 3 Train Loss : 0.5908  Train Accuracy: 0.7146\n",
      "Epoch: 3 Validation Loss : 0.5605  Validation Accuracy 0.7468\n",
      "4\n",
      "Epoch: 4 Train Loss : 0.5893  Train Accuracy: 0.7146\n",
      "Epoch: 4 Validation Loss : 0.5620  Validation Accuracy 0.7468\n",
      "5\n",
      "Epoch: 5 Train Loss : 0.5961  Train Accuracy: 0.7146\n",
      "Epoch: 5 Validation Loss : 0.5609  Validation Accuracy 0.7468\n",
      "6\n",
      "Epoch: 6 Train Loss : 0.5905  Train Accuracy: 0.7146\n",
      "Epoch: 6 Validation Loss : 0.5584  Validation Accuracy 0.7468\n",
      "7\n",
      "Epoch: 7 Train Loss : 0.5879  Train Accuracy: 0.7146\n",
      "Epoch: 7 Validation Loss : 0.5609  Validation Accuracy 0.7468\n",
      "8\n",
      "Epoch: 8 Train Loss : 0.5901  Train Accuracy: 0.7146\n",
      "Epoch: 8 Validation Loss : 0.5607  Validation Accuracy 0.7468\n",
      "9\n",
      "Epoch: 9 Train Loss : 0.5876  Train Accuracy: 0.7146\n",
      "Epoch: 9 Validation Loss : 0.5629  Validation Accuracy 0.7468\n",
      "10\n",
      "Epoch: 10 Train Loss : 0.5949  Train Accuracy: 0.7146\n",
      "Epoch: 10 Validation Loss : 0.5624  Validation Accuracy 0.7468\n"
     ]
    }
   ],
   "source": [
    "def train (model, loader, criterion, gpu):\n",
    "    model.train()\n",
    "    current_loss = 0\n",
    "    current_correct = 0\n",
    "    for train, y_train in iter(loader):\n",
    "        if gpu:\n",
    "            train, y_train = train.to('cuda'), y_train.to('cuda')\n",
    "        optimizer.zero_grad()\n",
    "        output = model.forward(train)\n",
    "        _, preds = torch.max(output,1)\n",
    "        loss = criterion(output, y_train)\n",
    "        loss.backward()\n",
    "        optimizer.step()\n",
    "        current_loss += loss.item()*train.size(0)\n",
    "        current_correct += torch.sum(preds == y_train.data)\n",
    "    epoch_loss = current_loss / len(trainLoader.dataset)\n",
    "    epoch_acc = current_correct.double() / len(trainLoader.dataset)\n",
    "        \n",
    "    return epoch_loss, epoch_acc\n",
    "\n",
    "def validation (model, loader, criterion, gpu):\n",
    "    model.eval()\n",
    "    valid_loss = 0\n",
    "    valid_correct = 0\n",
    "    for valid, y_valid in iter(loader):\n",
    "        if gpu:\n",
    "            valid, y_valid = valid.to('cuda'), y_valid.to('cuda')\n",
    "        output = model.forward(valid)\n",
    "        valid_loss += criterion(output, y_valid).item()*valid.size(0)\n",
    "        equal = (output.max(dim=1)[1] == y_valid.data)\n",
    "        valid_correct += torch.sum(equal)#type(torch.FloatTensor)\n",
    "    \n",
    "    epoch_loss = valid_loss / len(validLoader.dataset)\n",
    "    epoch_acc = valid_correct.double() / len(validLoader.dataset)\n",
    "    \n",
    "    return epoch_loss, epoch_acc\n",
    "\n",
    "for param in model.parameters():\n",
    "    param.require_grad = False\n",
    "    \n",
    "epochs = 10\n",
    "epoch = 0\n",
    "    \n",
    "for e in range(epochs):\n",
    "    epoch +=1\n",
    "    print(epoch)\n",
    "    with torch.set_grad_enabled(True):\n",
    "        epoch_train_loss, epoch_train_acc = train(model,trainLoader, criteria, gpu = False)\n",
    "        print(\"Epoch: {} Train Loss : {:.4f}  Train Accuracy: {:.4f}\".format(epoch,epoch_train_loss,epoch_train_acc))\n",
    "    \n",
    "    with torch.no_grad():\n",
    "        epoch_val_loss, epoch_val_acc = validation(model, validLoader, criteria, gpu = False)\n",
    "        print(\"Epoch: {} Validation Loss : {:.4f}  Validation Accuracy {:.4f}\".format(epoch,epoch_val_loss,epoch_val_acc))"
   ]
  },
  {
   "cell_type": "markdown",
   "metadata": {},
   "source": [
    "# Higher accuracy? "
   ]
  },
  {
   "cell_type": "markdown",
   "metadata": {},
   "source": [
    "# Lastly, repeat the same steps as before test the module for accuracy "
   ]
  },
  {
   "cell_type": "code",
   "execution_count": 177,
   "metadata": {},
   "outputs": [
    {
     "name": "stdout",
     "output_type": "stream",
     "text": [
      "Accuracy of network on test images is ... 0.0000....count: 1\n",
      "Accuracy of network on test images is ... 0.0000....count: 2\n",
      "Accuracy of network on test images is ... 0.0000....count: 3\n",
      "Accuracy of network on test images is ... 0.0000....count: 4\n",
      "Accuracy of network on test images is ... 0.0000....count: 5\n",
      "Accuracy of network on test images is ... 13.3333....count: 6\n",
      "Accuracy of network on test images is ... 25.7143....count: 7\n",
      "Accuracy of network on test images is ... 35.0000....count: 8\n",
      "Accuracy of network on test images is ... 42.2222....count: 9\n",
      "Accuracy of network on test images is ... 48.0000....count: 10\n",
      "Accuracy of network on test images is ... 52.7273....count: 11\n",
      "Accuracy of network on test images is ... 56.6667....count: 12\n",
      "Accuracy of network on test images is ... 60.0000....count: 13\n",
      "Accuracy of network on test images is ... 62.8571....count: 14\n",
      "Accuracy of network on test images is ... 65.3333....count: 15\n",
      "Accuracy of network on test images is ... 67.5000....count: 16\n",
      "Accuracy of network on test images is ... 69.4118....count: 17\n",
      "Accuracy of network on test images is ... 71.1111....count: 18\n",
      "Accuracy of network on test images is ... 72.6316....count: 19\n",
      "Accuracy of network on test images is ... 74.0000....count: 20\n",
      "Accuracy of network on test images is ... 74.6753....count: 21\n"
     ]
    }
   ],
   "source": [
    "model.eval()\n",
    "total = 0\n",
    "correct = 0 \n",
    "count = 0\n",
    "#iterating for each sample in the test dataset once\n",
    "for test, y_test in iter(testLoader):\n",
    "    test, y_test = test.to('cpu'), y_test.to('cpu')\n",
    "#Calculate the class probabilities (softmax) for img\n",
    "    with torch.no_grad():\n",
    "        output = model.forward(test)\n",
    "        ps = torch.exp(output)\n",
    "        _, predicted = torch.max(output.data,1)\n",
    "        total += y_test.size(0)\n",
    "        correct += (predicted == y_test).sum().item() \n",
    "        count += 1\n",
    "        print(\"Accuracy of network on test images is ... {:.4f}....count: {}\".format(100*correct/total,  count ))"
   ]
  },
  {
   "cell_type": "markdown",
   "metadata": {},
   "source": [
    "# Bonus using VGG face \n",
    "* Resources: https://sefiks.com/2018/08/06/deep-face-recognition-with-keras/\n",
    "* probably wont do it"
   ]
  },
  {
   "cell_type": "markdown",
   "metadata": {},
   "source": [
    "from keras.models import model_from_json\n",
    "model.load_weights('vgg_face_weights.h5')"
   ]
  },
  {
   "cell_type": "markdown",
   "metadata": {},
   "source": [
    "vgg_face_descriptor = model(inputs=model.layers[0].input, outputs=model.layers[-2].output)"
   ]
  }
 ],
 "metadata": {
  "colab": {
   "name": "Lab 2_sol.ipynb",
   "provenance": [],
   "toc_visible": true,
   "version": "0.3.2"
  },
  "kernelspec": {
   "display_name": "Python 3",
   "language": "python",
   "name": "python3"
  },
  "language_info": {
   "codemirror_mode": {
    "name": "ipython",
    "version": 3
   },
   "file_extension": ".py",
   "mimetype": "text/x-python",
   "name": "python",
   "nbconvert_exporter": "python",
   "pygments_lexer": "ipython3",
   "version": "3.6.7"
  }
 },
 "nbformat": 4,
 "nbformat_minor": 1
}
