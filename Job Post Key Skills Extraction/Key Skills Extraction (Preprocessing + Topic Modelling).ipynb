{
 "cells": [
  {
   "cell_type": "code",
   "execution_count": 2,
   "metadata": {},
   "outputs": [],
   "source": [
    "# general imports\n",
    "import pandas as pd\n",
    "import numpy as np\n",
    "from time import time\n",
    "import matplotlib.pyplot as plt\n",
    "import seaborn as sns\n",
    "\n",
    "\n",
    "# vectorizer that will be used later\n",
    "from sklearn.feature_extraction.text import CountVectorizer\n",
    "from sklearn.feature_extraction.text import TfidfVectorizer\n",
    "import collections"
   ]
  },
  {
   "cell_type": "markdown",
   "metadata": {},
   "source": [
    "# Key skills extraction with Topic Modelling (LDA, NMF) an exploration with `gensim`, `nltk`, and `sklearn`\n",
    "* A lot of the code that I have been using is through my past experiences and resources I found online. Please have a quick look of my github if interested.\n",
    "* [Github](https://github.com/ChiWang03)\n",
    "* [Text Classification](https://github.com/ChiWang03/Text-Classification/blob/master/Code/Classifier/Classifiers/Consumption%20Classifier.ipynb)\n",
    "* [App review Analysis](https://github.com/ChiWang03/App-Review-Analysis/blob/master/Topic_Modelling_by_year.ipynb)\n"
   ]
  },
  {
   "cell_type": "code",
   "execution_count": 3,
   "metadata": {
    "scrolled": false
   },
   "outputs": [
    {
     "data": {
      "text/html": [
       "<div>\n",
       "<style scoped>\n",
       "    .dataframe tbody tr th:only-of-type {\n",
       "        vertical-align: middle;\n",
       "    }\n",
       "\n",
       "    .dataframe tbody tr th {\n",
       "        vertical-align: top;\n",
       "    }\n",
       "\n",
       "    .dataframe thead th {\n",
       "        text-align: right;\n",
       "    }\n",
       "</style>\n",
       "<table border=\"1\" class=\"dataframe\">\n",
       "  <thead>\n",
       "    <tr style=\"text-align: right;\">\n",
       "      <th></th>\n",
       "      <th>Job Title</th>\n",
       "      <th>Description</th>\n",
       "      <th>Location</th>\n",
       "      <th>url</th>\n",
       "    </tr>\n",
       "  </thead>\n",
       "  <tbody>\n",
       "    <tr>\n",
       "      <th>0</th>\n",
       "      <td>Machine Learning Engineer / Data Scientist</td>\n",
       "      <td>The OpportunityDo you enjoy solving complex pr...</td>\n",
       "      <td>Vancouver</td>\n",
       "      <td>https://ca.indeed.com/pagead/clk?mo=r&amp;ad=-6NYl...</td>\n",
       "    </tr>\n",
       "    <tr>\n",
       "      <th>1</th>\n",
       "      <td>Elementary &amp; High School Math and Science Tuto...</td>\n",
       "      <td>STEM is in and so are you! Tutor Doctor – the ...</td>\n",
       "      <td>Vancouver</td>\n",
       "      <td>https://ca.indeed.com/pagead/clk?mo=r&amp;ad=-6NYl...</td>\n",
       "    </tr>\n",
       "    <tr>\n",
       "      <th>2</th>\n",
       "      <td>Payroll Specialist</td>\n",
       "      <td>Job SummaryThe Payroll Specialist performs acc...</td>\n",
       "      <td>Vancouver</td>\n",
       "      <td>https://ca.indeed.com/pagead/clk?mo=r&amp;ad=-6NYl...</td>\n",
       "    </tr>\n",
       "    <tr>\n",
       "      <th>3</th>\n",
       "      <td>Data Integrity Senior Associate</td>\n",
       "      <td>About adMare\\n\\nadMare BioInnovations is a pan...</td>\n",
       "      <td>Vancouver</td>\n",
       "      <td>https://ca.indeed.com/pagead/clk?mo=r&amp;ad=-6NYl...</td>\n",
       "    </tr>\n",
       "    <tr>\n",
       "      <th>4</th>\n",
       "      <td>Data Scientist 3 - (13828) Vancouver</td>\n",
       "      <td>This is a 6 month contract position. The locat...</td>\n",
       "      <td>Vancouver</td>\n",
       "      <td>https://ca.indeed.com/pagead/clk?mo=r&amp;ad=-6NYl...</td>\n",
       "    </tr>\n",
       "  </tbody>\n",
       "</table>\n",
       "</div>"
      ],
      "text/plain": [
       "                                           Job Title  \\\n",
       "0         Machine Learning Engineer / Data Scientist   \n",
       "1  Elementary & High School Math and Science Tuto...   \n",
       "2                                 Payroll Specialist   \n",
       "3                    Data Integrity Senior Associate   \n",
       "4               Data Scientist 3 - (13828) Vancouver   \n",
       "\n",
       "                                         Description   Location  \\\n",
       "0  The OpportunityDo you enjoy solving complex pr...  Vancouver   \n",
       "1  STEM is in and so are you! Tutor Doctor – the ...  Vancouver   \n",
       "2  Job SummaryThe Payroll Specialist performs acc...  Vancouver   \n",
       "3  About adMare\\n\\nadMare BioInnovations is a pan...  Vancouver   \n",
       "4  This is a 6 month contract position. The locat...  Vancouver   \n",
       "\n",
       "                                                 url  \n",
       "0  https://ca.indeed.com/pagead/clk?mo=r&ad=-6NYl...  \n",
       "1  https://ca.indeed.com/pagead/clk?mo=r&ad=-6NYl...  \n",
       "2  https://ca.indeed.com/pagead/clk?mo=r&ad=-6NYl...  \n",
       "3  https://ca.indeed.com/pagead/clk?mo=r&ad=-6NYl...  \n",
       "4  https://ca.indeed.com/pagead/clk?mo=r&ad=-6NYl...  "
      ]
     },
     "execution_count": 3,
     "metadata": {},
     "output_type": "execute_result"
    }
   ],
   "source": [
    "# import data\n",
    "df = pd.read_csv('job_postings.csv')\n",
    "df.head()"
   ]
  },
  {
   "cell_type": "markdown",
   "metadata": {},
   "source": [
    "# Cleaning the data set"
   ]
  },
  {
   "cell_type": "markdown",
   "metadata": {},
   "source": [
    "## Remove duplicates\n",
    "* We know that it is likely to have duplicates since I searched for both data scientist and machine learning engineer in the same city.\n",
    "* This is why we would drop duplicates based on the url, url is unique unlike most of the columns."
   ]
  },
  {
   "cell_type": "code",
   "execution_count": 4,
   "metadata": {},
   "outputs": [
    {
     "data": {
      "text/html": [
       "<div>\n",
       "<style scoped>\n",
       "    .dataframe tbody tr th:only-of-type {\n",
       "        vertical-align: middle;\n",
       "    }\n",
       "\n",
       "    .dataframe tbody tr th {\n",
       "        vertical-align: top;\n",
       "    }\n",
       "\n",
       "    .dataframe thead th {\n",
       "        text-align: right;\n",
       "    }\n",
       "</style>\n",
       "<table border=\"1\" class=\"dataframe\">\n",
       "  <thead>\n",
       "    <tr style=\"text-align: right;\">\n",
       "      <th></th>\n",
       "      <th>Job Title</th>\n",
       "      <th>Description</th>\n",
       "      <th>Location</th>\n",
       "      <th>url</th>\n",
       "    </tr>\n",
       "  </thead>\n",
       "  <tbody>\n",
       "    <tr>\n",
       "      <th>0</th>\n",
       "      <td>Machine Learning Engineer / Data Scientist</td>\n",
       "      <td>The OpportunityDo you enjoy solving complex pr...</td>\n",
       "      <td>Vancouver</td>\n",
       "      <td>https://ca.indeed.com/pagead/clk?mo=r&amp;ad=-6NYl...</td>\n",
       "    </tr>\n",
       "    <tr>\n",
       "      <th>1</th>\n",
       "      <td>Elementary &amp; High School Math and Science Tuto...</td>\n",
       "      <td>STEM is in and so are you! Tutor Doctor – the ...</td>\n",
       "      <td>Vancouver</td>\n",
       "      <td>https://ca.indeed.com/pagead/clk?mo=r&amp;ad=-6NYl...</td>\n",
       "    </tr>\n",
       "    <tr>\n",
       "      <th>2</th>\n",
       "      <td>Payroll Specialist</td>\n",
       "      <td>Job SummaryThe Payroll Specialist performs acc...</td>\n",
       "      <td>Vancouver</td>\n",
       "      <td>https://ca.indeed.com/pagead/clk?mo=r&amp;ad=-6NYl...</td>\n",
       "    </tr>\n",
       "    <tr>\n",
       "      <th>3</th>\n",
       "      <td>Data Integrity Senior Associate</td>\n",
       "      <td>About adMare\\n\\nadMare BioInnovations is a pan...</td>\n",
       "      <td>Vancouver</td>\n",
       "      <td>https://ca.indeed.com/pagead/clk?mo=r&amp;ad=-6NYl...</td>\n",
       "    </tr>\n",
       "    <tr>\n",
       "      <th>4</th>\n",
       "      <td>Data Scientist 3 - (13828) Vancouver</td>\n",
       "      <td>This is a 6 month contract position. The locat...</td>\n",
       "      <td>Vancouver</td>\n",
       "      <td>https://ca.indeed.com/pagead/clk?mo=r&amp;ad=-6NYl...</td>\n",
       "    </tr>\n",
       "  </tbody>\n",
       "</table>\n",
       "</div>"
      ],
      "text/plain": [
       "                                           Job Title  \\\n",
       "0         Machine Learning Engineer / Data Scientist   \n",
       "1  Elementary & High School Math and Science Tuto...   \n",
       "2                                 Payroll Specialist   \n",
       "3                    Data Integrity Senior Associate   \n",
       "4               Data Scientist 3 - (13828) Vancouver   \n",
       "\n",
       "                                         Description   Location  \\\n",
       "0  The OpportunityDo you enjoy solving complex pr...  Vancouver   \n",
       "1  STEM is in and so are you! Tutor Doctor – the ...  Vancouver   \n",
       "2  Job SummaryThe Payroll Specialist performs acc...  Vancouver   \n",
       "3  About adMare\\n\\nadMare BioInnovations is a pan...  Vancouver   \n",
       "4  This is a 6 month contract position. The locat...  Vancouver   \n",
       "\n",
       "                                                 url  \n",
       "0  https://ca.indeed.com/pagead/clk?mo=r&ad=-6NYl...  \n",
       "1  https://ca.indeed.com/pagead/clk?mo=r&ad=-6NYl...  \n",
       "2  https://ca.indeed.com/pagead/clk?mo=r&ad=-6NYl...  \n",
       "3  https://ca.indeed.com/pagead/clk?mo=r&ad=-6NYl...  \n",
       "4  https://ca.indeed.com/pagead/clk?mo=r&ad=-6NYl...  "
      ]
     },
     "execution_count": 4,
     "metadata": {},
     "output_type": "execute_result"
    }
   ],
   "source": [
    "df.head()"
   ]
  },
  {
   "cell_type": "code",
   "execution_count": 5,
   "metadata": {},
   "outputs": [
    {
     "name": "stdout",
     "output_type": "stream",
     "text": [
      "The total number of rows in the scraped job post data  1615\n"
     ]
    }
   ],
   "source": [
    "print('The total number of rows in the scraped job post data ', len(df))"
   ]
  },
  {
   "cell_type": "code",
   "execution_count": 6,
   "metadata": {},
   "outputs": [
    {
     "name": "stdout",
     "output_type": "stream",
     "text": [
      "After dropping duplicates we have 1541 rows\n"
     ]
    }
   ],
   "source": [
    "# drop duplicates \n",
    "df = df.drop_duplicates(['Location', 'url'], keep= 'first')\n",
    "df = df.reset_index(inplace = False, drop = True)\n",
    "# keep = 'first' the first one seen in the table when a duplicate is found \n",
    "print('After dropping duplicates we have '+ str(len(df))+' rows')\n",
    "\n",
    "# now compared to the old data frame we dropped 1615-1541 = 74 rows that are duplicated"
   ]
  },
  {
   "cell_type": "markdown",
   "metadata": {},
   "source": [
    "## Removing irrelevant jobs\n",
    "* Irrelevant job posts exist because there are some sponsored job postings and job postings in similar fields that can be mistaken by the Indeed search engine.\n",
    "* Take a look at the example below `Elementary & High School Math and Science Tutors`, I think this was included in the search results because people with data science background are good at math and science. However, this is a irrelvant job post that needs to be removed from the data set."
   ]
  },
  {
   "cell_type": "code",
   "execution_count": 7,
   "metadata": {},
   "outputs": [
    {
     "data": {
      "text/plain": [
       "'Elementary & High School Math and Science Tutors (TDBC-05)'"
      ]
     },
     "execution_count": 7,
     "metadata": {},
     "output_type": "execute_result"
    }
   ],
   "source": [
    "df['Job Title'][1]"
   ]
  },
  {
   "cell_type": "markdown",
   "metadata": {},
   "source": [
    "## How do we remove irrelavant jobs?\n",
    "* Lets try to remove by keepinng only records with Job Titles that contains the word `Data` or `Machine` "
   ]
  },
  {
   "cell_type": "code",
   "execution_count": 8,
   "metadata": {},
   "outputs": [],
   "source": [
    "# lower case the job title since if we check contains some string it is case sensitive\n",
    "df['Job Title'] = df['Job Title'].str.lower()"
   ]
  },
  {
   "cell_type": "code",
   "execution_count": 9,
   "metadata": {},
   "outputs": [
    {
     "name": "stdout",
     "output_type": "stream",
     "text": [
      "566\n"
     ]
    }
   ],
   "source": [
    "df = df[((df['Job Title'].str.contains('data', na = False)) | (df['Job Title'].str.contains('machine', na = False)))]\n",
    "df = df.reset_index(inplace = False, drop = True)\n",
    "print(len(df))\n",
    "#df.head()"
   ]
  },
  {
   "cell_type": "markdown",
   "metadata": {},
   "source": [
    "### Now that we have filtered out Job Titles that don't contain `data or machine`  there is only 566 records left in the data set."
   ]
  },
  {
   "cell_type": "markdown",
   "metadata": {},
   "source": [
    "# How will we find the key/critical skills in this data set? \n",
    "\n",
    "### My suggestion is to perform some sort of Topic Modelling method. Some popular Topic modelling methods could be used such as LDA, NMF, LSA etc.\n",
    "\n",
    "### We will perform LDA and NMF first and see how it goes. I've previously used multiple libraries to perform topic modelling such as `gensim` and `sklearn`. Most of my past experience tell me that gensim performs better, and that for smaller data sets NMF may perform better than LDA. However, this really depends on the data set. \n",
    "\n",
    "### Steps:\n",
    "1. preprocess data (vectorizing text)\n",
    "2. observe the most frequent words to get an idea of the data set and possible key skills\n",
    "3. perform `lda` with `sklearn` using both tfidfvectorizer and countvectorizer (will be summarized in the end)\n",
    "4. pefrom `lda` with `gensim` (Usually better performance but for larger data sets)\n",
    "5. perform `NMF` (usually good with smaller data sets and shorter texts)\n",
    "6. Conclusions (summarzing topics and discussing key skills)\n",
    "\n",
    "### Some pitfalls to remember before proceeding. \n",
    "* It is very important to know that 566 text documents is not enough data and we dont expect good results. I will try my best to extract some meaning out of the topics produced.\n",
    "\n",
    "* Also be aware that the number of words in the description is quite short. Usually short text Topic Modelling doesn't perform well as well. We will evaluate the performance by using Coherence scores lets get started with preprocessing! "
   ]
  },
  {
   "cell_type": "markdown",
   "metadata": {},
   "source": [
    "## 1. Preprocessing\n",
    "* I have previously done some topic modelling and did a lot of research on the best ways to preprocess data such as debating which stemmer to use or whether to stem or lemmatize. \n",
    "* In my opinion, in order to truthfully represent the data it is best to lemmatize the text document. \n",
    "* What is a good way to lemmatize? I personally like the use of `pos tagging` in `nltk`, but I have heard that `spacy` is an excellent library that is up to date with the industry in terms of natural language processing. \n",
    "\n",
    "## Steps:\n",
    "1. lowercase text\n",
    "2. remove non ascii\n",
    "3. remove stop words\n",
    "4. lemmatize (Part of Speech Tagging)"
   ]
  },
  {
   "cell_type": "markdown",
   "metadata": {},
   "source": [
    "# Quick Guide: Lemmatization vs Stemming "
   ]
  },
  {
   "cell_type": "code",
   "execution_count": 10,
   "metadata": {},
   "outputs": [],
   "source": [
    "# gensim imports for preprocessing\n",
    "import gensim\n",
    "import nltk\n",
    "from gensim.utils import simple_preprocess\n",
    "from gensim.parsing.preprocessing import STOPWORDS\n",
    "from nltk.stem.porter import *\n",
    "from nltk.stem import WordNetLemmatizer, SnowballStemmer\n",
    "\n",
    "\n",
    "# Using POS Tag to lemmatize\n",
    "from nltk.corpus import wordnet"
   ]
  },
  {
   "cell_type": "markdown",
   "metadata": {},
   "source": [
    "### Stemming normalizes words into its base form while lemmatization is the same but considers the context and converts the word to a meaningful base word. Lemmatization with part of speech tagging makes it even more accurate.\n",
    "* If we compare the results of lemmatization and stemming below we see that when we lemmatize the word `computation`, it will still be `computation` but when we stem the word it becomes `comput`\n",
    "* In this example we see another very bad scenario where if we lemmatize `computation` and `computer` they will both stay in its original form. However, if we stem the two words they will both turn into `comput`. We know that there is quite some difference between `computation` and `computer` and that stemming turns them into the same words `comput`. This is inaccurately representing the data.\n",
    "\n",
    "### The example below shows us why we lemmatize and not stem. It is likely that stemming gives better results in terms of text classification, but what we are trying to do now is more of understanding the text and topics so lets avoid stemming. "
   ]
  },
  {
   "cell_type": "code",
   "execution_count": 11,
   "metadata": {},
   "outputs": [
    {
     "data": {
      "text/plain": [
       "'computation'"
      ]
     },
     "execution_count": 11,
     "metadata": {},
     "output_type": "execute_result"
    }
   ],
   "source": [
    "# when lemmatizing computation => computation\n",
    "WordNetLemmatizer().lemmatize(\"computation\", pos='n')"
   ]
  },
  {
   "cell_type": "code",
   "execution_count": 12,
   "metadata": {},
   "outputs": [
    {
     "data": {
      "text/plain": [
       "'computer'"
      ]
     },
     "execution_count": 12,
     "metadata": {},
     "output_type": "execute_result"
    }
   ],
   "source": [
    "# when lemmatizing computer => computer\n",
    "WordNetLemmatizer().lemmatize(\"computer\", pos='n')"
   ]
  },
  {
   "cell_type": "code",
   "execution_count": 13,
   "metadata": {},
   "outputs": [
    {
     "data": {
      "text/plain": [
       "'comput'"
      ]
     },
     "execution_count": 13,
     "metadata": {},
     "output_type": "execute_result"
    }
   ],
   "source": [
    "# when stemming computation => comput\n",
    "SnowballStemmer('english').stem(\"computation\")"
   ]
  },
  {
   "cell_type": "code",
   "execution_count": 14,
   "metadata": {},
   "outputs": [
    {
     "data": {
      "text/plain": [
       "'comput'"
      ]
     },
     "execution_count": 14,
     "metadata": {},
     "output_type": "execute_result"
    }
   ],
   "source": [
    "# when stemming computer => comput \n",
    "SnowballStemmer('english').stem(\"computer\")"
   ]
  },
  {
   "cell_type": "markdown",
   "metadata": {},
   "source": [
    "### I have noticed that when we are looking for data scientist key skills it is very likely that they are phrases and not single words.  Most key skills that we commonly know of that is related to data scientists are skills such as `machine learning, deep learning, neural networks, and natural language processing` these are not single words, but phrases. This is why when we perform topic modelling we must include bigrams and trigrams in the vectorization steps for a better representation of key skills. \n",
    "\n",
    "### After understanding this situation it is not as necessary to work with gensim. As the reason is no bigrams nor trigrams are likely to be generated. For the gensim phraser to work the text data has to be huge. Because it works on basis of counts of phrases. So this limitation leads us to a new phraser identifier which would be done with the `nltk` library `CountVectorizer` and `TfidfVectorizer`.  But lets take a look anyway."
   ]
  },
  {
   "cell_type": "markdown",
   "metadata": {},
   "source": [
    "# Preprocessing function\n",
    "* contains lemmatization with pos tagging\n",
    "* remove non ascii and stop words\n"
   ]
  },
  {
   "cell_type": "code",
   "execution_count": 15,
   "metadata": {},
   "outputs": [],
   "source": [
    "# Using POS Tag to lemmatize\n",
    "from nltk.corpus import wordnet\n",
    "\n",
    "# get pos tag for lemmetization\n",
    "def get_wordnet_pos(word):\n",
    "    tag = nltk.pos_tag([word])[0][1][0].upper()\n",
    "    tag_dict = {\"J\": wordnet.ADJ,\n",
    "                \"N\": wordnet.NOUN,\n",
    "                \"V\": wordnet.VERB,\n",
    "                \"R\": wordnet.ADV}\n",
    "\n",
    "    return tag_dict.get(tag, wordnet.NOUN)\n",
    "\n",
    "# remove wnon ascii characters\n",
    "def is_ascii(s):\n",
    "    return all(ord(c) < 128 for c in s)\n",
    "\n",
    "stop_words = gensim.parsing.preprocessing.STOPWORDS \n",
    "# We considred using a stemmer, but since we have the pos tags \n",
    "# creating a more accuracte lemmatizer we will not go down that process\n",
    "# better and newwer stemmer than porterstemmer \n",
    "stemmer = SnowballStemmer('english')\n",
    "# stemmer only used for example and comparison between stemmning and lemmatizing in notebook\n",
    "\n",
    "# wrap everything in a preprocessing_text function\n",
    "def preprocess_text(text):\n",
    "    processed = []\n",
    "    for token in gensim.utils.simple_preprocess(text):\n",
    "        if token not in stop_words  and len(token) > 3 and is_ascii(token) == True:\n",
    "            processed.append(WordNetLemmatizer().lemmatize(token, pos = get_wordnet_pos(token)))\n",
    "    return processed"
   ]
  },
  {
   "cell_type": "code",
   "execution_count": 16,
   "metadata": {},
   "outputs": [],
   "source": [
    "# preprocess the description and rename it to processed description\n",
    "\n",
    "df['Processed Description'] = df['Description'].map(preprocess_text)"
   ]
  },
  {
   "cell_type": "markdown",
   "metadata": {},
   "source": [
    "# After preprocessing the description is in the form of a list. "
   ]
  },
  {
   "cell_type": "code",
   "execution_count": 17,
   "metadata": {},
   "outputs": [
    {
     "name": "stdout",
     "output_type": "stream",
     "text": [
      "['company', 'maritime', 'employer', 'association', 'industry', 'data', 'analytics', 'level', 'time', 'location', 'vancouver', 'compensation', 'salary', 'benefit', 'overview', 'support', 'position', 'critical', 'support', 'ongoing', 'development', 'bcmea', 'analytics', 'program', 'push', 'program', 'level', 'support', 'bcmea', 'long', 'term', 'strategic', 'initiative', 'creative', 'require', 'business', 'orient', 'creative', 'inquisitive', 'passionate', 'organize', 'professional', 'strong', 'quantitative', 'background', 'recent', 'professional', 'experience', 'data', 'science', 'collaborate', 'work', 'collaboratively', 'bcmea', 'programmer', 'developer', 'implement', 'conceptualize', 'data', 'pipeline', 'feed', 'model', 'result', 'tableau', 'server', 'bcmea', 'website', 'helm', 'analysis', 'support', 'continued', 'curation', 'bcmea', 'analytics', 'report', 'expand', 'portfolio', 'bcmea', 'analytics', 'report', 'driven', 'demand', 'push', 'candidate', 'bcmea', 'resource', 'act', 'primary', 'resource', 'sophisticated', 'model', 'development', 'data', 'pipeline', 'appropriate', 'give', 'project', 'trend', 'stay', 'abreast', 'waterfront', 'industry', 'trend', 'analytics', 'trend', 'propose', 'method', 'technique', 'push', 'bcmea', 'analytics', 'program', 'level', 'collaboration', 'teamwork', 'high', 'degree', 'interaction', 'staff', 'level', 'association', 'association', 'member', 'company', 'number', 'party', 'stakeholder', 'liaise', 'bcmea', 'requirement', 'experience', 'candidate', 'proven', 'experience', 'business', 'standard', 'data', 'science', 'toolkit', 'python', 'jupyter', 'notebook', 'mongodb', 'tableau', 'experience', 'machine', 'learn', 'knowledge', 'candidate', 'familiar', 'variety', 'statistical', 'mathematical', 'model', 'technique', 'optimization', 'simulation', 'probability', 'distribution', 'familiarity', 'visual', 'best', 'practice', 'degree', 'candidate', 'hold', 'undergraduate', 'degree', 'mathematics', 'science', 'engineering', 'economics', 'finance', 'business', 'similar', 'field', 'combine', 'certificate']\n"
     ]
    }
   ],
   "source": [
    "print(df['Processed Description'][10])"
   ]
  },
  {
   "cell_type": "code",
   "execution_count": 18,
   "metadata": {},
   "outputs": [
    {
     "data": {
      "text/plain": [
       "346.42402826855124"
      ]
     },
     "execution_count": 18,
     "metadata": {},
     "output_type": "execute_result"
    }
   ],
   "source": [
    "# Quick look at the average length of the processed description text document \n",
    "descrip_length = []\n",
    "for text in df['Processed Description']: \n",
    "    descrip_length.append(len(text))\n",
    "df['Document length']  = descrip_length \n",
    "df['Document length'].mean()"
   ]
  },
  {
   "cell_type": "markdown",
   "metadata": {},
   "source": [
    "### Notice that there is on average 350 words in each Data Scientist related Job Posting after preprocessing\n",
    "* This is considered a short text document and generally won't perform well with Topic modelling methods. We can see this with the coherence scores later. "
   ]
  },
  {
   "cell_type": "markdown",
   "metadata": {},
   "source": [
    "## Observe the most frequent/Common phrases utilizing the TfidfVectorizer and CountVectorizer in `sklearn` with different ngrams. \n"
   ]
  },
  {
   "cell_type": "markdown",
   "metadata": {},
   "source": [
    "## Most frequent phrases using TfidfVectorizer with Bigrams and Trigrams"
   ]
  },
  {
   "cell_type": "code",
   "execution_count": 19,
   "metadata": {},
   "outputs": [
    {
     "data": {
      "image/png": "[encoded data removed]",
      "text/plain": [
       "<Figure size 1152x720 with 1 Axes>"
      ]
     },
     "metadata": {
      "needs_background": "light"
     },
     "output_type": "display_data"
    }
   ],
   "source": [
    "# Let's turn the list into a string \n",
    "df['processed_string'] =  [' '.join(words) for words in df['Processed Description']]\n",
    "\n",
    "\n",
    "tfidf = TfidfVectorizer(ngram_range = (2, 3))\n",
    "description = df['processed_string']\n",
    "\n",
    "bagofwords_description = tfidf.fit_transform(description)\n",
    "freq_description = dict(zip(tfidf.get_feature_names(), np.asarray(bagofwords_description.sum(axis=0)).ravel()))\n",
    "count_description = pd.DataFrame(collections.Counter(freq_description).most_common(20), columns = ['phrase', 'frequency'])\n",
    "\n",
    "fig, ax = plt.subplots(figsize=(16, 10))\n",
    "colour = sns.cubehelix_palette(8, start=2, rot=0, dark=0, light=.95, reverse=True)\n",
    "g = sns.barplot(x=\"phrase\", y='frequency', data=count_description, palette=colour, ax=ax)\n",
    "loc, labels = plt.xticks()\n",
    "plt.title('Top 20 most commnon phrases')\n",
    "g.set_xticklabels(labels, rotation=45)\n",
    "plt.show();"
   ]
  },
  {
   "cell_type": "markdown",
   "metadata": {},
   "source": [
    "## CountVectorizer Bigrams and Trigrams "
   ]
  },
  {
   "cell_type": "code",
   "execution_count": 20,
   "metadata": {},
   "outputs": [
    {
     "data": {
      "image/png": "[encoded data removed]",
      "text/plain": [
       "<Figure size 1152x720 with 1 Axes>"
      ]
     },
     "metadata": {
      "needs_background": "light"
     },
     "output_type": "display_data"
    }
   ],
   "source": [
    "cv= CountVectorizer(ngram_range = (2, 3))\n",
    "description = df['processed_string']\n",
    "\n",
    "bagofwords_description = cv.fit_transform(description)\n",
    "freq_description = dict(zip(cv.get_feature_names(), np.asarray(bagofwords_description.sum(axis=0)).ravel()))\n",
    "count_description = pd.DataFrame(collections.Counter(freq_description).most_common(20), columns = ['phrase', 'frequency'])\n",
    "\n",
    "fig, ax = plt.subplots(figsize=(16, 10))\n",
    "colour = sns.cubehelix_palette(8, start=2, rot=0, dark=0, light=.95, reverse=True)\n",
    "g = sns.barplot(x=\"phrase\", y='frequency', data=count_description, palette=colour, ax=ax)\n",
    "loc, labels = plt.xticks()\n",
    "plt.title('Top 20 most commnon words and phrases')\n",
    "g.set_xticklabels(labels, rotation=45)\n",
    "plt.show();"
   ]
  },
  {
   "cell_type": "markdown",
   "metadata": {},
   "source": [
    "# CountVectorizer with trigrams and quadgrams"
   ]
  },
  {
   "cell_type": "code",
   "execution_count": 21,
   "metadata": {
    "scrolled": false
   },
   "outputs": [
    {
     "data": {
      "image/png": "[encoded data removed]",
      "text/plain": [
       "<Figure size 1152x720 with 1 Axes>"
      ]
     },
     "metadata": {
      "needs_background": "light"
     },
     "output_type": "display_data"
    }
   ],
   "source": [
    "cv= CountVectorizer(ngram_range = (3, 4))\n",
    "description = df['processed_string']\n",
    "\n",
    "bagofwords_description = cv.fit_transform(description)\n",
    "freq_description = dict(zip(cv.get_feature_names(), np.asarray(bagofwords_description.sum(axis=0)).ravel()))\n",
    "count_description = pd.DataFrame(collections.Counter(freq_description).most_common(20), columns = ['phrase', 'frequency'])\n",
    "\n",
    "fig, ax = plt.subplots(figsize=(16, 10))\n",
    "colour = sns.cubehelix_palette(8, start=2, rot=0, dark=0, light=.95, reverse=True)\n",
    "g = sns.barplot(x=\"phrase\", y='frequency', data=count_description, palette=colour, ax=ax)\n",
    "loc, labels = plt.xticks()\n",
    "plt.title('Top 20 most commnon words and phrases')\n",
    "g.set_xticklabels(labels, rotation=45)\n",
    "plt.show();"
   ]
  },
  {
   "cell_type": "markdown",
   "metadata": {},
   "source": [
    "# What do we observe from the most common phrases? \n",
    "\n",
    "* summarizing the above 3 bar plots we can say that probably the more important skills are \n",
    "    * Technical skills\n",
    "        * deep learning\n",
    "        * software development\n",
    "        * Algorithm\n",
    "        * machine learning algorithms\n",
    "        * natural language processing\n",
    "        * machine learning models   \n",
    "        * Artificial Intelligence\n",
    "        * kera, tensorflow, spark\n",
    "        * scikit learn\n",
    "        * data pipeline\n",
    "        * data analytics\n",
    " \n",
    "    * other skills/ soft skills\n",
    "        * writing communication skills\n",
    "        * problem solving\n",
    "        * being cross functional\n",
    "        * being up to date with cutting edge/ state of the art machine learning technology\n",
    "        \n",
    "### Note that I did not show tfidfvectorizer with trigrams and quandgrams because the most frequent words were not as meaningful. Understanding the most common/frequent phrases using the two different vectorizers don't necessarily mean much, but gives us an idea of what's happening in our data. I believe the portrayal of common phrases with a bar plot is more easily understood than a word cloud. \n",
    "`    "
   ]
  },
  {
   "cell_type": "markdown",
   "metadata": {},
   "source": [
    "# Topic Modelling \n",
    "# Important Note: There is no need to read all the topics that are printed out by the models, I will summarzie at the very end, thank you!"
   ]
  },
  {
   "cell_type": "markdown",
   "metadata": {},
   "source": [
    "## LDA with Sklearn \n",
    "* now after looking at the multiple ways of vectorizing text using either tfidf and countvectorizer with ngrams we have to decide which one to be used in the model.\n",
    "\n",
    "## Lets test out LDA using `TfidfVectorizer(ngram_range = (2, 3))` first and later test out  `CountVectorizer(ngram_range = (2, 3))` and see which method produces more meaningful topics"
   ]
  },
  {
   "cell_type": "code",
   "execution_count": 21,
   "metadata": {
    "scrolled": false
   },
   "outputs": [
    {
     "name": "stdout",
     "output_type": "stream",
     "text": [
      "Topic 0:\n",
      "machine learn, mobile platform, develop scale, signal processing, field develop scale, communication domain, field develop, unsupervised learn, engineering knowledge, platform mobile\n",
      "\n",
      "\n",
      "Topic 1:\n",
      "machine learn, natural language, natural language processing, language processing role, classification cluster natural, collection feedback, objective collaborate project, language processing, mechanism automate, data year experience\n",
      "\n",
      "\n",
      "Topic 2:\n",
      "application consider, tech role, lead company, company prime, smart city, work excite, junior data scientist, junior data, reach opportunity match, lead company match\n",
      "\n",
      "\n",
      "Topic 3:\n",
      "machine learn, portfolio company, language english, require language english, language english require, linear algebra calculus, learn algorithm, skill english, work smart passionate, http github\n",
      "\n",
      "\n",
      "Topic 4:\n",
      "apprentissage automatique, machine learn, dans domaine, data scientist, open source, experience data science, data science, experience data, global team, entreprises ericsson\n",
      "\n",
      "\n",
      "Topic 5:\n",
      "data science, machine learn, apply statistic, apply data, client data, source solve, matlab etcprogramming, include test, acquire expertise areasensure, analytical statistical method\n",
      "\n",
      "\n",
      "Topic 6:\n",
      "machine learn, vision machine, http clio, vision machine learn, experience vision, vision algorithm, learn algorithm, best manage, python matlab strong, week vacation\n",
      "\n",
      "\n",
      "Topic 7:\n",
      "machine learn, brick mortar, year require, recommendation system, cloud base, software development, marketing customer, training deep neural, mortar store, base software design\n",
      "\n",
      "\n",
      "Topic 8:\n",
      "knowledge enterprise, funnel management, university health, health center, marketing sale team, utilize hypothesis test, sale team, university health centre, mcgill university health, performance solid\n",
      "\n",
      "\n",
      "Topic 9:\n",
      "natural language processing, natural language, language processing, machine learn, deep learn, minimum year, year prefer, machine learn algorithm, learn algorithm, empowerment lifelong\n",
      "\n",
      "\n",
      "Topic 10:\n",
      "feedlot health, bcmea analytics, machine learn, experience advanced, individual animal, research support, data scientist, textual data integrate, feedlot dairy calf, feedlot production\n",
      "\n",
      "\n",
      "Topic 11:\n",
      "postdoctoral scholar, university calgary, insurance company, machine learn, prefer qualification, minimum qualification, rethink insurance, diversity support, analytics actuarial, smart home\n",
      "\n",
      "\n",
      "Topic 12:\n",
      "optimize data, underground navigation, data pipeline, pipeline architecture, navigation year, data pipeline architecture, navigation work, inertial navigation, support data, year require\n",
      "\n",
      "\n",
      "Topic 13:\n",
      "machine learn, year check http, engineer ready, capacity abstract think, learn thing bring, english fast learner, closely work product, matter flexible work, success share, publish article\n",
      "\n",
      "\n",
      "Topic 14:\n",
      "motion metric international, metric international, motion metric, machine learn, learn algorithm, machine learn algorithm, pytorch caffe basic, member prototype, vision base, engineer build disruptive\n",
      "\n",
      "\n",
      "Topic 15:\n",
      "year prefer, data mining, data set, data analytics, machine learn, prefer year prefer, jira domo, year prefer year, data scientist responsible, drive innovation\n",
      "\n",
      "\n",
      "Topic 16:\n",
      "assist develop, food marketing, unhealthy food marketing, digital medium, university calgary, unhealthy food, assist develop artificial, cumming school, monitoring unhealthy, medium assist develop\n",
      "\n",
      "\n",
      "Topic 17:\n",
      "client data experience, semi structure unstructured, ingest process data, development individual, library team data, traditional data warehouse, job website respond, troubleshoot analysis, limited information, handle management\n",
      "\n",
      "\n",
      "Topic 18:\n",
      "machine learn, data science, paytm lab, manager visual, network artist, learn algorithm engineer, performant scalable, microsoft canada, team building, machine learn algorithm\n",
      "\n",
      "\n",
      "Topic 19:\n",
      "machine learn, piece different, context influence, change world, immediately role, pytorch tensor, technology solve, amazon benefit, remain date, linear program\n",
      "\n",
      "\n",
      "Topic 20:\n",
      "data science, machine learn, automate test, work term, scientist actuary, request clarify, change world, tensorflow general, closing statement, include year management\n",
      "\n",
      "\n",
      "Topic 21:\n",
      "medical image, image team, change healthcare, practice involvement, education credential confirmation, machine learn, diagram graph reporting, success ensure solution, tool experience declarative, chart report look\n",
      "\n",
      "\n",
      "Topic 22:\n",
      "analytics model, value safety, data pipeline, data analyst, reward opportunity, transform load, hour work, business user, machine learn, advanced analytics\n",
      "\n",
      "\n",
      "Topic 23:\n",
      "machine learn, connect home, capital resource, north america, vision connect, hyper parameter, global vision connect, toronto work, hyper parameter optimization, optimization hyper\n",
      "\n",
      "\n",
      "Topic 24:\n",
      "data integrity, integrity data, company scale, host monthly, project intermediate, constructively offer, admare look, additional step build, management related activity, work culture champion\n",
      "\n",
      "\n"
     ]
    }
   ],
   "source": [
    "# Using TfidfVectorizer(ngram_range = (2, 3))\n",
    "\n",
    "from sklearn.decomposition import LatentDirichletAllocation\n",
    "\n",
    "# vectorize text using tfidf bigrams and trigrams \n",
    "tfidf = TfidfVectorizer(ngram_range = (2, 3))\n",
    "description = df['processed_string']\n",
    "\n",
    "bagofwords_description = tfidf.fit_transform(description)\n",
    "\n",
    "features = tfidf.get_feature_names()\n",
    "\n",
    "# we suggest that there are 25 topics since later we will see that gensim lda mallet tells us that \n",
    "# based on the coherence scores 25 topics best represent this data set\n",
    "\n",
    "lda_tfidf = LatentDirichletAllocation(n_components=25, max_iter=5, learning_method='online', learning_offset=50.,random_state=3).fit(bagofwords_description)\n",
    "\n",
    "# print topic funciton\n",
    "def print_topics(model, feature_names, top_words):\n",
    "    for idx, topic in enumerate(model.components_):\n",
    "        print (\"Topic %d:\" % (idx))  \n",
    "        print (\", \".join([feature_names[i] for i in topic.argsort()[:-top_words - 1:-1]]))\n",
    "        print( \"\\n\")\n",
    "\n",
    "# print topics\n",
    "print_topics(lda_tfidf, features, 10)"
   ]
  },
  {
   "cell_type": "code",
   "execution_count": 36,
   "metadata": {
    "scrolled": false
   },
   "outputs": [
    {
     "name": "stdout",
     "output_type": "stream",
     "text": [
      "Topic 0:\n",
      "machine learn, university calgary, postdoctoral scholar, quantum compute, data scientist, data science, real time, software developer, work closely, industry lead\n",
      "\n",
      "\n",
      "Topic 1:\n",
      "machine learn, data science, data scientist, year experience, deep learn, software development, experience work, degree science, data pipeline, year require\n",
      "\n",
      "\n",
      "Topic 2:\n",
      "machine learn, operator responsible, team member, work support, duty assign, integrate lean sigma, integrate lean, future snack, drive performance, lead future snack\n",
      "\n",
      "\n",
      "Topic 3:\n",
      "data analysis, data science, team member, machine learn, equal opportunity employer, opportunity employer, equal opportunity, critical think, join team, location location\n",
      "\n",
      "\n",
      "Topic 4:\n",
      "machine learn, underground navigation, data science, portfolio company, data scientist, master degree, degree require, navigation work, master degree require, language english\n",
      "\n",
      "\n",
      "Topic 5:\n",
      "mobile growth, analytics team, customer behavior, growth analytics, well understand, mobile growth analytics, growth analytics team, data pipeline, data model, improve data\n",
      "\n",
      "\n",
      "Topic 6:\n",
      "machine learn, data science, data scientist, related field, deep learn, lead team, communication skill, year experience, data science team, science team\n",
      "\n",
      "\n",
      "Topic 7:\n",
      "machine learn, daisy intelligence, learn engineer, machine learn engineer, skill ability, analytics solution, neural network, algorithm development, software solution, mathematical model\n",
      "\n",
      "\n",
      "Topic 8:\n",
      "canada employer, vocale interactive, connaissance avec, consecutive year, experience knowledge, assistant virtuel, skill ability, customer service, canada employer young, langues naturelles\n",
      "\n",
      "\n",
      "Topic 9:\n",
      "science engineering, bachelor degree, data set, program experience, data science, program experience python, experience python, communication skill, machine learn, degree science\n",
      "\n",
      "\n",
      "Topic 10:\n",
      "machine learn, deep learn, signal processing, develop scale, communication domain, field develop scale, field develop, type time, science engineering, cut edge\n",
      "\n",
      "\n",
      "Topic 11:\n",
      "smart home, machine learn, office yoga, team deliver, http youtube watch, office yoga class, youtube watch, bonus amazon, offer competitive, http youtube\n",
      "\n",
      "\n",
      "Topic 12:\n",
      "experience advanced, machine learn, customer experience, experience scientist, numerical textual data, advanced mathematics, software clean, data set numerical, apis discover, integrate external source\n",
      "\n",
      "\n",
      "Topic 13:\n",
      "mise place, connaissance technique, leur candidature, intelligence affaire, activement initiative, analysis statistiques, identifier affaire, mesure performance, affaire connaissance, affichage externe\n",
      "\n",
      "\n",
      "Topic 14:\n",
      "data pipeline, advanced analytics, hour work, value safety, reward opportunity, business user, data source, analytics model, data engineer, data warehouse\n",
      "\n",
      "\n",
      "Topic 15:\n",
      "machine learn, data scientist, data science, apprentissage automatique, data set, data source, experience data, artificial intelligence, deep learn, year prefer\n",
      "\n",
      "\n",
      "Topic 16:\n",
      "university calgary, food marketing, assist develop, digital medium, unhealthy food marketing, unhealthy food, cumming school, school medicine, cumming school medicine, mobile game\n",
      "\n",
      "\n",
      "Topic 17:\n",
      "feedlot health, insurance company, support team, work environment, data management, research support team, individual animal, problem solve, microsoft access, research data\n",
      "\n",
      "\n",
      "Topic 18:\n",
      "microsoft canada, azure data, realize potential, technique premier, customer experience, mesures adaptation, work environment, vous devez, machine learn, ssis ssa ssrs\n",
      "\n",
      "\n",
      "Topic 19:\n",
      "machine learn, actionable business, flexible work, data machine, data machine learn, data insight, weekly lunch, undergraduate degree, small team, sexual orientation gender\n",
      "\n",
      "\n",
      "Topic 20:\n",
      "technology experience, production system, continuous integration, machine learn, integration system jenkins, set answer, integration system, global relay lead, verbal write communication, relay lead\n",
      "\n",
      "\n",
      "Topic 21:\n",
      "bcmea analytics, data science, data pipeline, analytics program, analytics report, bcmea analytics program, bcmea analytics report, program level, jupyter notebook, tableau server\n",
      "\n",
      "\n",
      "Topic 22:\n",
      "statistical analysis, machine learn, principal investigator, biobank data, apprentissage machine, clean food, large scale, data analyst, jessica dennis, salary range\n",
      "\n",
      "\n",
      "Topic 23:\n",
      "data science, data scientist, year experience, data analytics, machine learn, data solution, data model, data architect, problem solve, design implement\n",
      "\n",
      "\n",
      "Topic 24:\n",
      "machine learn, natural language, deep learn, language processing, natural language processing, data integrity, minimum year, integrity data, year prefer, machine learn algorithm\n",
      "\n",
      "\n"
     ]
    }
   ],
   "source": [
    "# Using TfidfVectorizer(ngram_range = (2, 3))\n",
    "\n",
    "from sklearn.decomposition import LatentDirichletAllocation\n",
    "\n",
    "# vectorize text using tfidf bigrams and trigrams \n",
    "cv= CountVectorizer(ngram_range = (2, 3))\n",
    "description = df['processed_string']\n",
    "\n",
    "bagofwords_description = cv.fit_transform(description)\n",
    "\n",
    "features = cv.get_feature_names()\n",
    "\n",
    "# we suggest that there are 25 topics since later we will see that gensim lda mallet tells us that \n",
    "# based on the coherence scores 25 topics best represent this data set\n",
    "\n",
    "lda_count = LatentDirichletAllocation(n_components=25, max_iter=5, learning_method='online', learning_offset=50.,random_state=3).fit(bagofwords_description)\n",
    "\n",
    "# print topics \n",
    "print_topics(lda_count, features, 10)"
   ]
  },
  {
   "cell_type": "markdown",
   "metadata": {},
   "source": [
    "## Let's try `Gensim`'s `LDA Mallet` one of the better built LDA libraries\n",
    "### As mentioned above gensim phraser has problems with small data sets and it is clearly seen in the topics below. Most topics have single words associated with it and we want bigrams or trigrams. The only trigram that is seen is `natural language processing` and that is not enough.\n",
    "\n",
    "### I suggest only using Gensim's LDA Mallet to understand the optimal number of topics that gives the highest coherence value\n"
   ]
  },
  {
   "cell_type": "markdown",
   "metadata": {},
   "source": [
    "### Setup bigrams trigrams and build Corpus"
   ]
  },
  {
   "cell_type": "code",
   "execution_count": 23,
   "metadata": {},
   "outputs": [],
   "source": [
    "import gensim\n",
    "\n",
    "import gensim.corpora as corpora\n",
    "\n",
    "bigram = gensim.models.phrases.Phraser(gensim.models.Phrases(df['Processed Description'].tolist(),\n",
    "                                                                     min_count=1,\n",
    "                                                                     threshold=100))\n",
    "\n",
    "trigram = gensim.models.phrases.Phraser(gensim.models.Phrases(bigram[df['Processed Description'].tolist()],\n",
    "                                                                      threshold=100))\n",
    "\n",
    "bigrams = [bigram[phrase] for phrase in df['Processed Description'].tolist()]\n",
    "trigrams = [trigram[bigram[phrase]] for phrase in df['Processed Description'].tolist()]\n",
    "\n",
    "\n",
    "\n",
    "dictionary = corpora.Dictionary(trigrams)\n",
    "# keep only the terms that appear more than 3 times and only the top 10000\n",
    "dictionary.filter_extremes(no_above = 3, no_below = 0.1, keep_n = 10000)\n",
    "document =trigrams\n",
    "\n",
    "corpus = [dictionary.doc2bow(text) for text in document]"
   ]
  },
  {
   "cell_type": "code",
   "execution_count": 24,
   "metadata": {},
   "outputs": [],
   "source": [
    "import os\n",
    "from gensim.models.wrappers import LdaMallet\n",
    "from gensim.models import CoherenceModel\n",
    "coherence_scores = []\n",
    "\n",
    "\n",
    "# since we want to know the coherence of different topics lets write a loop to iterate to the multiple topics \n",
    "topics  = [5,10,15,20,25,30]\n",
    "\n",
    "for i in topics:\n",
    "    mallet = gensim.models.wrappers.LdaMallet('/Users/chi/desktop/webscraper/mallet-2.0.8/bin/mallet', \n",
    "                                              corpus=corpus, \n",
    "                                              num_topics=i,\n",
    "                                              id2word=dictionary,\n",
    "                                              workers = 4,random_seed = 2013)\n",
    "    coherence_mallet = CoherenceModel(model=mallet, texts=document, dictionary=dictionary, coherence='c_v').get_coherence()\n",
    "    coherence_scores.append(coherence_mallet)"
   ]
  },
  {
   "cell_type": "code",
   "execution_count": 25,
   "metadata": {},
   "outputs": [
    {
     "data": {
      "image/png": "[encoded data removed]",
      "text/plain": [
       "<Figure size 432x288 with 1 Axes>"
      ]
     },
     "metadata": {},
     "output_type": "display_data"
    }
   ],
   "source": [
    "import matplotlib.pyplot as plt\n",
    "from matplotlib import pylab\n",
    "import numpy as np\n",
    "import seaborn as sns; sns.set()\n",
    "topics  = [5,10,15,20,25,30]\n",
    "\n",
    "palette = dict(zip([1,2],sns.color_palette(\"nipy_spectral_r\", 4)))\n",
    "\n",
    "ax1 = sns.lineplot(topics ,coherence_scores, palette = palette, label = \"lda mallet\")\n",
    "\n",
    "ax1.set(xlabel ='Topics')\n",
    "ax1.set(ylabel = 'Coherence ')\n",
    "ax1.set_title('Coherence Values by Number of Topics')\n",
    "leg =ax1.legend()\n",
    "\n",
    "plt.show()"
   ]
  },
  {
   "cell_type": "markdown",
   "metadata": {},
   "source": [
    "### We see that coherence peaks at 25 topics so we will use 25 topics to represent the data. Also note that the coherence score 0.385 is quite low. I've previously worked with a data set that had 400,000 records and the coherence score was much higher (around 0.6). This shows that the data collection is flawed and may affect the understanding of the topics. However, we will proceed and try to extract as much information as we could. \n",
    "\n",
    "\n",
    "# Observing the topics produced by LDA Mallet\n",
    "\n",
    "* I don't think it is quite clear to me what each topic represents. In addition, I also looked into the text documents that are highly associated with each topic. It was not direct and clear to me what each topic was trying to convey. This is most likely because single words without the use of bigrams or trigrams limits the understanding of the topics. Compared to the other topics generated by lda in sklearn \n",
    "\n",
    "# The bottom output of lda mallet topics may be ignored. It is not a good representation of topic and I left it there as a reference. Topics make more sense when more bigrams and trigrams are involved."
   ]
  },
  {
   "cell_type": "code",
   "execution_count": 26,
   "metadata": {},
   "outputs": [
    {
     "name": "stdout",
     "output_type": "stream",
     "text": [
      "Topic: 0 \n",
      "Words: 0.043*\"work\" + 0.028*\"team\" + 0.022*\"canada\" + 0.021*\"product\" + 0.020*\"company\" + 0.015*\"data\" + 0.013*\"insurance\" + 0.012*\"grow\" + 0.012*\"culture\" + 0.011*\"analysis\" \n",
      "\n",
      "Topic: 1 \n",
      "Words: 0.038*\"team\" + 0.027*\"skill\" + 0.027*\"role\" + 0.025*\"lead\" + 0.023*\"company\" + 0.020*\"mobile\" + 0.016*\"experience\" + 0.015*\"technology\" + 0.014*\"communication\" + 0.014*\"customer\" \n",
      "\n",
      "Topic: 2 \n",
      "Words: 0.062*\"learn\" + 0.044*\"algorithm\" + 0.042*\"work\" + 0.040*\"machine\" + 0.033*\"team\" + 0.023*\"experience\" + 0.020*\"design\" + 0.020*\"vision\" + 0.020*\"implement\" + 0.020*\"high\" \n",
      "\n",
      "Topic: 3 \n",
      "Words: 0.044*\"learn\" + 0.043*\"team\" + 0.043*\"work\" + 0.024*\"machine\" + 0.023*\"engineer\" + 0.022*\"building\" + 0.017*\"problem\" + 0.017*\"skill\" + 0.016*\"build\" + 0.016*\"experience\" \n",
      "\n",
      "Topic: 4 \n",
      "Words: 0.027*\"work\" + 0.017*\"opportunity\" + 0.016*\"employee\" + 0.011*\"community\" + 0.011*\"benefit\" + 0.010*\"montreal\" + 0.010*\"diverse\" + 0.009*\"environment\" + 0.009*\"canada\" + 0.009*\"commit\" \n",
      "\n",
      "Topic: 5 \n",
      "Words: 0.066*\"technology\" + 0.062*\"company\" + 0.039*\"engineering\" + 0.025*\"role\" + 0.021*\"learn\" + 0.017*\"machine\" + 0.016*\"network\" + 0.015*\"development\" + 0.015*\"mathematics\" + 0.015*\"management\" \n",
      "\n",
      "Topic: 6 \n",
      "Words: 0.063*\"data\" + 0.044*\"related\" + 0.027*\"company\" + 0.023*\"experience\" + 0.021*\"integrity\" + 0.020*\"team\" + 0.019*\"development\" + 0.019*\"work\" + 0.018*\"project\" + 0.016*\"quality\" \n",
      "\n",
      "Topic: 7 \n",
      "Words: 0.060*\"ericsson\" + 0.035*\"technology\" + 0.035*\"dans\" + 0.024*\"data\" + 0.021*\"learn\" + 0.019*\"intelligence\" + 0.017*\"machine\" + 0.017*\"service\" + 0.014*\"source\" + 0.014*\"skill\" \n",
      "\n",
      "Topic: 8 \n",
      "Words: 0.070*\"experience\" + 0.056*\"learn\" + 0.054*\"machine\" + 0.039*\"development\" + 0.024*\"design\" + 0.024*\"year\" + 0.022*\"work\" + 0.021*\"implementation\" + 0.021*\"data\" + 0.019*\"environment\" \n",
      "\n",
      "Topic: 9 \n",
      "Words: 0.070*\"data\" + 0.037*\"client\" + 0.025*\"work\" + 0.021*\"solution\" + 0.019*\"insight\" + 0.017*\"large\" + 0.017*\"analytics\" + 0.015*\"time\" + 0.014*\"datasets\" + 0.014*\"provide\" \n",
      "\n",
      "Topic: 10 \n",
      "Words: 0.057*\"experience\" + 0.048*\"data\" + 0.044*\"learn\" + 0.032*\"year\" + 0.032*\"machine\" + 0.027*\"require\" + 0.027*\"software\" + 0.023*\"development\" + 0.021*\"system\" + 0.020*\"product\" \n",
      "\n",
      "Topic: 11 \n",
      "Words: 0.062*\"learn\" + 0.035*\"data\" + 0.032*\"machine\" + 0.028*\"year\" + 0.022*\"opportunity\" + 0.022*\"deep\" + 0.021*\"build\" + 0.021*\"prefer\" + 0.019*\"natural_language_processing\" + 0.018*\"algorithm\" \n",
      "\n",
      "Topic: 12 \n",
      "Words: 0.034*\"team\" + 0.033*\"software\" + 0.022*\"learn\" + 0.017*\"world\" + 0.014*\"machine\" + 0.014*\"change\" + 0.014*\"problem\" + 0.013*\"support\" + 0.013*\"work\" + 0.012*\"performance\" \n",
      "\n",
      "Topic: 13 \n",
      "Words: 0.145*\"data\" + 0.031*\"analytics\" + 0.030*\"business\" + 0.025*\"design\" + 0.025*\"year\" + 0.024*\"source\" + 0.023*\"prefer\" + 0.021*\"experience\" + 0.020*\"provide\" + 0.020*\"intelligence\" \n",
      "\n",
      "Topic: 14 \n",
      "Words: 0.040*\"team\" + 0.029*\"data\" + 0.028*\"work\" + 0.020*\"experience\" + 0.016*\"product\" + 0.013*\"write\" + 0.013*\"model\" + 0.012*\"business\" + 0.011*\"customer\" + 0.011*\"build\" \n",
      "\n",
      "Topic: 15 \n",
      "Words: 0.080*\"business\" + 0.076*\"science\" + 0.072*\"model\" + 0.071*\"solution\" + 0.053*\"team\" + 0.033*\"scientist\" + 0.032*\"industry\" + 0.031*\"environment\" + 0.031*\"technology\" + 0.031*\"experience\" \n",
      "\n",
      "Topic: 16 \n",
      "Words: 0.036*\"experience\" + 0.029*\"learn\" + 0.026*\"machine\" + 0.026*\"position\" + 0.022*\"information\" + 0.021*\"algorithm\" + 0.019*\"qualification\" + 0.018*\"develop\" + 0.016*\"work\" + 0.016*\"vision\" \n",
      "\n",
      "Topic: 17 \n",
      "Words: 0.040*\"research\" + 0.021*\"learn\" + 0.019*\"develop\" + 0.017*\"application\" + 0.016*\"scale\" + 0.016*\"engineering\" + 0.016*\"problem\" + 0.015*\"development\" + 0.015*\"project\" + 0.014*\"industry\" \n",
      "\n",
      "Topic: 18 \n",
      "Words: 0.062*\"learn\" + 0.062*\"machine\" + 0.044*\"data\" + 0.033*\"model\" + 0.029*\"strong\" + 0.026*\"skill\" + 0.024*\"organization\" + 0.023*\"experience\" + 0.019*\"technology\" + 0.017*\"analysis\" \n",
      "\n",
      "Topic: 19 \n",
      "Words: 0.108*\"data\" + 0.048*\"science\" + 0.033*\"analysis\" + 0.029*\"statistical\" + 0.026*\"learn\" + 0.025*\"apply\" + 0.023*\"technique\" + 0.023*\"experience\" + 0.021*\"statistic\" + 0.020*\"analytical\" \n",
      "\n",
      "Topic: 20 \n",
      "Words: 0.032*\"pour\" + 0.020*\"avec\" + 0.020*\"dans\" + 0.015*\"technique\" + 0.015*\"science\" + 0.014*\"service\" + 0.012*\"skill\" + 0.011*\"knowledge\" + 0.009*\"client\" + 0.009*\"information\" \n",
      "\n",
      "Topic: 21 \n",
      "Words: 0.131*\"data\" + 0.036*\"work\" + 0.018*\"tool\" + 0.014*\"experience\" + 0.013*\"warehouse\" + 0.012*\"architecture\" + 0.011*\"engineering\" + 0.011*\"engineer\" + 0.011*\"technology\" + 0.010*\"design\" \n",
      "\n",
      "Topic: 22 \n",
      "Words: 0.062*\"data\" + 0.040*\"experience\" + 0.021*\"test\" + 0.021*\"solution\" + 0.019*\"application\" + 0.017*\"include\" + 0.015*\"spark\" + 0.013*\"cloud\" + 0.013*\"platform\" + 0.012*\"deliver\" \n",
      "\n",
      "Topic: 23 \n",
      "Words: 0.148*\"data\" + 0.028*\"experience\" + 0.026*\"work\" + 0.022*\"pipeline\" + 0.022*\"architecture\" + 0.020*\"support\" + 0.019*\"design\" + 0.018*\"tool\" + 0.018*\"infrastructure\" + 0.017*\"optimize\" \n",
      "\n",
      "Topic: 24 \n",
      "Words: 0.067*\"data\" + 0.035*\"product\" + 0.026*\"business\" + 0.022*\"customer\" + 0.019*\"management\" + 0.018*\"service\" + 0.017*\"create\" + 0.017*\"process\" + 0.017*\"technical\" + 0.015*\"support\" \n",
      "\n"
     ]
    }
   ],
   "source": [
    "optimal_topics_lda = gensim.models.wrappers.LdaMallet('/Users/chi/desktop/webscraper/mallet-2.0.8/bin/mallet', \n",
    "                                              corpus=corpus, \n",
    "                                              num_topics=25,\n",
    "                                              id2word=dictionary,\n",
    "                                              workers = 4,random_seed = 2013)\n",
    "\n",
    "for idx, topic in optimal_topics_lda.print_topics(-1):\n",
    "    print('Topic: {} \\nWords: {} \\n'.format(idx, topic))"
   ]
  },
  {
   "cell_type": "markdown",
   "metadata": {},
   "source": [
    "# NMF\n",
    "### NMF (Nonnegative Matrix Factorization) in sklearn. \n",
    "### NMF performs rather differently than LDA. LDA is probabilitic while NMF relies on decomposition of a matrix into two Nonnegative matrices (relies heavily on linear algebra). \n",
    "\n",
    "\n",
    "* I will only test out TfidfVectorizer, different vectorizers can be test for further research.\n",
    "* NMF is also very similiar to PCA, quite oftenly used for very simple image compression.\n",
    "* [read more here](https://en.wikipedia.org/wiki/Non-negative_matrix_factorization)"
   ]
  },
  {
   "cell_type": "code",
   "execution_count": 27,
   "metadata": {
    "scrolled": false
   },
   "outputs": [
    {
     "name": "stdout",
     "output_type": "stream",
     "text": [
      "Topic 0:\n",
      "natural language processing, natural language, language processing, machine learn, deep learn, minimum year, year prefer, machine learn algorithm, learn algorithm, concept argue\n",
      "\n",
      "\n",
      "Topic 1:\n",
      "apprentissage automatique, dans domaine, entreprises ericsson, ericsson offering, employee assign, machine learn, dans cadre, global team, intelligence artificielle, data scientist\n",
      "\n",
      "\n",
      "Topic 2:\n",
      "year prefer, data set, data mining, data analytics, year prefer year, jira domo, prefer year prefer, data scientist responsible, scientist responsible, drive innovation\n",
      "\n",
      "\n",
      "Topic 3:\n",
      "data integrity, integrity data, company scale, policy develops writes, culture champion, dossier ensure quality, culture champion innovation, personnel summary reporting, personnel summary, data documentation develops\n",
      "\n",
      "\n",
      "Topic 4:\n",
      "brick mortar, year require, recommendation system, cloud base, software development, machine learn, sell merchandise, innovation lab, munging data nosql, architecting data model\n",
      "\n",
      "\n",
      "Topic 5:\n",
      "motion metric international, metric international, motion metric, machine learn algorithm, learn algorithm, machine learn, addition vision, addition vision base, define validation performance, define validation\n",
      "\n",
      "\n",
      "Topic 6:\n",
      "machine learn, natural language processing, language processing, natural language, real world, suggest enhancement classification, emphasis classification, unstructured mining, manipulation script, manipulation script python\n",
      "\n",
      "\n",
      "Topic 7:\n",
      "tech role, company prime, application consider, lead company, unique quality, unique quality trait, start complete minute, start complete, prime work important, qualify seeker company\n",
      "\n",
      "\n",
      "Topic 8:\n",
      "data science, apply statistic, apply data, client data, machine learn, product service, learn data engineering, data science toolbox, product service primary, code advance\n",
      "\n",
      "\n",
      "Topic 9:\n",
      "smart city, junior data scientist, work excite, junior data, alten email email, focus automation power, focus automation, automation large scale, opportunity work excite, automation power\n",
      "\n",
      "\n",
      "Topic 10:\n",
      "portfolio company, build company, start studio, embed system, engineering manager, mathematics statistic, technology company, university columbia, mary university, mary university mcgill\n",
      "\n",
      "\n",
      "Topic 11:\n",
      "machine learn, machine learn specialist, learn specialist, data scientist machine, scientist machine learn, scientist machine, strong program skill, strong program, experience data, exist data\n",
      "\n",
      "\n",
      "Topic 12:\n",
      "machine learn algorithm, learn algorithm, face communicate, fresh build ground, give freedom, engineer responsible, engineer responsible design, give freedom decide, spark experience deep, address potential problem\n",
      "\n",
      "\n",
      "Topic 13:\n",
      "field develop, communication domain, field develop scale, develop scale, signal processing, domain develop practical, international journal, international journal obtain, technology safely effectively, technology safely\n",
      "\n",
      "\n",
      "Topic 14:\n",
      "vision machine learn, experience vision, vision machine, vision algorithm, machine learn, want need, hassoulas groomassocies, sensor technology combine, algorithm system image, line sensor\n",
      "\n",
      "\n",
      "Topic 15:\n",
      "canada employer, assistant virtuel, consecutive year, connaissance avec, vocale interactive, experience knowledge, assistant virtuel vocale, langues naturelles pour, virtuel vocale interactive, virtual assistant\n",
      "\n",
      "\n",
      "Topic 16:\n",
      "operator responsible, duty assign, lead future, lean sigma, future snack, integrate lean, integrate lean sigma, snack right, lead future snack, work support\n",
      "\n",
      "\n",
      "Topic 17:\n",
      "optimize data, data pipeline, pipeline architecture, data pipeline architecture, support data, building optimize, stream processing, optimal data, data data pipeline, optimize data data\n",
      "\n",
      "\n",
      "Topic 18:\n",
      "data architecture, data warehouse, data architecture engineering, define implement, architecture engineering, data collection, continue reflect, picture passion solve, source data warehouse, maintain script extract\n",
      "\n",
      "\n",
      "Topic 19:\n",
      "http clio, clio recognize, best manage, year http, clio pressrelease, http clio pressrelease, canada small, canada small medium, scientific culture, pressrelease clio recognize\n",
      "\n",
      "\n",
      "Topic 20:\n",
      "platform mobile, mobile platform, mobile platform mobile, engineering knowledge, supervise unsupervised learn, unsupervised learn, team improve, supervise unsupervised, mobile program android, mobile role\n",
      "\n",
      "\n",
      "Topic 21:\n",
      "batch real, batch real time, bring deep, digital product, architecture batch real, solution analyze data, experienced object, data head developer, experienced object orient, platform large\n",
      "\n",
      "\n",
      "Topic 22:\n",
      "lead team, track record, recruiting technology, engineering science math, statistic economics related, science math statistic, math statistic economics, track record work, science math, recruiting technology team\n",
      "\n",
      "\n",
      "Topic 23:\n",
      "underground navigation, navigation year, navigation work, inertial navigation, year require, algorithm translate sensor, mathematics underpin, dowhat needstrong theoretical, dowhat needstrong, large offline cod\n",
      "\n",
      "\n",
      "Topic 24:\n",
      "global vision connect, connect home, parameter optimization, hyper parameter optimization, hyper parameter, optimization hyper parameter, optimization hyper, vision connect, toronto work, global vision\n",
      "\n",
      "\n"
     ]
    }
   ],
   "source": [
    "from sklearn.decomposition import NMF\n",
    "\n",
    "def topics(model, feature_names, top_words):\n",
    "    for idx, topic in enumerate(model.components_):\n",
    "        print (\"Topic %d:\" % (idx))  \n",
    "        print (\", \".join([feature_names[i] for i in topic.argsort()[:-top_words - 1:-1]]))\n",
    "        print( \"\\n\")\n",
    "\n",
    "tfidf = TfidfVectorizer(ngram_range = (2, 3))\n",
    "description = df['processed_string']\n",
    "\n",
    "bagofwords_description = tfidf.fit_transform(description)\n",
    "\n",
    "nmf = NMF(n_components=25, random_state=3, alpha=.1, l1_ratio=.5, init='nndsvd').fit(bagofwords_description)\n",
    "\n",
    "features = tfidf.get_feature_names()\n",
    "\n",
    "topics(nmf, features, 10)\n"
   ]
  },
  {
   "cell_type": "markdown",
   "metadata": {},
   "source": [
    "# Conclusion\n",
    "### After assessing all the different methods I have summarzed a table of what is possibly the key topics of this particular data set (I only included the topics that were easy to interpret) . It is hard to read and understand each of the topics above so if necessary only read the summarized topics, thank you.\n",
    "\n",
    "### Note: It is necessary to read the highly associated orginal descriptions of the job post to understand each topic better. \n",
    "### NMF: \n",
    "* Topic 1: Natural Language Processing skills: natural language processing, deep learning, classification, unstructured mining\n",
    "* Topic 2: Understanding Optimization (Parameter optimization)\n",
    "* Topic 3: Areas of study (Education): math, statistics, economics, engineering, computer science\n",
    "* Topic 4: Database knwoledge: Data Warehouse, data engineering, data architecture, data collection\n",
    "* Topic 5: Data pipeline knowledge: data pipeline, pipeline architecture, stream processing, optimization\n",
    "* topic 6: Machine Vision knowledge: vision machine learning, vision algorithm, machine vision\n",
    "* Topic 7: A requirement for years of experience\n",
    "* Topic 8: Data Integrety \n",
    "    \n",
    "### LDA `sklearn`\n",
    "* Topic 1: Research skills: research experience, global research, Phd, data science, machine learning\n",
    "* Topic 2: General key skills: software development, cloud computing, recommnendation system, deep learning\n",
    "* Topic 3: Machine learning, machine learning algorithm (Algorithm focused)\n",
    "* Topic 4: Traits: team work ability, drive performance, lead future\n",
    "* Topic 5: General key skills:  machine learn, quantum compute, deep learn, software developer, software engineering\n",
    "* Topic 6: Business Traits: decision make, finding patterns in data, funnel management, knowledge of enterprise, marketing and sales \n",
    "* Topic 7: Big data skills: machine learning, deep learn, signal processing, data analysis, data mining, large scale\n",
    "* Topic 8: Ability to work with multiple types of data: numerical, categorical, textual, etc\n",
    "* Topic 9: Education: quantitative field, data science, actuarial science, analytics actuarial, science engineering, bachelor degree\n",
    "* Topic 10: Data Processing skills: data processing, distribute data processing distribute data, hadoop\n",
    "* Topic 11: Software engineering skills: testing and debugging application, project and partner management, development testing, github experience, test automation\n",
    "* Topic 12: Deep Learning skills: mxnet tensorflow pytorch, framework apache mxnet, apache mxnet tensorflow, mxnet tensorflow, sagemaker lambda, learn framework apache, apache mxnet, framework apache,\n",
    "* Topic 13: Medical knowledge: medical image processing, etc\n",
    "* Topic 14: Cloud Computing: cloud data, cloud data architect,\n",
    "* Topic 15: Continuous integration knowledge: continuous integration, production system, integration system jenkins, jenkins bamboo, system jenkins, integration system, system jenkins bamboo, continuous integration system\n",
    "* Topic 16: Natural Language processing skills: machine learning, deep learning, natural language, language processing, natural language processing, algorithms\n",
    "* Topic 17: Data pipeline and database knowledge: data pipeline, data pipeline architecture, support data, data delivery, building optimize, stream processing, optimal data\n",
    "* Topic 18: Data Integretay knowledge:  data integrity\n",
    "* Topic 19: More Cloud Computing knowledge: cloud data architect, machine learn, cloud data, experience engineering software, simulation model experience, open source azure,\n",
    "* Topic 20: Machine Vision Knowledge: vision machine, vision machine learn, experience vision, machine learn, vision algorithm\n",
    "\n",
    "# Further Research:\n",
    "* I tried to keep this notebook as short as possible to dicuss the different topic modelling methods. There are many things that can be optimized such as the parameters in the vectorizer and the parameters in the lda models. Through trial and error we can get a better understanding of the data set. \n",
    "* It is also nice to visualize the topic with pyLDAvis as mentioned I want to keep this notebook short so we will not proceed with the visualization.\n",
    "\n",
    "* Finally, I want to mention that there are many other topic modelling methods out there that are much more complicated such as `LDA2vec` and `word embeddings`. "
   ]
  }
 ],
 "metadata": {
  "kernelspec": {
   "display_name": "Python 3",
   "language": "python",
   "name": "python3"
  },
  "language_info": {
   "codemirror_mode": {
    "name": "ipython",
    "version": 3
   },
   "file_extension": ".py",
   "mimetype": "text/x-python",
   "name": "python",
   "nbconvert_exporter": "python",
   "pygments_lexer": "ipython3",
   "version": "3.6.8"
  }
 },
 "nbformat": 4,
 "nbformat_minor": 2
}
